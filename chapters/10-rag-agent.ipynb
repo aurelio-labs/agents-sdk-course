{
 "cells": [
  {
   "cell_type": "markdown",
   "metadata": {},
   "source": [
    "RAG AGENT"
   ]
  },
  {
   "cell_type": "markdown",
   "metadata": {},
   "source": [
    "ADD ALL PRE REQS"
   ]
  },
  {
   "cell_type": "code",
   "execution_count": 78,
   "metadata": {},
   "outputs": [],
   "source": [
    "import os\n",
    "from getpass import getpass\n",
    "\n",
    "os.environ[\"OPENAI_API_KEY\"] = os.getenv(\"OPENAI_API_KEY\") or getpass(\n",
    "    \"Enter OPENAI_API_KEY: \"\n",
    ")"
   ]
  },
  {
   "cell_type": "markdown",
   "metadata": {},
   "source": [
    "CREATE A BASIC LLM AND ASK UP TO DATE QUESTIONS TO MAKE SURE THE PARAMETRIC KNOWLEDGE IS LIMITED"
   ]
  },
  {
   "cell_type": "code",
   "execution_count": 79,
   "metadata": {},
   "outputs": [],
   "source": [
    "from agents import Agent\n",
    "\n",
    "agent = Agent(\n",
    "    name=\"Agent\",\n",
    "    model=\"gpt-4.1-mini\"\n",
    ")"
   ]
  },
  {
   "cell_type": "code",
   "execution_count": 80,
   "metadata": {},
   "outputs": [
    {
     "name": "stdout",
     "output_type": "stream",
     "text": [
      "I don't have access to your personal information, so I don't know your name. How can I assist you today?\n"
     ]
    }
   ],
   "source": [
    "from agents import Runner\n",
    "\n",
    "query = \"What is my name?\"\n",
    "\n",
    "result = await Runner.run(\n",
    "    starting_agent=agent,\n",
    "    input=query,\n",
    ")\n",
    "\n",
    "print(result.final_output)"
   ]
  },
  {
   "cell_type": "markdown",
   "metadata": {},
   "source": [
    "CREATE ANOTHER LLM WITH ADDITIONAL SOURCE DATA TO SHOW THAT LLMS CAN USE ADDITIONAL DATA TO CREATE AN ANSWER"
   ]
  },
  {
   "cell_type": "code",
   "execution_count": 81,
   "metadata": {},
   "outputs": [],
   "source": [
    "agent = Agent(\n",
    "    name=\"Agent\",\n",
    "    instructions=\"The user's name is James\",\n",
    "    model=\"gpt-4.1-mini\"\n",
    ")"
   ]
  },
  {
   "cell_type": "code",
   "execution_count": 82,
   "metadata": {},
   "outputs": [
    {
     "name": "stdout",
     "output_type": "stream",
     "text": [
      "Your name is James. How can I assist you today, James?\n"
     ]
    }
   ],
   "source": [
    "query = \"What is my name?\"\n",
    "\n",
    "result = await Runner.run(\n",
    "    starting_agent=agent,\n",
    "    input=query,\n",
    ")\n",
    "\n",
    "print(result.final_output)"
   ]
  },
  {
   "cell_type": "markdown",
   "metadata": {},
   "source": [
    "GET THE HUGGING FACE DATASET"
   ]
  },
  {
   "cell_type": "code",
   "execution_count": 83,
   "metadata": {},
   "outputs": [],
   "source": [
    "from datasets import load_dataset\n",
    "\n",
    "dataset = load_dataset(\n",
    "    \"aurelio-ai/jfk-files\",\n",
    "    split=\"train\"\n",
    ")"
   ]
  },
  {
   "cell_type": "code",
   "execution_count": 84,
   "metadata": {},
   "outputs": [
    {
     "data": {
      "text/plain": [
       "{'id': 'doc_21c0d725_0fa9_40ef_a217_c062909cc236',\n",
       " 'filename': '104-10110-10340.pdf',\n",
       " 'url': 'https://www.archives.gov/files/research/jfk/releases/2025/0318/104-10110-10340.pdf',\n",
       " 'date': datetime.datetime(2025, 3, 18, 0, 0),\n",
       " 'content': '[704-10710-10340}\\n\\n<!-- image -->',\n",
       " 'pages': 1}"
      ]
     },
     "execution_count": 84,
     "metadata": {},
     "output_type": "execute_result"
    }
   ],
   "source": [
    "dataset[0]"
   ]
  },
  {
   "cell_type": "markdown",
   "metadata": {},
   "source": [
    "CREATE A KNOWLEDGE BASE USING PINECONE"
   ]
  },
  {
   "cell_type": "code",
   "execution_count": 85,
   "metadata": {},
   "outputs": [],
   "source": [
    "os.environ[\"PINECONE_API_KEY\"] = os.getenv(\"PINECONE_API_KEY\") or getpass(\n",
    "    \"Enter PINECONE_API_KEY: \"\n",
    ")"
   ]
  },
  {
   "cell_type": "code",
   "execution_count": 86,
   "metadata": {},
   "outputs": [],
   "source": [
    "from pinecone import Pinecone, ServerlessSpec\n",
    "    \n",
    "pc = Pinecone(api_key=os.getenv(\"PINECONE_API_KEY\"))\n",
    "\n",
    "index_name = \"jfk-example\"\n",
    "\n",
    "if index_name not in pc.list_indexes().names():\n",
    "    pc.create_index(\n",
    "        name=index_name,\n",
    "        dimension=1536,\n",
    "        metric='cosine',\n",
    "        spec=ServerlessSpec(\n",
    "            cloud='aws',\n",
    "            region='us-east-1'\n",
    "        )\n",
    "    )\n",
    "\n",
    "index = pc.Index(index_name)"
   ]
  },
  {
   "cell_type": "code",
   "execution_count": 87,
   "metadata": {},
   "outputs": [
    {
     "data": {
      "text/plain": [
       "{'dimension': 1536,\n",
       " 'index_fullness': 0.0,\n",
       " 'metric': 'cosine',\n",
       " 'namespaces': {'': {'vector_count': 670}},\n",
       " 'total_vector_count': 670,\n",
       " 'vector_type': 'dense'}"
      ]
     },
     "execution_count": 87,
     "metadata": {},
     "output_type": "execute_result"
    }
   ],
   "source": [
    "index.describe_index_stats()"
   ]
  },
  {
   "cell_type": "markdown",
   "metadata": {},
   "source": [
    "MAKE BASIC EXAMPLE OF EMBEDDING"
   ]
  },
  {
   "cell_type": "code",
   "execution_count": 88,
   "metadata": {},
   "outputs": [],
   "source": [
    "from openai import OpenAI\n",
    "\n",
    "client = OpenAI()"
   ]
  },
  {
   "cell_type": "code",
   "execution_count": 89,
   "metadata": {},
   "outputs": [],
   "source": [
    "texts = [\n",
    "    'this is the first chunk of text',\n",
    "    'then this is the second chunk of text'\n",
    "]"
   ]
  },
  {
   "cell_type": "code",
   "execution_count": 90,
   "metadata": {},
   "outputs": [],
   "source": [
    "res = client.embeddings.create(\n",
    "    input=texts,\n",
    "    model=\"text-embedding-3-small\"\n",
    ")"
   ]
  },
  {
   "cell_type": "code",
   "execution_count": 91,
   "metadata": {},
   "outputs": [
    {
     "data": {
      "text/plain": [
       "(2, 1536)"
      ]
     },
     "execution_count": 91,
     "metadata": {},
     "output_type": "execute_result"
    }
   ],
   "source": [
    "len(res.data), len(res.data[0].embedding)"
   ]
  },
  {
   "cell_type": "markdown",
   "metadata": {},
   "source": [
    "EMBED HUGGING FACE FILES"
   ]
  },
  {
   "cell_type": "code",
   "execution_count": 92,
   "metadata": {},
   "outputs": [
    {
     "name": "stderr",
     "output_type": "stream",
     "text": [
      "  0%|          | 0/7 [00:00<?, ?it/s]"
     ]
    },
    {
     "name": "stderr",
     "output_type": "stream",
     "text": [
      "100%|██████████| 7/7 [00:25<00:00,  3.62s/it]\n"
     ]
    }
   ],
   "source": [
    "from tqdm.auto import tqdm\n",
    "import tiktoken\n",
    "\n",
    "def chunk_text(text, chunk_size=4000):\n",
    "    # Initialize the tokenizer\n",
    "    tokenizer = tiktoken.get_encoding(\"cl100k_base\")\n",
    "    \n",
    "    # Tokenize the text\n",
    "    tokens = tokenizer.encode(text)\n",
    "    \n",
    "    # Split into chunks\n",
    "    chunks = []\n",
    "    for i in range(0, len(tokens), chunk_size):\n",
    "        chunk = tokens[i:i + chunk_size]\n",
    "        chunks.append(tokenizer.decode(chunk))\n",
    "    \n",
    "    return chunks\n",
    "\n",
    "def truncate_text(text, max_length=1000):\n",
    "    # Truncate text to a reasonable length for metadata\n",
    "    if len(text) > max_length:\n",
    "        return text[:max_length] + \"...\"\n",
    "    return text\n",
    "\n",
    "data = dataset.to_pandas()\n",
    "\n",
    "batch_size = 100\n",
    "\n",
    "for i in tqdm(range(0, len(data), batch_size)):\n",
    "    i_end = min(len(data), i+batch_size)\n",
    "    batch = data.iloc[i:i_end]\n",
    "    \n",
    "    # Process each document\n",
    "    all_ids = []\n",
    "    all_texts = []\n",
    "    all_metadata = []\n",
    "    \n",
    "    for idx, row in batch.iterrows():\n",
    "        # Chunk the content\n",
    "        chunks = chunk_text(row['content'])\n",
    "        \n",
    "        # Create IDs and metadata for each chunk\n",
    "        for chunk_idx, chunk in enumerate(chunks):\n",
    "            all_ids.append(f\"{row['id']}-{chunk_idx}\")\n",
    "            all_texts.append(chunk)\n",
    "            all_metadata.append({\n",
    "                'text': truncate_text(chunk),  # Truncate text in metadata\n",
    "                'source': row['url'],\n",
    "                'title': row['filename'],\n",
    "                'chunk_id': chunk_idx\n",
    "            })\n",
    "    \n",
    "    # Create embeddings for all chunks\n",
    "    embeds = client.embeddings.create(\n",
    "        input=all_texts,\n",
    "        model=\"text-embedding-3-small\"\n",
    "    )\n",
    "    \n",
    "    vectors = [record.embedding for record in embeds.data]\n",
    "    \n",
    "    # Upsert all chunks\n",
    "    index.upsert(vectors=zip(all_ids, vectors, all_metadata))"
   ]
  },
  {
   "cell_type": "code",
   "execution_count": 93,
   "metadata": {},
   "outputs": [
    {
     "data": {
      "text/plain": [
       "{'dimension': 1536,\n",
       " 'index_fullness': 0.0,\n",
       " 'metric': 'cosine',\n",
       " 'namespaces': {'': {'vector_count': 670}},\n",
       " 'total_vector_count': 670,\n",
       " 'vector_type': 'dense'}"
      ]
     },
     "execution_count": 93,
     "metadata": {},
     "output_type": "execute_result"
    }
   ],
   "source": [
    "index.describe_index_stats()"
   ]
  },
  {
   "cell_type": "markdown",
   "metadata": {},
   "source": [
    "MAKING RAG CHATBOT"
   ]
  },
  {
   "cell_type": "code",
   "execution_count": 94,
   "metadata": {},
   "outputs": [
    {
     "name": "stdout",
     "output_type": "stream",
     "text": [
      "2025 RELEASE UNDER THE PRESIDENT JOHN F\\_ KENNEDY ASSASSINATION RECORDS ACT OF 1992\n",
      "\n",
      "HOUSE\n",
      "\n",
      "<!-- image -->\n",
      "\n",
      "IP\n",
      "| REI=   | REVIEED   |\n",
      "|--------|-----------|\n",
      "|        | BE        |\n",
      "\n",
      "DCD-45s/78 19 April 1978\n",
      "\n",
      "FROY\n",
      "\n",
      "Ruth Elliff DCD/FIO/PAO\n",
      "\n",
      "SUBJECT\n",
      "\n",
      "House Select Committee on Assassinations Request (OLC 78-0986/1}\n",
      "\n",
      "is forvarded in response to subject request:\n",
      "\n",
      "- a DCD file A-19-91-59 on Abran Chayes\n",
      "- b Docunents concerning Monica Krzner and Rita Nazan. (Please escuse the Poor qualitr of sone of this naterial it was iapossible to clear reproduction fron OUI microfiln.) get\n",
      "\n",
      "<!-- image -->\n",
      "\n",
      "Attachnents a/s\n",
      "\n",
      "\n",
      "## RELLIFF:vfc Distribution\n",
      "\n",
      "- DCD Chrono\n",
      "- 0 Addressee\n",
      "- 1 Staff A\n",
      "- 3 Control\n",
      "- 3 RElliff\n",
      "\n",
      "E2 IMPDET CL BY 386090\n",
      "\n",
      "4~\n",
      "\n",
      "FRON\n",
      "\n",
      "SUBJECT\n",
      "\n",
      "Case 64574\n",
      "\n",
      "USSR Exteraal Folicy\n",
      "\n",
      "1 and a set of questions (Enclosure 5) at Qur request\\_ inirial of each US participzt, as to the true identities of As result, sOne felt they had attended. cases , holever , Gere questia as to the true idcitity of\\_the ...\n",
      "\n",
      "Source: https://www.archives.gov/files/research/jfk/releases/2025/0318/104-10165-10077.pdf\n",
      "File: 104-10165-10077.pdf\n",
      "--------------------------------------------------------------------------------\n",
      "\n",
      "## 2025 RELEASE UNDER THE PRESIDENT JOHN F\\_ KENNEDY ASSASSINATION RECORDS ACT OF 1992\n",
      "\n",
      "Date:\n",
      "\n",
      "05/08/96\n",
      "\n",
      "Page\n",
      "\n",
      "1\n",
      "\n",
      "JFK ASSASSINATION SYSTEM IDENTIFICATION FORM\n",
      "\n",
      "\n",
      "## AGENCY INFORMATION\n",
      "\n",
      "AGENCY\n",
      "\n",
      "CIA\n",
      "\n",
      "RECORD NUMBER\n",
      "\n",
      "104-10004-10143\n",
      "\n",
      "RECORD SERIES\n",
      "\n",
      "JFK\n",
      "\n",
      "AGENCY FILE NUMBER\n",
      "\n",
      "201-289248\n",
      "\n",
      "\n",
      "## DOCUMENT INFORMATION\n",
      "\n",
      "ORIGINATOR\n",
      "\n",
      "CIA\n",
      "\n",
      "FROM\n",
      "\n",
      "TO\n",
      "\n",
      "TITLE\n",
      "\n",
      "DISCUSSION BETWEEN MEMBER SR DIVISION CONCERNING OSWALD s STAY IN HELSINKI\n",
      "\n",
      "DATE\n",
      "\n",
      "06/01/64\n",
      "\n",
      "PAGES\n",
      "\n",
      "2\n",
      "\n",
      "SUBJECTS\n",
      "\n",
      "HELSINKI TRIP\n",
      "\n",
      "USSR CONSULATE\n",
      "\n",
      "DOCUMENT TYPE\n",
      "\n",
      "PAPER TEXTUAL DOCUMENT\n",
      "\n",
      "CLASSIFICATION\n",
      "\n",
      "SECRET\n",
      "\n",
      "RESTRICTIONS\n",
      "\n",
      "1B\n",
      "\n",
      "CURRENT STATUS\n",
      "\n",
      "RELEASED WITH DELETIONS\n",
      "\n",
      "DATE OF LAST REVIEW\n",
      "\n",
      "06/12/93\n",
      "\n",
      "OPENING CRITERIA\n",
      "\n",
      "COMMENTS\n",
      "\n",
      "1993\\_ 55 : 150000 :\n",
      "\n",
      "\n",
      "## [R] ITEM IS RESTRICTED\n",
      "\n",
      "<!-- image -->\n",
      "\n",
      "<!-- image -->\n",
      "\n",
      "<!-- image -->\n",
      "\n",
      "<!-- image -->\n",
      "\n",
      "UNCLASSIFIED\n",
      "\n",
      "DENTIAL\n",
      "\n",
      "SECRET\n",
      "\n",
      "USE\n",
      "\n",
      "ONLY\n",
      "\n",
      "\n",
      "## ROUTING AND RECORD SHEET\n",
      "\n",
      "SUBJECT:\n",
      "\n",
      "(Optional)\n",
      "\n",
      "FROM:\n",
      "\n",
      "EXTENSION\n",
      "\n",
      "2823\n",
      "\n",
      "DATE\n",
      "\n",
      "TO:\n",
      "\n",
      "(Officer\n",
      "\n",
      "designation,\n",
      "\n",
      "room\n",
      "\n",
      "number ,\n",
      "\n",
      "and\n",
      "\n",
      "DATE\n",
      "\n",
      "building)\n",
      "\n",
      "OFFICER'S INITIALS\n",
      "\n",
      "COMMENTS  ...\n",
      "\n",
      "Source: https://www.archives.gov/files/research/jfk/releases/2025/0318/104-10004-10143 (C06932208).pdf\n",
      "File: 104-10004-10143 (C06932208).pdf\n",
      "--------------------------------------------------------------------------------\n",
      "\n",
      "2025 RELEASE UNDER THE PRESIDENT JOHN F\\_ KENNEDY ASSASSINATION RECORDS ACT OF 1992\n",
      "\n",
      "<!-- image -->\n",
      "\n",
      "\n",
      "## 1 June 1964\n",
      "\n",
      "\n",
      "## MEMO FOR IHE\\_RECORD\n",
      "\n",
      "- At 0900 this morning I talked with Frank Friberg recently returned COS Helsínki re Warren Comm1ssion Inquiry concerning the timetable of Oswald s stay in Fínland October 1959, Including contact with the Soviet Consulate there. (Copy of the Commission letter of 25 May 64 and State Cable of 64 attached .) May\n",
      "- 2 . Friberg gave me the following information:\n",
      "- a, It takes 25 minutes to drive from the alrport to downtown Helsinki;\n",
      "- By taxi, it would take no more than 5 mInutes to reach the Soviet consulate;\n",
      "- The Sovlet consulate probably closed at 1300 hours local time 6n Saturdays in 1959;\n",
      "- d Passenger lists (manifests) at the U.S . Consulate in Helsinki are retäined for s1x months and then are destroyed . Mr \\_ Robert Fulton (CIA) was U.S. consular officíal there at the time\\_ only\n",
      "- e A copy of s cable inquiry would g0 Eo the Helsinki Stati...\n",
      "\n",
      "Source: https://www.archives.gov/files/research/jfk/releases/2025/0318/104-10004-10156.pdf\n",
      "File: 104-10004-10156.pdf\n",
      "--------------------------------------------------------------------------------\n",
      "\n"
     ]
    }
   ],
   "source": [
    "query_embedding = client.embeddings.create(\n",
    "    input=[\"What were the key findings in the JFK assassination investigation?\"],\n",
    "    model=\"text-embedding-3-small\"\n",
    ").data[0].embedding\n",
    "\n",
    "results = index.query(\n",
    "    vector=query_embedding,\n",
    "    top_k=3,\n",
    "    include_metadata=True\n",
    ")\n",
    "\n",
    "for match in results[\"matches\"]:\n",
    "    print(match[\"metadata\"][\"text\"])\n",
    "    print(\"\\nSource:\", match[\"metadata\"][\"source\"])\n",
    "    print(\"File:\", match[\"metadata\"][\"title\"])\n",
    "    print(\"-\" * 80 + \"\\n\")"
   ]
  },
  {
   "cell_type": "markdown",
   "metadata": {},
   "source": [
    "MAKE RAG AS A TOOL FOR AGENT"
   ]
  },
  {
   "cell_type": "code",
   "execution_count": 95,
   "metadata": {},
   "outputs": [],
   "source": [
    "from agents import function_tool\n",
    "\n",
    "@function_tool\n",
    "def return_source_knowledge(query: str) -> str:\n",
    "    # 1. Get the query embedding\n",
    "    embeds_response = client.embeddings.create(\n",
    "        input=[query],\n",
    "        model=\"text-embedding-3-small\"\n",
    "    )\n",
    "    query_embedding = embeds_response.data[0].embedding\n",
    "\n",
    "    # 2. Query Pinecone\n",
    "    results = index.query(\n",
    "        vector=query_embedding,\n",
    "        top_k=3,\n",
    "        include_metadata=True\n",
    "    )\n",
    "\n",
    "    # 3. Extract the passages\n",
    "    source_knowledge = \"\\n\".join(\n",
    "        match[\"metadata\"][\"text\"] for match in results[\"matches\"]\n",
    "    )\n",
    "\n",
    "    return source_knowledge"
   ]
  },
  {
   "cell_type": "markdown",
   "metadata": {},
   "source": [
    "MAKE FINAL AGENT"
   ]
  },
  {
   "cell_type": "code",
   "execution_count": 96,
   "metadata": {},
   "outputs": [],
   "source": [
    "rag_agent = Agent(\n",
    "    name=\"JFK Document Assistant\",\n",
    "    model=\"gpt-4o\",\n",
    "    instructions=\"\"\"You are an assistant specialized in answering questions about the JFK assassination and related documents. \n",
    "    When users ask questions about JFK, the assassination, or related historical events, use the return_source_knowledge tool \n",
    "    to retrieve relevant information from the official JFK although not all files, only return what you have found from the tool.\"\"\",\n",
    "    tools=[return_source_knowledge]\n",
    ")"
   ]
  },
  {
   "cell_type": "code",
   "execution_count": 97,
   "metadata": {},
   "outputs": [
    {
     "name": "stdout",
     "output_type": "stream",
     "text": [
      "The House Select Committee on Assassinations (HSCA) sought information related to the assassinations of prominent figures such as Martin Luther King Jr. As part of their inquiry, the Committee requested information on certain individuals and organizations related to these events. \n",
      "\n",
      "Documents reveal that the Committee's request was limited to information during the immediate period surrounding the assassination. In this context, they referred to various groups, including the Flemish Order of Militants (Vlaamse Militantenorganisatie, VMO), and relied on available intelligence records, even when most references were scant.\n",
      "\n",
      "The HSCA's investigations were part of broader efforts to understand political assassinations in the United States and were linked to legal mandates under President John F. Kennedy Assassination Records Act of 1992 for eventual public disclosure.\n"
     ]
    }
   ],
   "source": [
    "query = \"Tell me about the House Select Committee on Assassinations Request\"\n",
    "\n",
    "result = await Runner.run(\n",
    "    starting_agent=rag_agent, \n",
    "    input=query,\n",
    ")\n",
    "\n",
    "print(result.final_output)"
   ]
  }
 ],
 "metadata": {
  "kernelspec": {
   "display_name": ".venv",
   "language": "python",
   "name": "python3"
  },
  "language_info": {
   "codemirror_mode": {
    "name": "ipython",
    "version": 3
   },
   "file_extension": ".py",
   "mimetype": "text/x-python",
   "name": "python",
   "nbconvert_exporter": "python",
   "pygments_lexer": "ipython3",
   "version": "3.12.7"
  }
 },
 "nbformat": 4,
 "nbformat_minor": 2
}
