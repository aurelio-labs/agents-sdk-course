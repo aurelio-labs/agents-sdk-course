{
 "cells": [
  {
   "cell_type": "markdown",
   "metadata": {},
   "source": [
    "#### Agents SDK Course"
   ]
  },
  {
   "cell_type": "markdown",
   "metadata": {},
   "source": [
    "## Tracing"
   ]
  },
  {
   "cell_type": "markdown",
   "metadata": {},
   "source": [
    "Agents SDK integrates with OpenAI's built-in **Traces** dashboard found within the OpenAI Platform. In this example, we'll take a look at both the default tracing enabled by default whenever we use Agents SDK (with an OpenAI API key present), and custom tracing."
   ]
  },
  {
   "cell_type": "markdown",
   "metadata": {},
   "source": [
    "## Accessing the Traces Dashboard"
   ]
  },
  {
   "cell_type": "markdown",
   "metadata": {},
   "source": [
    "We should first confirm that we have access to the **Traces** dashboard in the [OpenAI Platform](https://platform.openai.com/). You should be able to find the dashboard like so:\n",
    "\n",
    "TK add visual steps\n",
    "\n",
    "By default the traces dashboard is _not_ visible by anyone but the organization owner. So, if you are _not_ the organization owner _or_ you need to provide access to other members of your organization you would do that via the **Data controls** setting, which can be found here:\n",
    "\n",
    "![Visual steps showing how to set traces visibility for an organization in the OpenAI Platform](../assets/traces-data-control.png)\n",
    "\n",
    "After gaining access to the dashboard, _if_ you have been following through with other chapters in the course you should see a list of traces already. If you don't — no problem — we'll be creating traces in the following steps of this example."
   ]
  },
  {
   "cell_type": "markdown",
   "metadata": {},
   "source": [
    "As usual, we need to set our `OPENAI_API_KEY`, which we find in the [OpenAI Platform](https://platform.openai.com/api-keys)."
   ]
  },
  {
   "cell_type": "code",
   "execution_count": 1,
   "metadata": {},
   "outputs": [],
   "source": [
    "import os\n",
    "import getpass\n",
    "\n",
    "os.environ[\"OPENAI_API_KEY\"] = os.getenv(\"OPENAI_API_KEY\") or \\\n",
    "    getpass.getpass(\"OpenAI API Key: \")"
   ]
  },
  {
   "cell_type": "markdown",
   "metadata": {},
   "source": [
    "### Tracing Basic Agent Prompting"
   ]
  },
  {
   "cell_type": "markdown",
   "metadata": {},
   "source": [
    "First we need to create an agent, we will use the `Agent` class to create a basic agent.\n",
    "\n",
    "In each `Agent` object we have some fundamental parameters, those are:\n",
    "- `name`: The name of the agent\n",
    "- `instructions`: The system prompt for the agent\n",
    "- `model`: The model to use for the agent\n",
    "\n",
    "The `instructions` parameter is where we will pass our system prompt, this will be used to guide the behavior of the agent\n"
   ]
  },
  {
   "cell_type": "code",
   "execution_count": 2,
   "metadata": {},
   "outputs": [],
   "source": [
    "from agents import Agent # object class\n",
    "\n",
    "prompt_agent = Agent(\n",
    "    name=\"Tracing Prompt Agent\",  # name of the agent\n",
    "    instructions=\"Speak like a pirate.\",  # system prompt\n",
    "    model=\"gpt-4.1-nano\"  # model to use\n",
    ")"
   ]
  },
  {
   "cell_type": "markdown",
   "metadata": {},
   "source": [
    "When running this agent we will automatically find traces being sent to our traces dashboard."
   ]
  },
  {
   "cell_type": "code",
   "execution_count": 3,
   "metadata": {},
   "outputs": [],
   "source": [
    "from agents import Runner\n",
    "\n",
    "query = \"Write a one-sentence poem\"\n",
    "\n",
    "prompt_result = await Runner.run(\n",
    "    starting_agent=prompt_agent,  # agent to start the conversation with\n",
    "    input=query  # input to pass to the agent\n",
    ")"
   ]
  },
  {
   "cell_type": "markdown",
   "metadata": {},
   "source": [
    "We should now see a trace in the dashboard with the default workflow name (Agents SDK uses `Agent workflow` for agent runs) and the name of our agent, ie `\"Tracing Prompt Agent\"`:\n",
    "\n",
    "![Default trace in Platform](../assets/traces-default-trace.png)\n",
    "\n",
    "In the trace preview we can see key information such as whether any handoffs occured or tools were used, and how long the workflow took to complete.\n",
    "\n",
    "We can also click on the trace to see a breakdown of each step in our trace, ie the individual _spans_, and we click on one of those spans to see the _span details_. Including LLM information, input / outputs, and the number of tokens that we have used.\n",
    "\n",
    "![Default trace span detail in Platform](../assets/traces-default-trace-span.png)"
   ]
  },
  {
   "cell_type": "markdown",
   "metadata": {},
   "source": [
    "## Building Custom Traces"
   ]
  },
  {
   "cell_type": "markdown",
   "metadata": {},
   "source": [
    "To customize our tracing, we can use the `trace` function from the Agents SDK library. With this, we can add and/or modify any defined parameters to anything ran within the context of our `trace`.\n",
    "\n",
    "```python\n",
    "with trace(...):\n",
    "    # any agents-sdk code run here will inherit the parameters\n",
    "    # of our `trace`\n",
    "    ...\n",
    "```\n",
    "\n",
    "There are various parameters we can set, the primary parameters are:\n",
    "\n",
    "- `workflow_name`: Name given to the workflow, this will be displayed as the primary _name_ of the trace.\n",
    "- `group_id`: ID given to a group of traces. Throughout this notebook we set this to `Agents SDK Course: Tracing` so we can easily identify traces that have been generated from this notebook.\n",
    "- `trace_id`: ID of the individual trace (recommended to use `util.gen_trace_id()` if using)\n",
    "- `metadata`: Dictionary of data given with the workflow data\n",
    "- `disabled`: If true it will not return a trace\n",
    "\n",
    "We will try setting just the `workflow_name` and `group_id`."
   ]
  },
  {
   "cell_type": "code",
   "execution_count": 4,
   "metadata": {},
   "outputs": [],
   "source": [
    "from agents import Runner, trace # object class\n",
    "\n",
    "group_id = \"Agents SDK Course: Tracing\"\n",
    "\n",
    "with trace(workflow_name=\"Prompt Agent Workflow\", group_id=group_id):\n",
    "    prompt_result = await Runner.run(\n",
    "        starting_agent=prompt_agent,  # agent to start interaction with\n",
    "        input=query,  # input to pass to the workflow\n",
    "    )"
   ]
  },
  {
   "cell_type": "markdown",
   "metadata": {},
   "source": [
    "From this, we should find a new **Prompt Agent Workflow** trace in our dashboard. We can also search for it by entering `Agents SDK Course: Tracing` in the _Group_ search bar.\n",
    "\n",
    "![Filtering by the group field to find our new prompt agent workflow trace](../assets/traces-custom-trace.png)"
   ]
  },
  {
   "cell_type": "markdown",
   "metadata": {},
   "source": [
    "### Tracing Agent Tools"
   ]
  },
  {
   "cell_type": "markdown",
   "metadata": {},
   "source": [
    "Again, we need to create an agent.\n",
    "\n",
    "In this `Agent` object we have an additional parameter, this is:\n",
    "- `tools`: The tools provided to the agent for usage.\n",
    "\n",
    "In order to use this we need to aquire a tool to use, we can import `WebSearchTool` from the agents library, this tool will allow the `agent` object to search the web for results."
   ]
  },
  {
   "cell_type": "code",
   "execution_count": 7,
   "metadata": {},
   "outputs": [],
   "source": [
    "from agents import Agent, WebSearchTool\n",
    "\n",
    "tool_agent = Agent(\n",
    "    name=\"Tracing Tool Agent\",\n",
    "    instructions=(\n",
    "        \"You are a web search agent that searches the web for information on the \"\n",
    "        \"user's queries.\"\n",
    "    ),\n",
    "    tools=[\n",
    "        WebSearchTool()\n",
    "    ],\n",
    "    model='gpt-4.1-mini'\n",
    ")"
   ]
  },
  {
   "cell_type": "markdown",
   "metadata": {},
   "source": [
    "Let's try calling the tool agent and seeing what is traced."
   ]
  },
  {
   "cell_type": "code",
   "execution_count": 10,
   "metadata": {},
   "outputs": [],
   "source": [
    "query = \"What are the current world headlines?\"\n",
    "\n",
    "tool_result = await Runner.run(\n",
    "    starting_agent=tool_agent,\n",
    "    input=query\n",
    ")"
   ]
  },
  {
   "cell_type": "markdown",
   "metadata": {},
   "source": [
    "Inside our trace we'll see it automatically picked up the agent name of **Tracing Tool Agent** as the workflow name. Then if we click through to the span details, we'll find a similar structure but this time we also see that the web search tool was called:\n",
    "\n",
    "![Default span details including tool use information](../assets/traces-default-tools-trace-span.png)"
   ]
  },
  {
   "cell_type": "markdown",
   "metadata": {},
   "source": [
    "We can also set our trace metadata, which appears in the span details (by clicking the little cog icon at the top-right of the span page). Let's try adding metadata that our workflow includes a tool called `WebSearchTool`."
   ]
  },
  {
   "cell_type": "code",
   "execution_count": 11,
   "metadata": {},
   "outputs": [],
   "source": [
    "with trace(workflow_name=\"Web Search Agent\", group_id=group_id, metadata={\"Tools\": \"WebSearchTool\"}):\n",
    "    tool_result = await Runner.run(\n",
    "        starting_agent=tool_agent,\n",
    "        input=query\n",
    "    )"
   ]
  },
  {
   "cell_type": "markdown",
   "metadata": {},
   "source": [
    "We can find that metadata here:\n",
    "\n",
    "![Metadata field in traces dashboard](../assets/traces-metadata.png)"
   ]
  },
  {
   "cell_type": "markdown",
   "metadata": {},
   "source": [
    "That's it for this guide to OpenAI's traces via Agents SDK."
   ]
  }
 ],
 "metadata": {
  "kernelspec": {
   "display_name": ".venv",
   "language": "python",
   "name": "python3"
  },
  "language_info": {
   "codemirror_mode": {
    "name": "ipython",
    "version": 3
   },
   "file_extension": ".py",
   "mimetype": "text/x-python",
   "name": "python",
   "nbconvert_exporter": "python",
   "pygments_lexer": "ipython3",
   "version": "3.12.7"
  }
 },
 "nbformat": 4,
 "nbformat_minor": 2
}
