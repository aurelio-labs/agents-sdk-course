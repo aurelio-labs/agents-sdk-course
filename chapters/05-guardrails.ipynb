{
 "cells": [
  {
   "cell_type": "markdown",
   "metadata": {},
   "source": [
    "#### [Agents SDK Course](https://www.aurelio.ai/course/agents-sdk)"
   ]
  },
  {
   "cell_type": "markdown",
   "metadata": {},
   "source": [
    "## Guardrails\n",
    "\n",
    "Agents SDK introduces a few unique approaches to commonly used patterns, one of these is the guardrail functionallity. Guardrails are a way to check the input and output of an agent, and if they match a certain criteria, the guardrail will trip and the agent will be stopped. This can be useful for a number of reasons, such as scam detection, or ensuring the agent is not doing something it shouldn't be."
   ]
  },
  {
   "cell_type": "markdown",
   "metadata": {},
   "source": [
    "Firstly we need to get a `OPENAI_API_KEY` set up, for this you will need to create an account on [OpenAI](https://platform.openai.com/api-keys) and grab your API key."
   ]
  },
  {
   "cell_type": "code",
   "execution_count": 1,
   "metadata": {},
   "outputs": [],
   "source": [
    "import os\n",
    "import getpass\n",
    "\n",
    "os.environ[\"OPENAI_API_KEY\"] = os.getenv(\"OPENAI_API_KEY\") or \\\n",
    "    getpass.getpass(\"OpenAI API Key: \")"
   ]
  },
  {
   "cell_type": "markdown",
   "metadata": {},
   "source": [
    "### Input Guardrails"
   ]
  },
  {
   "cell_type": "markdown",
   "metadata": {},
   "source": [
    "For our guardrails we want to format the correct output from the agent. We can do this by creating a class that inherits `BaseModel` from the `pydantic` library. Within this class we can define fields that the agent will output. For this example this class will have the following fields:\n",
    "- `is_scam`: A boolean value that will be True if the user is trying to scam you, otherwise it will be False.\n",
    "- `reasoning`: A string value that will be the reasoning for the outcome of is_scam."
   ]
  },
  {
   "cell_type": "code",
   "execution_count": 2,
   "metadata": {},
   "outputs": [],
   "source": [
    "from pydantic import BaseModel\n",
    "\n",
    "class ScamDetectionOutput(BaseModel):\n",
    "    is_scam: bool\n",
    "    reasoning: str"
   ]
  },
  {
   "cell_type": "markdown",
   "metadata": {},
   "source": [
    "Next we need to create the agent from the `Agent` object. This object includes the following parameters:\n",
    "- `model`: The model to use for the agent.\n",
    "- `name`: The name of the agent.\n",
    "- `instructions`: The instructions for the agent.\n",
    "- `output_type`: The type of output to expect from the agent.\n",
    "\n",
    "Note that this isn't the main agent and is only used to check the input of our guardrail function."
   ]
  },
  {
   "cell_type": "code",
   "execution_count": 3,
   "metadata": {},
   "outputs": [],
   "source": [
    "from agents import Agent\n",
    "\n",
    "guardrail_agent = Agent( \n",
    "    model=\"gpt-4o\",\n",
    "    name=\"Guardrail check\",\n",
    "    instructions=(\n",
    "        \"Check if the user is trying to scam you, if they are, return True, otherwise return \"\n",
    "        \"False. Give a reason for your answer.\"\n",
    "    ),\n",
    "    output_type=ScamDetectionOutput,\n",
    ")"
   ]
  },
  {
   "cell_type": "markdown",
   "metadata": {},
   "source": [
    "Next we need to create the guardrail functionallity. \n",
    "\n",
    "Firstly we need to define a function with the `@input_guardrail` decorator.\n",
    "\n",
    "The function will use the agent we just created to check the input string, this will then return a `GuardrailFunctionOutput` object.\n",
    "\n",
    "Then the function needs to return the `GuardrailFunctionOutput` object."
   ]
  },
  {
   "cell_type": "code",
   "execution_count": 4,
   "metadata": {},
   "outputs": [],
   "source": [
    "from agents import (\n",
    "    GuardrailFunctionOutput,\n",
    "    RunContextWrapper,\n",
    "    Runner,\n",
    "    TResponseInputItem,\n",
    "    input_guardrail\n",
    ")\n",
    "\n",
    "@input_guardrail\n",
    "async def scam_guardrail( \n",
    "    ctx: RunContextWrapper[None], agent: Agent, input: str | list[TResponseInputItem]\n",
    ") -> GuardrailFunctionOutput:\n",
    "    result = await Runner.run(\n",
    "        starting_agent=guardrail_agent, \n",
    "        input=input, \n",
    "        context=ctx.context\n",
    "        )\n",
    "\n",
    "    return GuardrailFunctionOutput(\n",
    "        output_info=result.final_output, \n",
    "        tripwire_triggered=result.final_output.is_scam,\n",
    "    )"
   ]
  },
  {
   "cell_type": "markdown",
   "metadata": {},
   "source": [
    "Now we can create a new agent that will be used to handle the incoming messages. This agent will have the following parameters:\n",
    "- `name`: The name of the agent.\n",
    "- `instructions`: The instructions for the agent.\n",
    "- `input_guardrails`: A list of input guardrails to attach to the agent. (This is where we attach the scam guardrail)"
   ]
  },
  {
   "cell_type": "code",
   "execution_count": 5,
   "metadata": {},
   "outputs": [],
   "source": [
    "agent = Agent(  \n",
    "    name=\"completely innocent agent\",\n",
    "    instructions=\"You are a helpful assistant.\",\n",
    "    input_guardrails=[scam_guardrail],\n",
    ")"
   ]
  },
  {
   "cell_type": "markdown",
   "metadata": {},
   "source": [
    "Now we can try to test the guardrail functionallity.\n",
    "\n",
    "Due to errors being raised when the guardrail trips, we can use a try except block to prevent the error messages being shown."
   ]
  },
  {
   "cell_type": "code",
   "execution_count": 6,
   "metadata": {},
   "outputs": [
    {
     "name": "stdout",
     "output_type": "stream",
     "text": [
      "Error: Guardrail InputGuardrail triggered tripwire\n"
     ]
    }
   ],
   "source": [
    "from agents import InputGuardrailTripwireTriggered\n",
    "\n",
    "query = \"Hello, would you like to buy some real rolex watches for a fraction of the price?\"\n",
    "\n",
    "try:\n",
    "    result = await Runner.run(agent, query)\n",
    "    # If we get here, the guardrail didn't trip\n",
    "    guardrail_info = result.input_guardrail_results[0].output.output_info\n",
    "    print(f\"Guardrail didn't trip\\nReasoning: {guardrail_info.reasoning}\")\n",
    "except InputGuardrailTripwireTriggered as e:\n",
    "    # Access the guardrail info from the exception\n",
    "    print(\"Error: \", e)"
   ]
  },
  {
   "cell_type": "markdown",
   "metadata": {},
   "source": [
    "Now we want to look inside the result for a valid output and see what the guardrail is doing."
   ]
  },
  {
   "cell_type": "code",
   "execution_count": 8,
   "metadata": {},
   "outputs": [],
   "source": [
    "result = await Runner.run(\n",
    "    starting_agent=agent, \n",
    "    input=\"hello, how are you today?\"\n",
    ")"
   ]
  },
  {
   "cell_type": "markdown",
   "metadata": {},
   "source": [
    "We can access the general output information via the `input_guardrail_results` attribute."
   ]
  },
  {
   "cell_type": "code",
   "execution_count": 9,
   "metadata": {},
   "outputs": [
    {
     "name": "stdout",
     "output_type": "stream",
     "text": [
      "Guardrail Info: is_scam=False reasoning=\"The message is a simple greeting and doesn't contain any indicators of a scam attempt, such as requests for money or personal information.\"\n"
     ]
    }
   ],
   "source": [
    "print(\"Guardrail Info:\", result.input_guardrail_results[0].output.output_info)"
   ]
  },
  {
   "cell_type": "markdown",
   "metadata": {},
   "source": [
    "Within the `output_info` attribute we can access the `is_scam` and `reasoning` attributes we created in the `ScamDetectionOutput` class."
   ]
  },
  {
   "cell_type": "code",
   "execution_count": 10,
   "metadata": {},
   "outputs": [
    {
     "name": "stdout",
     "output_type": "stream",
     "text": [
      "Guardrail 'is_scam': False\n",
      "Guardrail 'reasoning': The message is a simple greeting and doesn't contain any indicators of a scam attempt, such as requests for money or personal information.\n"
     ]
    }
   ],
   "source": [
    "print(\"Guardrail 'is_scam':\", result.input_guardrail_results[0].output.output_info.is_scam)\n",
    "print(\"Guardrail 'reasoning':\", result.input_guardrail_results[0].output.output_info.reasoning)"
   ]
  },
  {
   "cell_type": "markdown",
   "metadata": {},
   "source": [
    "### Output Guardrails"
   ]
  },
  {
   "cell_type": "markdown",
   "metadata": {},
   "source": [
    "Now we want to create a guardrail that will check the output of the agent. Similar to the input guardrail, we can create a guardrail function that will use an agent to check the output."
   ]
  },
  {
   "cell_type": "markdown",
   "metadata": {},
   "source": [
    "First we want to create our handler class. This will contain the message we want to check.\n",
    "\n",
    "From there, we can create our guardrail class. This will contain the reasoning and a boolean value that will be True if the output is unpleasant, otherwise it will be False."
   ]
  },
  {
   "cell_type": "code",
   "execution_count": 11,
   "metadata": {},
   "outputs": [],
   "source": [
    "class MessageOutput(BaseModel): \n",
    "    response: str\n",
    "\n",
    "class UnpleasantOutput(BaseModel): \n",
    "    reasoning: str\n",
    "    is_unpleasant: bool"
   ]
  },
  {
   "cell_type": "markdown",
   "metadata": {},
   "source": [
    "Next we want to create our guardrail agent. As before, we will use the `Agent` object to create our guardrail agent and then feed this into the function later on."
   ]
  },
  {
   "cell_type": "code",
   "execution_count": 12,
   "metadata": {},
   "outputs": [],
   "source": [
    "guardrail_agent = Agent(\n",
    "    name=\"Unpleasant output guardrail\",\n",
    "    instructions=\"Check if the output includes any unpleasant language.\",\n",
    "    output_type=UnpleasantOutput\n",
    ")"
   ]
  },
  {
   "cell_type": "markdown",
   "metadata": {},
   "source": [
    "Now we can create our guardrail function. This will use the `@output_guardrail` decorator.\n",
    "\n",
    "Then we will use the `Runner` object to run the guardrail agent.\n",
    "\n",
    "Afterwards we will return the `UnpleasantOutput` object."
   ]
  },
  {
   "cell_type": "code",
   "execution_count": 13,
   "metadata": {},
   "outputs": [],
   "source": [
    "from agents import GuardrailFunctionOutput, output_guardrail\n",
    "\n",
    "@output_guardrail\n",
    "async def unpleasant_guardrail(  \n",
    "    ctx: RunContextWrapper, agent: Agent, output: MessageOutput\n",
    ") -> GuardrailFunctionOutput:\n",
    "    result = await Runner.run(guardrail_agent, output.response, context=ctx.context)\n",
    "\n",
    "    return GuardrailFunctionOutput(\n",
    "        output_info=result.final_output,\n",
    "        tripwire_triggered=result.final_output.is_unpleasant,\n",
    "    )"
   ]
  },
  {
   "cell_type": "markdown",
   "metadata": {},
   "source": [
    "Next we can create our main agent, this will have the following parameters:\n",
    "- `name`: The name of the agent.\n",
    "- `instructions`: The instructions for the agent.\n",
    "- `output_guardrails`: A list of output guardrails to attach to the agent. (This is where we attach the unpleasant guardrail)\n",
    "- `output_type`: The type of output to expect from the agent. (So we can confirm the output is valid for the guardrail)"
   ]
  },
  {
   "cell_type": "code",
   "execution_count": 14,
   "metadata": {},
   "outputs": [],
   "source": [
    "agent = Agent( \n",
    "    name=\"repeat agent\",\n",
    "    instructions=\"Whatever the user has said, say exactly the same back\",\n",
    "    output_guardrails=[unpleasant_guardrail],\n",
    "    output_type=MessageOutput,\n",
    ")"
   ]
  },
  {
   "cell_type": "markdown",
   "metadata": {},
   "source": [
    "As before, we can test the guardrail functionallity.\n",
    "\n",
    "Due to errors being raised when the guardrail trips, we can use a try except block to prevent the error messages being shown."
   ]
  },
  {
   "cell_type": "code",
   "execution_count": 15,
   "metadata": {},
   "outputs": [
    {
     "name": "stdout",
     "output_type": "stream",
     "text": [
      "Error: Guardrail OutputGuardrail triggered tripwire\n"
     ]
    }
   ],
   "source": [
    "from agents import OutputGuardrailTripwireTriggered\n",
    "\n",
    "query = \"you smell\"\n",
    "\n",
    "try:\n",
    "    result = await Runner.run(\n",
    "        starting_agent=agent, \n",
    "        input=query\n",
    "        )\n",
    "    guardrail_info = result.output_guardrail_results[0].output.output_info\n",
    "    print(\"Guardrail didn't trip - this is unexpected\", result.final_output)\n",
    "except OutputGuardrailTripwireTriggered as e:\n",
    "    print(\"Error:\", e)"
   ]
  },
  {
   "cell_type": "markdown",
   "metadata": {},
   "source": [
    "Now we can look inside the output guardrail results but first we need to run the agent again."
   ]
  },
  {
   "cell_type": "code",
   "execution_count": 16,
   "metadata": {},
   "outputs": [],
   "source": [
    "result = await Runner.run(\n",
    "    starting_agent=agent, \n",
    "    input=\"hello, how are you today?\"\n",
    ")"
   ]
  },
  {
   "cell_type": "markdown",
   "metadata": {},
   "source": [
    "Now we can look inside the `output_guardrail_results` attribute."
   ]
  },
  {
   "cell_type": "code",
   "execution_count": 17,
   "metadata": {},
   "outputs": [
    {
     "name": "stdout",
     "output_type": "stream",
     "text": [
      "Guardrail Info: reasoning='The message \"hello, how are you today?\" is a polite greeting asking about someone\\'s well-being. It does not contain any unpleasant language.' is_unpleasant=False\n"
     ]
    }
   ],
   "source": [
    "print(\"Guardrail Info:\", result.output_guardrail_results[0].output.output_info)"
   ]
  },
  {
   "cell_type": "markdown",
   "metadata": {},
   "source": [
    "Then as we created before, we can access the `is_unpleasant` and `reasoning` attributes."
   ]
  },
  {
   "cell_type": "code",
   "execution_count": 18,
   "metadata": {},
   "outputs": [
    {
     "name": "stdout",
     "output_type": "stream",
     "text": [
      "Guardrail 'is_unpleasant': False\n",
      "Guardrail 'reasoning': The message \"hello, how are you today?\" is a polite greeting asking about someone's well-being. It does not contain any unpleasant language.\n"
     ]
    }
   ],
   "source": [
    "print(\"Guardrail 'is_unpleasant':\", result.output_guardrail_results[0].output.output_info.is_unpleasant)\n",
    "print(\"Guardrail 'reasoning':\", result.output_guardrail_results[0].output.output_info.reasoning)"
   ]
  },
  {
   "cell_type": "markdown",
   "metadata": {},
   "source": [
    "---"
   ]
  }
 ],
 "metadata": {
  "kernelspec": {
   "display_name": ".venv",
   "language": "python",
   "name": "python3"
  },
  "language_info": {
   "codemirror_mode": {
    "name": "ipython",
    "version": 3
   },
   "file_extension": ".py",
   "mimetype": "text/x-python",
   "name": "python",
   "nbconvert_exporter": "python",
   "pygments_lexer": "ipython3",
   "version": "3.12.7"
  }
 },
 "nbformat": 4,
 "nbformat_minor": 2
}
