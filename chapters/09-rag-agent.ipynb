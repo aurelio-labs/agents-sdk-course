{
 "cells": [
  {
   "cell_type": "markdown",
   "metadata": {},
   "source": [
    "#### [Agents SDK Course](https://www.aurelio.ai/course/agents-sdk)"
   ]
  },
  {
   "cell_type": "markdown",
   "metadata": {},
   "source": [
    "[![Open In Colab](https://colab.research.google.com/assets/colab-badge.svg)](https://colab.research.google.com/github/aurelio-labs/agents-sdk-course/blob/main/chapters/09-rag-agent.ipynb) [![Open nbviewer](https://raw.githubusercontent.com/pinecone-io/examples/master/assets/nbviewer-shield.svg)](https://nbviewer.org/github/aurelio-labs/agents-sdk-course/blob/main/chapters/09-rag-agent.ipynb)"
   ]
  },
  {
   "cell_type": "markdown",
   "metadata": {},
   "source": [
    "## RAG Agent\n",
    "\n",
    "**R**etrieval **A**ugmented **G**eneration (RAG) is a powerful technique that enables AI agents to access and leverage external knowledge sources beyond their training data. In this tutorial, we'll build a RAG agent that can answer questions about the JFK assassination files using OpenAI's Agents SDK and Pinecone vector database.\n",
    "\n",
    "RAG is particularly useful when:\n",
    "- You need up-to-date information beyond the model's training cutoff\n",
    "- You have domain-specific documents or proprietary data\n",
    "- You want to reduce hallucinations by grounding responses in factual sources\n",
    "- You need to cite sources for transparency and verification\n",
    "\n",
    "By the end of this tutorial, you'll have built an agent that can search through historical documents and provide accurate, sourced answers about the JFK files."
   ]
  },
  {
   "cell_type": "markdown",
   "metadata": {},
   "source": [
    "\n",
    "### Prerequisites"
   ]
  },
  {
   "cell_type": "markdown",
   "metadata": {},
   "source": [
    "Before we begin, let's install the required packages:"
   ]
  },
  {
   "cell_type": "code",
   "execution_count": null,
   "metadata": {},
   "outputs": [],
   "source": [
    "!pip install -qU \\\n",
    "    \"openai-agents==0.1.0\" \\\n",
    "    \"pinecone==7.0.2\" \\\n",
    "    \"datasets==3.6.0\" \\\n",
    "    \"semantic-chunkers==0.1.1\""
   ]
  },
  {
   "cell_type": "markdown",
   "metadata": {},
   "source": [
    "We also need API keys for OpenAI and Pinecone. You can get:\n",
    "- An OpenAI API key from the [OpenAI Platform](https://platform.openai.com/api-keys)\n",
    "- A Pinecone API key from the [Pinecone Console](https://app.pinecone.io/)"
   ]
  },
  {
   "cell_type": "code",
   "execution_count": 1,
   "metadata": {},
   "outputs": [],
   "source": [
    "import os\n",
    "from getpass import getpass\n",
    "\n",
    "os.environ[\"OPENAI_API_KEY\"] = os.getenv(\"OPENAI_API_KEY\") or getpass(\n",
    "    \"Enter OPENAI_API_KEY: \"\n",
    ")"
   ]
  },
  {
   "cell_type": "markdown",
   "metadata": {},
   "source": [
    "### Testing LLM Knowledge Limitations\n",
    "\n",
    "Before implementing RAG, let's first demonstrate why it's needed. We'll create a basic agent and test its knowledge about specific topics to show the limitations of relying solely on the model's training data."
   ]
  },
  {
   "cell_type": "code",
   "execution_count": 2,
   "metadata": {},
   "outputs": [],
   "source": [
    "from agents import Agent\n",
    "\n",
    "agent = Agent(\n",
    "    name=\"Agent\",\n",
    "    model=\"gpt-4.1-mini\"\n",
    ")"
   ]
  },
  {
   "cell_type": "markdown",
   "metadata": {},
   "source": [
    "We'll ask our agent `\"where was Oswald in october 1959?\"`:"
   ]
  },
  {
   "cell_type": "code",
   "execution_count": 3,
   "metadata": {},
   "outputs": [
    {
     "name": "stdout",
     "output_type": "stream",
     "text": [
      "In October 1959, Lee Harvey Oswald was in the United States, specifically in the state of Texas. During this period, Oswald was living with his family in Fort Worth, Texas. This was a few years before his defection to the Soviet Union in 1959, which happened later that year in October when he traveled to the Soviet Union.\n"
     ]
    }
   ],
   "source": [
    "from agents import Runner\n",
    "\n",
    "query = \"where was Lee Harvey Oswald in october 1959?\"\n",
    "\n",
    "result = await Runner.run(\n",
    "    starting_agent=agent,\n",
    "    input=query,\n",
    ")\n",
    "\n",
    "print(result.final_output)"
   ]
  },
  {
   "cell_type": "markdown",
   "metadata": {},
   "source": [
    "Oswald was _also_ in Helsinki, Finland in October 1959 according to the [JFK files](https://www.archives.gov/files/research/jfk/releases/2025/0318/104-10004-10156.pdf) - which our agent missed. We can try and tease out this information:"
   ]
  },
  {
   "cell_type": "code",
   "execution_count": 4,
   "metadata": {},
   "outputs": [
    {
     "name": "stdout",
     "output_type": "stream",
     "text": [
      "Yes, Lee Harvey Oswald did travel elsewhere in October 1959. More specifically, in early October 1959, Oswald traveled from the United States to the Soviet Union. On October 16, 1959, he sailed from New Orleans to Le Havre, France, then traveled to the Soviet Union, where he eventually settled in Minsk, Belarus, which was part of the USSR at the time.\n",
      "\n",
      "So, to clarify:\n",
      "\n",
      "- Before mid-October 1959, Oswald was in the United States (Texas and elsewhere).\n",
      "- On October 16, 1959, he left the U.S., traveling via France to the Soviet Union.\n",
      "- After arrival, he stayed in the Soviet Union for about two and a half years until he returned to the U.S. in mid-1962.\n",
      "\n",
      "If you want detailed information about any specific dates or places during that period, feel free to ask!\n"
     ]
    }
   ],
   "source": [
    "result = await Runner.run(\n",
    "    starting_agent=agent,\n",
    "    input=[\n",
    "        {\"role\": \"user\", \"content\": query},\n",
    "        {\"role\": \"assistant\", \"content\": result.final_output},\n",
    "        {\"role\": \"user\", \"content\": \"did he go anywhere else?\"}\n",
    "    ],\n",
    ")\n",
    "\n",
    "print(result.final_output)"
   ]
  },
  {
   "cell_type": "markdown",
   "metadata": {},
   "source": [
    "Our agent is clearly not aware of Oswald's trip to Helsinki - that is because the underlying LLM has not seen that information during it's training process. We call information learned during LLM training **parametric knowledge**, ie knowledge stored within the model _parameters_.\n",
    "\n",
    "LLMs can also make use of **source knowledge** to answer questions. Source knowledge refers to information provided to an LLM via a prompt, either provided via the user, the LLM instructions, or in our case - via an external database - ie with **R**etrieval **A**ugmented **G**eneration (RAG). Before we build out our RAG pipeline, let's see if our LLM can answer our question when we provide the relevant information about Oswald's whereabouts via our `instructions`."
   ]
  },
  {
   "cell_type": "code",
   "execution_count": 5,
   "metadata": {},
   "outputs": [],
   "source": [
    "source_knowledge = (\n",
    "    \"~SECRET~\\n\"\n",
    "    \"1 June 1964\\n\"\n",
    "    \"\\n\"\n",
    "    \"## MEMO FOR THE RECORD\\n\"\n",
    "    \"\\n\"\n",
    "    \"1. At 0900 this morning I talked with Frank Friberg recently \"\n",
    "    \"returned COS Helsinki re Warren Commission inquiry concerning \"\n",
    "    \"the timetable of Oswald's stay in Finland in October 1959, including \"\n",
    "    \"his contact with the Soviet Consulate there. (Copy of the Commission \"\n",
    "    \"letter of 25 May 64 and State Cable of 22 May 64 attached.)\"\n",
    ")\n",
    "\n",
    "agent = Agent(\n",
    "    name=\"Agent\",\n",
    "    instructions=(\n",
    "        \"You are an assistant specialized in answering questions about the JFK assassination\"\n",
    "        \"and related documents.\\n\"\n",
    "        \"Here is some additional context that you can use:\\n\"\n",
    "        f\"{source_knowledge}\\n\"\n",
    "    ),\n",
    "    model=\"gpt-4.1-mini\"\n",
    ")"
   ]
  },
  {
   "cell_type": "markdown",
   "metadata": {},
   "source": [
    "Let's ask our original `query` again:"
   ]
  },
  {
   "cell_type": "code",
   "execution_count": 6,
   "metadata": {},
   "outputs": [
    {
     "name": "stdout",
     "output_type": "stream",
     "text": [
      "In October 1959, Lee Harvey Oswald was in Finland. This is evidenced by the memo referencing a conversation with Frank Friberg, who had recently returned as COS (Chief of Station) in Helsinki, regarding Oswald's timetable and contacts with the Soviet Consulate in Finland during that month.\n"
     ]
    }
   ],
   "source": [
    "result = await Runner.run(\n",
    "    starting_agent=agent,\n",
    "    input=query,\n",
    ")\n",
    "\n",
    "print(result.final_output)"
   ]
  },
  {
   "cell_type": "markdown",
   "metadata": {},
   "source": [
    "Perfect, this is much better! Now what we just did works for this simple example, but it doesn't scale. If we want an agent that can answer any question and use context from _all_ of the JFK files, we need to build a RAG pipeline."
   ]
  },
  {
   "cell_type": "markdown",
   "metadata": {},
   "source": [
    "## Building a RAG Pipeline"
   ]
  },
  {
   "cell_type": "markdown",
   "metadata": {},
   "source": [
    "A RAG pipeline actually requires two _core_ pipelines - an **ingestion pipeline** and a **retrieval pipeline**. At a high level those pipelines are responsible for:\n",
    "\n",
    "* **Ingestion** handles the initial data preparation, embedding, and indexing. We'll explain those steps in more detail soon, but the tldr is that the ingestion pipeline will transform a set of unstructured and messy PDFs into a \"second brain\" for our agent, ie the _source knowledge_.\n",
    "\n",
    "* **Retrieval** handles the query-time retrieval of information. It defines how we access and retrieve source knowledge from our second brain.\n",
    "\n",
    "Naturally, we need to first develop our **ingestion pipeline** so that we can populate our second brain before we use the **retrieval pipeline** to retrieve anything."
   ]
  },
  {
   "cell_type": "markdown",
   "metadata": {},
   "source": [
    "### Ingestion Pipeline"
   ]
  },
  {
   "cell_type": "markdown",
   "metadata": {},
   "source": [
    "The ingestion pipeline consists of three (or four) steps:\n",
    "\n",
    "0. **Process the PDF** into plain text - with the `aurelio-ai/jfk-files` dataset (below) this step has been completed.\n",
    "\n",
    "1. **Chunk** the plain text into smaller segments (a good rule of thumb is ~300-400 tokens per chunk).\n",
    "\n",
    "2. **Embed** each chunk with OpenAI's `text-embedding-3-small` to create _vectors_.\n",
    "\n",
    "3. **Index** those vectors in Pinecone with metadata like _source URL_, _document title_, etc.\n",
    "\n",
    "![JFK document ingestion pipeline, covering PDF text to chunked text, embedding those chunks into semantically meaningful vector embeddings, and sending those vector embeddings to a vector database](../assets/jfk-ingestion-pipeline.png)\n",
    "\n",
    "To begin, we'll start at step **0** and download the pre-parsed JFK files."
   ]
  },
  {
   "cell_type": "markdown",
   "metadata": {},
   "source": [
    "\n",
    "### Loading the JFK Files Dataset"
   ]
  },
  {
   "cell_type": "markdown",
   "metadata": {},
   "source": [
    "We'll use a dataset of the JFK files, which we will pull from the [Hugging Face Hub](). This dataset contains historical documents that our agent will search through to answer questions:"
   ]
  },
  {
   "cell_type": "code",
   "execution_count": 7,
   "metadata": {},
   "outputs": [
    {
     "name": "stderr",
     "output_type": "stream",
     "text": [
      "/Users/jamesbriggs/Documents/aurelio/agents-sdk-course/.venv/lib/python3.12/site-packages/tqdm/auto.py:21: TqdmWarning: IProgress not found. Please update jupyter and ipywidgets. See https://ipywidgets.readthedocs.io/en/stable/user_install.html\n",
      "  from .autonotebook import tqdm as notebook_tqdm\n"
     ]
    }
   ],
   "source": [
    "from datasets import load_dataset\n",
    "\n",
    "dataset = load_dataset(\n",
    "    \"aurelio-ai/jfk-files\",\n",
    "    split=\"train\"\n",
    ")"
   ]
  },
  {
   "cell_type": "markdown",
   "metadata": {},
   "source": [
    "Let's examine a sample document to understand the data structure:"
   ]
  },
  {
   "cell_type": "code",
   "execution_count": 8,
   "metadata": {},
   "outputs": [
    {
     "data": {
      "text/plain": [
       "{'id': 'doc_8c4732b4_28af_4ee8_8be0_e10b6f19ee3a',\n",
       " 'filename': '104-10105-10126.pdf',\n",
       " 'url': 'https://www.archives.gov/files/research/jfk/releases/2025/0318/104-10105-10126.pdf',\n",
       " 'date': datetime.datetime(2025, 3, 18, 0, 0),\n",
       " 'content': '[104-10105-10126\\n\\n<!-- image -->\\n\\n3 June 1976\\n\\nMEMORANDUM FOR:\\n\\nChief External Activities Branch Office of Security\\n\\nFROM\\n\\nJohn H . Stein Deputy Chief Soviet/East European\\n\\nDivision\\n\\nSUBJECT\\n\\nManuscript by David Phillips.\\n\\n\\n- 1\\\\_ At the risk of tilting continually at windmills it is the undersigned\\' s view and that of innumerable colleagues that Mr \\\\_ Phillips book should not be published In the first instance\\\\_ those portions we have read are superficial and give the reader the impression that the profession Mr practiced s0 well is one of derring frivolity and foolishness \\\\_ More seriously , the entire book is based on knowledge acquired by Mr Phillips during his career in the Agency Whether a given sentence is in the public domain or not Mr \\\\_ Phillips should not put his stamp of authenticity on that sentence If publish Mr Phillips must, and if the \\\\_ Agency cannot legally him, then be it\\\\_ Hopefully while there is still time , someone will push for appropriate legislation to this foolishnessdo , stop stop\\n- 2 While it is perhaps fruitless, we have attempted to identify some of the more damaging items in the text as drafted. These are cited below:\\n- a Page 15 : Discussion of back channel communications used to circumvent the Secretary of State seems to be ill-advised and not designed to enhance Agency relations with State-\\n- b \\\\_ Page 23 : There begins here a discussion of the use of women by the DDO \\\\_ While I understand Mr Phillips\\' desire to indicate that the DDO does in fact hire women and minorities this section causes some anguish. At the present time certainly in the Near East , Eastern Europe , and the Soviet Union, the\\n\\nE2 IMPDET CL BY 018307\\n\\n<!-- image -->\\n\\n2\\n\\n<!-- image -->\\n\\nuse of women provides us an operational flexibility which we would not otherwise have \\\\_ It is quite evident furthermore that the local security services have not focused on the extent to which Ive do use women We would like to keep it that way as long as Wve possibly can , and it is the undersigned\\' s firm belief that statements from Mr\\\\_ Phillips= obviously authentic, will rather quickly bring the women we do use under increased scrutiny of hostile intelligence services Further in opening the Pandora\\' s box of the use of women and minorities in the DDO , Mr \\\\_ Phillips may be opening both himself and the DDO to unjustified criticism that we are either exploiting Ivomen or not hiring enough of them; similarly the minorities\\\\_\\n\\n- c Page 25 : I have known personally for 17 years the girl who although stripped naked by burglars managed to save her mother and father from There are others elsewhere in the government and probably outside who are knowledgeable about the The girl, now a lovely lady is about to be dispatched under very sensitive cover abroad. Mr \\\\_ Phillips would do well to delete reference to her as being an Agency employee \\\\_\\n- d Page 26 : I think it is unwise for Mr Phillips to conjecture on the reason why there are few blacks employed in the DDO His reasoning may be correct, but I would venture that not everyone who reads his book will believe s0 and the Agency may come under unfortunate pressure because of it\\\\_ The specific black cited on page 27 as having removed a from the hands of demonstrators is a personal friend of mine He is under cover By citing the incident, Mr Phillips removes that cover , for the black re trieved the flag as an American citizen not as a CIA officer. In sum , I would suggest the deletion of the section involving women and minorities because it opens a Pandora\\' s box and because as Written the cover of two highly effective officers is placed in jeopardy \\\\_ flag\\n- Page 36 : The anecdote on page 36 should at least be modified. The person referred to is the undersigned. I am the Agency and(State)officer who owns a Chow All my acquaintances abroad 32 only dog\\n\\n3\\n\\nknow I Own the Chow To avoid damaging further what cover I have left , I would appreciate Mr Phillips simply citing \"dog\" or calling it a \"poodle.\\n\\n\\n<!-- image -->\\n\\n<!-- image -->',\n",
       " 'pages': 3}"
      ]
     },
     "execution_count": 8,
     "metadata": {},
     "output_type": "execute_result"
    }
   ],
   "source": [
    "dataset[1]"
   ]
  },
  {
   "cell_type": "markdown",
   "metadata": {},
   "source": [
    "Each document contains:\n",
    "- `id`: Unique identifier for the document\n",
    "- `filename`: Name of the PDF file\n",
    "- `url`: Link to the original document\n",
    "- `date`: Publication date\n",
    "- `content`: The full text content\n",
    "- `pages`: Number of pages in the original document"
   ]
  },
  {
   "cell_type": "markdown",
   "metadata": {},
   "source": [
    "### Chunking our Data"
   ]
  },
  {
   "cell_type": "markdown",
   "metadata": {},
   "source": [
    "Step **1** in our ingestion pipeline is to _chunk_ our dataset. As mentioned we will be splitting each PDF into chunks of ~400 tokens. We'll also handle cases where a PDF contains little-to-no information by not indexing that PDF, and cases where our final chunk is too small to be relevant by appending it to the previous chunk.\n",
    "\n",
    "We use the lightweight [`semantic-chunkers`](https://github.com/aurelio-labs/semantic-chunkers) library and a simple `RegexChunker` for chunking. We will set the token limit for each chunk to `400` tokens:"
   ]
  },
  {
   "cell_type": "code",
   "execution_count": 9,
   "metadata": {},
   "outputs": [
    {
     "name": "stderr",
     "output_type": "stream",
     "text": [
      "2025-06-10 15:07:56 - httpx - INFO - _client.py:1025 - _send_single_request() - HTTP Request: GET https://raw.githubusercontent.com/BerriAI/litellm/main/model_prices_and_context_window.json \"HTTP/1.1 200 OK\"\n"
     ]
    }
   ],
   "source": [
    "from semantic_chunkers import RegexChunker\n",
    "\n",
    "chunker = RegexChunker(max_chunk_tokens=400)"
   ]
  },
  {
   "cell_type": "markdown",
   "metadata": {},
   "source": [
    "We chunk a doc like so:"
   ]
  },
  {
   "cell_type": "code",
   "execution_count": 10,
   "metadata": {},
   "outputs": [
    {
     "data": {
      "text/plain": [
       "[[Chunk(splits=['[104-10105-10126', '<!-- image -->', '3 June 1976', 'MEMORANDUM FOR:', 'Chief External Activities Branch Office of Security', 'FROM', 'John H .', 'Stein Deputy Chief Soviet/East European', 'Division', 'SUBJECT', 'Manuscript by David Phillips.', \"- 1\\\\_ At the risk of tilting continually at windmills it is the undersigned' s view and that of innumerable colleagues that Mr \\\\_ Phillips book should not be published In the first instance\\\\_ those portions we have read are superficial and give the reader the impression that the profession Mr practiced s0 well is one of derring frivolity and foolishness \\\\_ More seriously , the entire book is based on knowledge acquired by Mr Phillips during his career in the Agency Whether a given sentence is in the public domain or not Mr \\\\_ Phillips should not put his stamp of authenticity on that sentence If publish Mr Phillips must, and if the \\\\_ Agency cannot legally him, then be it\\\\_ Hopefully while there is still time , someone will push for appropriate legislation to this foolishnessdo , stop stop\", '- 2 While it is perhaps fruitless, we have attempted to identify some of the more damaging items in the text as drafted.', 'These are cited below:', '- a Page 15 :', 'Discussion of back channel communications used to circumvent the Secretary of State seems to be ill-advised and not designed to enhance Agency relations with State-', '- b \\\\_ Page 23 :', \"There begins here a discussion of the use of women by the DDO \\\\_ While I understand Mr Phillips' desire to indicate that the DDO does in fact hire women and minorities this section causes some anguish.\", 'At the present time certainly in the Near East , Eastern Europe , and the Soviet Union, the', 'E2 IMPDET CL BY 018307', '<!-- image -->', '2', '<!-- image -->'], is_triggered=False, triggered_score=None, token_count=367, metadata={}),\n",
       "  Chunk(splits=[\"use of women provides us an operational flexibility which we would not otherwise have \\\\_ It is quite evident furthermore that the local security services have not focused on the extent to which Ive do use women We would like to keep it that way as long as Wve possibly can , and it is the undersigned' s firm belief that statements from Mr\\\\_ Phillips= obviously authentic, will rather quickly bring the women we do use under increased scrutiny of hostile intelligence services Further in opening the Pandora' s box of the use of women and minorities in the DDO , Mr \\\\_ Phillips may be opening both himself and the DDO to unjustified criticism that we are either exploiting Ivomen or not hiring enough of them; similarly the minorities\\\\_\", '- c Page 25 :', 'I have known personally for 17 years the girl who although stripped naked by burglars managed to save her mother and father from There are others elsewhere in the government and probably outside who are knowledgeable about the The girl, now a lovely lady is about to be dispatched under very sensitive cover abroad.', 'Mr \\\\_ Phillips would do well to delete reference to her as being an Agency employee \\\\_', '- d Page 26 :', 'I think it is unwise for Mr Phillips to conjecture on the reason why there are few blacks employed in the DDO His reasoning may be correct, but I would venture that not everyone who reads his book will believe s0 and the Agency may come under unfortunate pressure because of it\\\\_ The specific black cited on page 27 as having removed a from the hands of demonstrators is a personal friend of mine He is under cover By citing the incident, Mr Phillips removes that cover , for the black re trieved the flag as an American citizen not as a CIA officer.', \"In sum , I would suggest the deletion of the section involving women and minorities because it opens a Pandora' s box and because as Written the cover of two highly effective officers is placed in jeopardy \\\\_ flag\", '- Page 36 :'], is_triggered=False, triggered_score=None, token_count=394, metadata=None),\n",
       "  Chunk(splits=['The anecdote on page 36 should at least be modified.', 'The person referred to is the undersigned.', 'I am the Agency and(State)officer who owns a Chow All my acquaintances abroad 32 only dog', '3', 'know I Own the Chow To avoid damaging further what cover I have left , I would appreciate Mr Phillips simply citing \"dog\" or calling it a \"poodle.', '<!-- image -->', '<!-- image -->'], is_triggered=False, triggered_score=None, token_count=84, metadata=None)]]"
      ]
     },
     "execution_count": 10,
     "metadata": {},
     "output_type": "execute_result"
    }
   ],
   "source": [
    "chunks = chunker(docs=[dataset[1]['content']])\n",
    "chunks"
   ]
  },
  {
   "cell_type": "markdown",
   "metadata": {},
   "source": [
    "This outputs a list of a list of `Chunk` objects. These `Chunk` objects contain many smaller `splits`, which can be thought of as chunks within chunks. We can view the chunks in a cleaner way using `chunker.print` on a `list[Chunk]` object like so:"
   ]
  },
  {
   "cell_type": "code",
   "execution_count": 11,
   "metadata": {},
   "outputs": [
    {
     "name": "stdout",
     "output_type": "stream",
     "text": [
      "Split 1, tokens 367, triggered by: token limit\n",
      "\u001b[31m[104-10105-10126 <!-- image --> 3 June 1976 MEMORANDUM FOR: Chief External Activities Branch Office of Security FROM John H . Stein Deputy Chief Soviet/East European Division SUBJECT Manuscript by David Phillips. - 1\\_ At the risk of tilting continually at windmills it is the undersigned' s view and that of innumerable colleagues that Mr \\_ Phillips book should not be published In the first instance\\_ those portions we have read are superficial and give the reader the impression that the profession Mr practiced s0 well is one of derring frivolity and foolishness \\_ More seriously , the entire book is based on knowledge acquired by Mr Phillips during his career in the Agency Whether a given sentence is in the public domain or not Mr \\_ Phillips should not put his stamp of authenticity on that sentence If publish Mr Phillips must, and if the \\_ Agency cannot legally him, then be it\\_ Hopefully while there is still time , someone will push for appropriate legislation to this foolishnessdo , stop stop - 2 While it is perhaps fruitless, we have attempted to identify some of the more damaging items in the text as drafted. These are cited below: - a Page 15 : Discussion of back channel communications used to circumvent the Secretary of State seems to be ill-advised and not designed to enhance Agency relations with State- - b \\_ Page 23 : There begins here a discussion of the use of women by the DDO \\_ While I understand Mr Phillips' desire to indicate that the DDO does in fact hire women and minorities this section causes some anguish. At the present time certainly in the Near East , Eastern Europe , and the Soviet Union, the E2 IMPDET CL BY 018307 <!-- image --> 2 <!-- image -->\u001b[0m\n",
      "----------------------------------------------------------------------------------------\n",
      "\n",
      "\n",
      "Split 2, tokens 394, triggered by: token limit\n",
      "\u001b[32muse of women provides us an operational flexibility which we would not otherwise have \\_ It is quite evident furthermore that the local security services have not focused on the extent to which Ive do use women We would like to keep it that way as long as Wve possibly can , and it is the undersigned' s firm belief that statements from Mr\\_ Phillips= obviously authentic, will rather quickly bring the women we do use under increased scrutiny of hostile intelligence services Further in opening the Pandora' s box of the use of women and minorities in the DDO , Mr \\_ Phillips may be opening both himself and the DDO to unjustified criticism that we are either exploiting Ivomen or not hiring enough of them; similarly the minorities\\_ - c Page 25 : I have known personally for 17 years the girl who although stripped naked by burglars managed to save her mother and father from There are others elsewhere in the government and probably outside who are knowledgeable about the The girl, now a lovely lady is about to be dispatched under very sensitive cover abroad. Mr \\_ Phillips would do well to delete reference to her as being an Agency employee \\_ - d Page 26 : I think it is unwise for Mr Phillips to conjecture on the reason why there are few blacks employed in the DDO His reasoning may be correct, but I would venture that not everyone who reads his book will believe s0 and the Agency may come under unfortunate pressure because of it\\_ The specific black cited on page 27 as having removed a from the hands of demonstrators is a personal friend of mine He is under cover By citing the incident, Mr Phillips removes that cover , for the black re trieved the flag as an American citizen not as a CIA officer. In sum , I would suggest the deletion of the section involving women and minorities because it opens a Pandora' s box and because as Written the cover of two highly effective officers is placed in jeopardy \\_ flag - Page 36 :\u001b[0m\n",
      "----------------------------------------------------------------------------------------\n",
      "\n",
      "\n",
      "Split 3, tokens 84, triggered by: final split\n",
      "\u001b[34mThe anecdote on page 36 should at least be modified. The person referred to is the undersigned. I am the Agency and(State)officer who owns a Chow All my acquaintances abroad 32 only dog 3 know I Own the Chow To avoid damaging further what cover I have left , I would appreciate Mr Phillips simply citing \"dog\" or calling it a \"poodle. <!-- image --> <!-- image -->\u001b[0m\n",
      "----------------------------------------------------------------------------------------\n",
      "\n",
      "\n"
     ]
    }
   ],
   "source": [
    "chunker.print(chunks[0])"
   ]
  },
  {
   "cell_type": "markdown",
   "metadata": {},
   "source": [
    "We'll need the text content from our chunks which we access via the `content` attribute:"
   ]
  },
  {
   "cell_type": "code",
   "execution_count": 12,
   "metadata": {},
   "outputs": [
    {
     "data": {
      "text/plain": [
       "\"[104-10105-10126 <!-- image --> 3 June 1976 MEMORANDUM FOR: Chief External Activities Branch Office of Security FROM John H . Stein Deputy Chief Soviet/East European Division SUBJECT Manuscript by David Phillips. - 1\\\\_ At the risk of tilting continually at windmills it is the undersigned' s view and that of innumerable colleagues that Mr \\\\_ Phillips book should not be published In the first instance\\\\_ those portions we have read are superficial and give the reader the impression that the profession Mr practiced s0 well is one of derring frivolity and foolishness \\\\_ More seriously , the entire book is based on knowledge acquired by Mr Phillips during his career in the Agency Whether a given sentence is in the public domain or not Mr \\\\_ Phillips should not put his stamp of authenticity on that sentence If publish Mr Phillips must, and if the \\\\_ Agency cannot legally him, then be it\\\\_ Hopefully while there is still time , someone will push for appropriate legislation to this foolishnessdo , stop stop - 2 While it is perhaps fruitless, we have attempted to identify some of the more damaging items in the text as drafted. These are cited below: - a Page 15 : Discussion of back channel communications used to circumvent the Secretary of State seems to be ill-advised and not designed to enhance Agency relations with State- - b \\\\_ Page 23 : There begins here a discussion of the use of women by the DDO \\\\_ While I understand Mr Phillips' desire to indicate that the DDO does in fact hire women and minorities this section causes some anguish. At the present time certainly in the Near East , Eastern Europe , and the Soviet Union, the E2 IMPDET CL BY 018307 <!-- image --> 2 <!-- image -->\""
      ]
     },
     "execution_count": 12,
     "metadata": {},
     "output_type": "execute_result"
    }
   ],
   "source": [
    "chunks[0][0].content"
   ]
  },
  {
   "cell_type": "markdown",
   "metadata": {},
   "source": [
    "In the next step we'll setup our Pinecone vector DB and begin **embedding _and_ indexing** our data in one step - while indexing we'll be performing the above chunking logic across all our docs before they're embedded."
   ]
  },
  {
   "cell_type": "markdown",
   "metadata": {},
   "source": [
    "### Embedding and Indexing"
   ]
  },
  {
   "cell_type": "markdown",
   "metadata": {},
   "source": [
    "\n",
    "To enable semantic search over our documents, we'll use [Pinecone](https://www.pinecone.io/) - a fully managed vector database. Vector databases allow us to store and search through vector embeddings (numerical representations of text) to find semantically similar content. There are many vector DB options out there, alongside Pinecone we also recommend [Qdrant](https://qdrant.tech/) and [pgvector](https://github.com/pgvector/pgvector).\n",
    "\n",
    "First, let's set up our Pinecone API key which we can find in the [Pinecone console](https://app.pinecone.io/):"
   ]
  },
  {
   "cell_type": "code",
   "execution_count": 13,
   "metadata": {},
   "outputs": [],
   "source": [
    "from pinecone import Pinecone\n",
    "\n",
    "os.environ[\"PINECONE_API_KEY\"] = os.getenv(\"PINECONE_API_KEY\") or getpass(\n",
    "    \"Enter PINECONE_API_KEY: \"\n",
    ")\n",
    "\n",
    "# initializing the pinecone client\n",
    "pc = Pinecone()"
   ]
  },
  {
   "cell_type": "markdown",
   "metadata": {},
   "source": [
    "Now we'll create a Pinecone index to store our vector embeddings. We specify the following:\n",
    "\n",
    "- We want to use AWS via `cloud=CloudProvider.AWS` in Pinecone's free tier region via `region=AwsRegion.US_EAST_1`.\n",
    "- We use the `llama-text-embed-v2` embedding model hosted by Pinecone - by default the index will be configured for this model.\n",
    "- We specify that the text content that should be embedding by our model will be provided to Pinecone via the `content` metadata field."
   ]
  },
  {
   "cell_type": "code",
   "execution_count": 14,
   "metadata": {},
   "outputs": [],
   "source": [
    "from pinecone import AwsRegion, CloudProvider\n",
    "\n",
    "# set our index name, you can change this to whatever you like\n",
    "index_name = \"agents-sdk-course-jfk-files\"\n",
    "\n",
    "# if the index doesn't exist, create it\n",
    "if index_name not in pc.list_indexes().names():\n",
    "    pc.create_index_for_model(\n",
    "        name=index_name,\n",
    "        cloud=CloudProvider.AWS,\n",
    "        region=AwsRegion.US_EAST_1,\n",
    "        embed={\n",
    "            \"model\": \"llama-text-embed-v2\",\n",
    "            \"field_map\": {\n",
    "                \"text\": \"content\"\n",
    "            }\n",
    "        }\n",
    "    )\n",
    "\n",
    "index = pc.Index(index_name)"
   ]
  },
  {
   "cell_type": "markdown",
   "metadata": {},
   "source": [
    "Let's check if our index is empty (it should be on first run):"
   ]
  },
  {
   "cell_type": "code",
   "execution_count": 15,
   "metadata": {},
   "outputs": [
    {
     "data": {
      "text/plain": [
       "{'dimension': 1024,\n",
       " 'index_fullness': 0.0,\n",
       " 'metric': 'cosine',\n",
       " 'namespaces': {},\n",
       " 'total_vector_count': 0,\n",
       " 'vector_type': 'dense'}"
      ]
     },
     "execution_count": 15,
     "metadata": {},
     "output_type": "execute_result"
    }
   ],
   "source": [
    "index.describe_index_stats()"
   ]
  },
  {
   "cell_type": "markdown",
   "metadata": {},
   "source": [
    "To embed and index a chunk, we can do the following:"
   ]
  },
  {
   "cell_type": "code",
   "execution_count": 16,
   "metadata": {},
   "outputs": [],
   "source": [
    "doc = dataset[1]\n",
    "\n",
    "# chunk the doc\n",
    "chunks = chunker(docs=[doc['content']])\n",
    "\n",
    "# create a list of dictionary records\n",
    "records = [\n",
    "    {\n",
    "        \"id\": doc['id']+f\"-{i}\",\n",
    "        \"content\": chunk.content,\n",
    "        \"filename\": doc['filename'],\n",
    "        \"url\": doc['url'],\n",
    "        \"date\": doc['date'].isoformat(),\n",
    "        \"pages\": doc['pages']\n",
    "    } for i, chunk in enumerate(chunks[0])\n",
    "]\n",
    "\n",
    "# embed and index\n",
    "index.upsert_records(\n",
    "    namespace=\"default\",\n",
    "    records=records\n",
    ")"
   ]
  },
  {
   "cell_type": "markdown",
   "metadata": {},
   "source": [
    "Now we should see that our index contains three records inside the `default` namespace:"
   ]
  },
  {
   "cell_type": "code",
   "execution_count": 17,
   "metadata": {},
   "outputs": [
    {
     "data": {
      "text/plain": [
       "{'dimension': 1024,\n",
       " 'index_fullness': 0.0,\n",
       " 'metric': 'cosine',\n",
       " 'namespaces': {},\n",
       " 'total_vector_count': 0,\n",
       " 'vector_type': 'dense'}"
      ]
     },
     "execution_count": 17,
     "metadata": {},
     "output_type": "execute_result"
    }
   ],
   "source": [
    "index.describe_index_stats()"
   ]
  },
  {
   "cell_type": "markdown",
   "metadata": {},
   "source": [
    "Perfect! Now we simply repeat that process for all of our docs. We will do this in batches to avoid excessive network calls with small packages."
   ]
  },
  {
   "cell_type": "code",
   "execution_count": 18,
   "metadata": {},
   "outputs": [
    {
     "name": "stderr",
     "output_type": "stream",
     "text": [
      "100%|██████████| 606/606 [00:22<00:00, 26.51it/s]\n"
     ]
    },
    {
     "data": {
      "text/plain": [
       "{'dimension': 1024,\n",
       " 'index_fullness': 0.0,\n",
       " 'metric': 'cosine',\n",
       " 'namespaces': {'default': {'vector_count': 1804}},\n",
       " 'total_vector_count': 1804,\n",
       " 'vector_type': 'dense'}"
      ]
     },
     "execution_count": 18,
     "metadata": {},
     "output_type": "execute_result"
    }
   ],
   "source": [
    "from tqdm.auto import tqdm\n",
    "\n",
    "records = []\n",
    "for doc in tqdm(dataset):\n",
    "    # perform a quick length check of our docs to avoid excessively small docs\n",
    "    if len(doc['content']) < 100:\n",
    "        # nothing less than 100 chars\n",
    "        continue\n",
    "    # chunk the docs\n",
    "    chunks = chunker(docs=[doc['content']])\n",
    "    for i, chunk in enumerate(chunks[0]):\n",
    "        records.append(\n",
    "            {\n",
    "                \"id\": doc['id']+f\"-{i}\",\n",
    "                \"content\": chunk.content,\n",
    "                \"filename\": doc['filename'],\n",
    "                \"url\": doc['url'],\n",
    "                \"date\": doc['date'].isoformat(),\n",
    "                \"pages\": doc['pages']\n",
    "            }\n",
    "        )\n",
    "    if len(records) >= 64:\n",
    "        # if we have a particularly long doc, we'll need to split up the batch\n",
    "        for i in range(0, len(records), 96):\n",
    "            # 96 is the max number of records we can upsert in one go\n",
    "            batch = records[i:i+96]\n",
    "            # embed and index the batch\n",
    "            index.upsert_records(\n",
    "                namespace=\"default\",\n",
    "                records=batch\n",
    "            )\n",
    "        records = []\n",
    "\n",
    "index.describe_index_stats()"
   ]
  },
  {
   "cell_type": "markdown",
   "metadata": {},
   "source": [
    "That's our **ingestion pipeline** complete and we're ready to move on to the **retrieval pipeline**."
   ]
  },
  {
   "cell_type": "markdown",
   "metadata": {},
   "source": [
    "## Retrieval Pipeline"
   ]
  },
  {
   "cell_type": "markdown",
   "metadata": {},
   "source": [
    "Our retrieval pipeline is what will be used to retrieve the right source knowledge for our agent at query-time. We will be implementing this via an Agent SDK `@function_tool` but before we do so let's directly test retrieval.\n",
    "\n",
    "As we're using Pinecone's integrated inference (ie both indexing and embedding are handled by Pinecone) the retrieval pipeline is incredibly simple."
   ]
  },
  {
   "cell_type": "code",
   "execution_count": 19,
   "metadata": {},
   "outputs": [
    {
     "data": {
      "text/plain": [
       "{'result': {'hits': [{'_id': 'doc_5f3f1ea3_aced_45e6_b35d_70bfe503daf6-1',\n",
       "                      '_score': 0.36479848623275757,\n",
       "                      'fields': {'content': '- At 0900 this morn I talked with '\n",
       "                                            'Frank Friberg recently recurned '\n",
       "                                            'COS Helsinki re Warren '\n",
       "                                            'Commlission inqulry concerni the '\n",
       "                                            'tímetable of Oswald stay in '\n",
       "                                            'Finland in October 1959 ng his '\n",
       "                                            'contact with the Soviet Consulate '\n",
       "                                            'there. including letler of 25 64 '\n",
       "                                            'and State Cable (Copy of the '\n",
       "                                            'Comnission of 22 64 attached.) '\n",
       "                                            'ing May May - 2 Friberg gave the '\n",
       "                                            'folloving Information= - Ic takes '\n",
       "                                            '25 minutes to drive the airport '\n",
       "                                            'to downtown Helsinki; from - b By '\n",
       "                                            'taxi, it would take no more than '\n",
       "                                            '5 minutes to reach the Soviet '\n",
       "                                            'consulate; - c The Soviet '\n",
       "                                            'consulate probably closed at 1300 '\n",
       "                                            'hvurs Jocal Saturdays in 1959; - '\n",
       "                                            'Passenger lists (manifests) at '\n",
       "                                            'che Consulute in Helsinki are '\n",
       "                                            'retained for six months only and '\n",
       "                                            'chen are destroyed Mr Robert '\n",
       "                                            'Fulton (CIA) was consular '\n",
       "                                            'official there at the time - A '\n",
       "                                            'copy of State 5 cable inquiry '\n",
       "                                            'would go to th( Helsinki Station '\n",
       "                                            'and would assist in preparation '\n",
       "                                            'of reply they - 3 Mr\\\\_ Friberg '\n",
       "                                            'agreed that it would be '\n",
       "                                            'worchvhile É0 cable che Station '\n",
       "                                            'concerning points not covered by '\n",
       "                                            'State in their inquiry He '\n",
       "                                            'suggested changes incorporated '\n",
       "                                            'into the cable sent Helsinki to '\n",
       "                                            '<!-- image --> <!-- image --> '\n",
       "                                            'Document Number for FOIR Roview '\n",
       "                                            'on As DOC 340 RECORD COPY '\n",
       "                                            'Docld:32106269 Page 3 <!-- image '\n",
       "                                            '-->',\n",
       "                                 'pages': 3.0,\n",
       "                                 'url': 'https://www.archives.gov/files/research/jfk/releases/2025/0318/104-10004-10143 '\n",
       "                                        '(C06932208).pdf'}},\n",
       "                     {'_id': 'doc_f3c9bc79_e632_4e53_b3a1_6a0c0dbda569-0',\n",
       "                      '_score': 0.34108594059944153,\n",
       "                      'fields': {'content': '2025 RELEASE UNDER THE PRESIDENT '\n",
       "                                            'JOHN F KENNEDY ASSASSINATION '\n",
       "                                            'RECORDS ACT OF 1992 1002 Us/82/71 '\n",
       "                                            'Dear Anthony Reqarding your '\n",
       "                                            'letter 6/705 of 10 1982 , our '\n",
       "                                            'records indicate that Valeriy '\n",
       "                                            'Vladimirovich\\\\_ Kostikoy '\n",
       "                                            'traveled to Mexico France , '\n",
       "                                            'Spain, the and Cuba during the '\n",
       "                                            'period 1959-61In 1961 , he was '\n",
       "                                            'assigned permanently to Mexico '\n",
       "                                            'City as a consular officer and '\n",
       "                                            'served there until August 1965. '\n",
       "                                            'He was variously described as a '\n",
       "                                            'translator vice-consul and '\n",
       "                                            'attache During this tour he '\n",
       "                                            'attempted to cultivate a '\n",
       "                                            'Government employee assigned to '\n",
       "                                            'our embassy in Mexico May \\\\_ '\n",
       "                                            'city. 20 | - In September '\n",
       "                                            '/October 1963 2 Lee Harvey Oswald '\n",
       "                                            'approached the Soviet Embassy in '\n",
       "                                            'Mexico City in an attempt to a '\n",
       "                                            'visa allowing him to return to '\n",
       "                                            'the USSR . Kostikov, as a '\n",
       "                                            'consular officer, handled this '\n",
       "                                            'visa request We have no '\n",
       "                                            'infornation which indicates any '\n",
       "                                            'relationship between these '\n",
       "                                            'individuals other than for the '\n",
       "                                            \"purpose of Oswald's making his \"\n",
       "                                            'visa request. get Kostikov '\n",
       "                                            'returned to Mexico City for à '\n",
       "                                            'second tour of duty in July '\n",
       "                                            '1968During this tour he was again '\n",
       "                                            'assigned to the consular section '\n",
       "                                            'and was à second secretary It '\n",
       "                                            'appeared that he was tasked with '\n",
       "                                            'followz the activities of the '\n",
       "                                            'Central American communist '\n",
       "                                            'partiesánd left-wing groups and '\n",
       "                                            'he met often with members Of '\n",
       "                                            'these groups reportedly providing '\n",
       "                                            'them with funds and technical '\n",
       "                                            'guidanceIn July/August 1969 \\\\_ '\n",
       "                                            'Kostikov made an unusual TDY trip '\n",
       "                                            'to Moscow lasting three weeks. '\n",
       "                                            '(His family remained in Mexico. ) '\n",
       "                                            'In July 1970 he made à four-day '\n",
       "                                            'trip to Havana. ing',\n",
       "                                 'pages': 2.0,\n",
       "                                 'url': 'https://www.archives.gov/files/research/jfk/releases/2025/0318/104-10012-10022.pdf'}},\n",
       "                     {'_id': 'doc_3f9ae705_eac4_4b8f_910f_275b43ba2306-0',\n",
       "                      '_score': 0.30323541164398193,\n",
       "                      'fields': {'content': '## MSMORAMDUM FOR: SUBJECI Audio '\n",
       "                                            'Qpezation 1 In May 1959, Buildirg '\n",
       "                                            'which is occupied ments. Bonsal '\n",
       "                                            'and Miss Carolyn O. Stacey In '\n",
       "                                            'Novenbez 1959, recorder 1959 2, '\n",
       "                                            'By June: 1960, case weat to He '\n",
       "                                            'mazaged to leas2 22 NCNA '\n",
       "                                            'officeand arrazged íor 3 In '\n",
       "                                            'August 1950, in Havaza 02 '\n",
       "                                            'separate SR Division operation '\n",
       "                                            'agreed to irstall the A secord FE '\n",
       "                                            'Division case officer, Robert '\n",
       "                                            'Meet, and he, together With the '\n",
       "                                            'techniciars, installed &amp; '\n",
       "                                            'pröbe microphone and tape '\n",
       "                                            '2partmeat, in the wall and '\n",
       "                                            'plastered over . S-E-C-R-E-T '\n",
       "                                            'precaution t0 provide a Bafe 4, '\n",
       "                                            'As additional security Chief of '\n",
       "                                            'Station, key\\\\_ baven, and after '\n",
       "                                            'consultation with the Act:ng Mrs. '\n",
       "                                            'Marjorie to an oòtained. Mrs. '\n",
       "                                            'Lannox was aeeded foz '\n",
       "                                            'photographic apartment 5; The '\n",
       "                                            'Station wräs irdefinitely the '\n",
       "                                            'lease to holding the leases; It '\n",
       "                                            \"was; contracts 'aid recalling in \"\n",
       "                                            'order to permit\\\\_continued man '\n",
       "                                            'Christ (alias Carswell) ; '\n",
       "                                            'Denbrunt) documented Taransky) '\n",
       "                                            'and Thoratoa J. Chinese '\n",
       "                                            'Natioralist aborted Chinese '\n",
       "                                            'Cormunits. ment over the NCNA '\n",
       "                                            'office. 6 other on scheduled '\n",
       "                                            'apzoiatment Laanox was ertered '\n",
       "                                            'into and September, At Neet, the '\n",
       "                                            'the Cuban authorities and '\n",
       "                                            \"detained: 'picked up bY get 7 and \"\n",
       "                                            'is still in Havana, Neet '\n",
       "                                            'euthorities. His wife bag been '\n",
       "                                            'released suosequently returced: '\n",
       "                                            'debriefed: Mrs. Vashington where '\n",
       "                                            'she subaequertly isbeing '\n",
       "                                            'debriefed, Lenaox jciatly '\n",
       "                                            'interzogated Chzist was to have '\n",
       "                                            'been Ialtreated.',\n",
       "                                 'pages': 7.0,\n",
       "                                 'url': 'https://www.archives.gov/files/research/jfk/releases/2025/0318/104-10095-10276.pdf'}},\n",
       "                     {'_id': 'doc_1ae8e64e_e149_45f5_be1e_57274841d8d0-35',\n",
       "                      '_score': 0.2979748845100403,\n",
       "                      'fields': {'content': '- 8 Uncropped copies of '\n",
       "                                            'photographs of the \"Mexico City '\n",
       "                                            'Oswald\" These include CIA '\n",
       "                                            'photographs ## C/CI Memo to OLC '\n",
       "                                            '(CI 622-77 29 Nov 77 : Eleven of '\n",
       "                                            'the twelve photographs were '\n",
       "                                            'released under the FOIAA copy of '\n",
       "                                            'each of these photographs is '\n",
       "                                            'included in the attached notebook '\n",
       "                                            '- c (attached) A black notebook '\n",
       "                                            'containing copies of 12 '\n",
       "                                            'photographs of the \"unidentified '\n",
       "                                            'individual\" who was seen entering '\n",
       "                                            'or leaving the Cuban and Soviet '\n",
       "                                            'Embassies in Mexico City. | 1 '\n",
       "                                            'ESCA_Request,9_Novenber_1977 (OLC '\n",
       "                                            '#77-4894) for Inforuatlon '\n",
       "                                            'generated by Or 1n the pogbession '\n",
       "                                            'Of                                                                                                    '\n",
       "                                            '| '\n",
       "                                            '|-------------------------------------------------------------------------------------------------------------------------------------------------------------------------------------------------------| '\n",
       "                                            '| 2 C/CI Memo to OLC 6 December '\n",
       "                                            '1977 (CI 632-77 by Holmes) re: '\n",
       "                                            'Robert numerous re ferences to '\n",
       "                                            'McKeown in FBI documents- '\n",
       "                                            'The_identificationof FBI '\n",
       "                                            'documents will_be forwarded by '\n",
       "                                            'separate memorandum Ray | '\n",
       "                                            '14-00000 | HSCA Request, 22 '\n",
       "                                            'December 1977 (OLC #77-5685/4) '\n",
       "                                            'for access to files or documents '\n",
       "                                            'on or referring to: 9 Priscilla '\n",
       "                                            'Johnson McMillan Author of '\n",
       "                                            '\"Marina and Lee\" interviewed '\n",
       "                                            'Oswald '\n",
       "                                            'in                                                                          '\n",
       "                                            '| '\n",
       "                                            '|-------------------------------------------------------------------------------------------------------------------------------------------------------------------------------------------------------------------------------------------------------------| '\n",
       "                                            '| DCD_112-78, 31 Jan 78: DCD '\n",
       "                                            'response to_her request (P '\n",
       "                                            '76-1861) under the Privacy Act  '\n",
       "                                            'Full text and sanitized copies of '\n",
       "                                            'all this material shouldbe '\n",
       "                                            'available from IPS . Also '\n",
       "                                            'attached are four intelligence '\n",
       "                                            'information reports which were '\n",
       "                                            'not furnished in | | response to '\n",
       "                                            'the PA request _ 23 7e6 '\n",
       "                                            'PS                                                                                                                                                                                                                      '\n",
       "                                            '| 14-00000 MC WILLIE , Lewis J '\n",
       "                                            '|    | by the Of '\n",
       "                                            'CIA                                                                                                  '\n",
       "                                            '| '\n",
       "                                            '|----|----------------------------------------------------------------------------------------------------------------|',\n",
       "                                 'pages': 78.0,\n",
       "                                 'url': 'https://www.archives.gov/files/research/jfk/releases/2025/0318/104-10079-10016.pdf'}},\n",
       "                     {'_id': 'doc_2fdf75d6_bd4e_471c_b62d_6929df21324e-0',\n",
       "                      '_score': 0.27828192710876465,\n",
       "                      'fields': {'content': '2025 RELEASE UNDER THE PRESIDENT '\n",
       "                                            'JOHN F\\\\_ KENNEDY ASSASSINATION '\n",
       "                                            'RECORDS ACT OF 1992 <!-- image '\n",
       "                                            '--> ## 1 June 1964 ## MEMO FOR '\n",
       "                                            'IHE\\\\_RECORD - At 0900 this '\n",
       "                                            'morning I talked with Frank '\n",
       "                                            'Friberg recently returned COS '\n",
       "                                            'Helsínki re Warren Comm1ssion '\n",
       "                                            'Inquiry concerning the timetable '\n",
       "                                            'of Oswald s stay in Fínland '\n",
       "                                            'October 1959, Including contact '\n",
       "                                            'with the Soviet Consulate there. '\n",
       "                                            '(Copy of the Commission letter of '\n",
       "                                            '25 May 64 and State Cable of 64 '\n",
       "                                            'attached .) May - 2 . Friberg '\n",
       "                                            'gave me the following '\n",
       "                                            'information: - a, It takes 25 '\n",
       "                                            'minutes to drive from the alrport '\n",
       "                                            'to downtown Helsinki; - By taxi, '\n",
       "                                            'it would take no more than 5 '\n",
       "                                            'mInutes to reach the Soviet '\n",
       "                                            'consulate; - The Sovlet consulate '\n",
       "                                            'probably closed at 1300 hours '\n",
       "                                            'local time 6n Saturdays in 1959; '\n",
       "                                            '- d Passenger lists (manifests) '\n",
       "                                            'at the U.S . Consulate in '\n",
       "                                            'Helsinki are retäined for s1x '\n",
       "                                            'months and then are destroyed . '\n",
       "                                            'Mr \\\\_ Robert Fulton (CIA) was '\n",
       "                                            'U.S. consular officíal there at '\n",
       "                                            'the time\\\\_ only - e A copy of s '\n",
       "                                            'cable inquiry would g0 Eo the '\n",
       "                                            'Helsinki Station and they would '\n",
       "                                            'assist in preparatlon of a reply. '\n",
       "                                            '- 3. Mr \\\\_ Friberg agreed that '\n",
       "                                            'it would be worthwhile to cable '\n",
       "                                            'the Station concerning points not '\n",
       "                                            'covered by State In their Inquiry '\n",
       "                                            '. He suggested changes '\n",
       "                                            'incorporated into the cable sent '\n",
       "                                            'to 780-340 <!-- image --> '\n",
       "                                            'Document Number saME As 716-838 '\n",
       "                                            '<!-- image --> Se0 Sanltized File '\n",
       "                                            'Number 235 For',\n",
       "                                 'pages': 3.0,\n",
       "                                 'url': 'https://www.archives.gov/files/research/jfk/releases/2025/0318/104-10004-10156.pdf'}}]},\n",
       " 'usage': {'embed_total_tokens': 15, 'read_units': 1}}"
      ]
     },
     "execution_count": 19,
     "metadata": {},
     "output_type": "execute_result"
    }
   ],
   "source": [
    "results = index.search(\n",
    "    namespace=\"default\",\n",
    "    query={\n",
    "        \"inputs\": {\"text\": query},\n",
    "        \"top_k\": 5\n",
    "    },\n",
    "    fields=[\"content\", \"url\", \"pages\"]\n",
    ")\n",
    "\n",
    "results"
   ]
  },
  {
   "cell_type": "markdown",
   "metadata": {},
   "source": [
    "Let's format these a little nicer:"
   ]
  },
  {
   "cell_type": "code",
   "execution_count": null,
   "metadata": {},
   "outputs": [
    {
     "name": "stderr",
     "output_type": "stream",
     "text": [
      "<>:11: SyntaxWarning: invalid escape sequence '\\|'\n",
      "<>:11: SyntaxWarning: invalid escape sequence '\\|'\n",
      "/var/folders/0d/qsc6nk1x38gbh2qd8s0mmq740000gn/T/ipykernel_19269/2697269785.py:11: SyntaxWarning: invalid escape sequence '\\|'\n",
      "  f\"| {result['fields']['content'].replace('|', '\\|')} \"\n"
     ]
    },
    {
     "data": {
      "text/markdown": [
       "\n",
       "| Score | Content | Pages | URL |\n",
       "|-------|---------|-------|-----|\n",
       "| 0.36 | - At 0900 this morn I talked with Frank Friberg recently recurned COS Helsinki re Warren Commlission inqulry concerni the tímetable of Oswald stay in Finland in October 1959 ng his contact with the Soviet Consulate there. including letler of 25 64 and State Cable (Copy of the Comnission of 22 64 attached.) ing May May - 2 Friberg gave the folloving Information= - Ic takes 25 minutes to drive the airport to downtown Helsinki; from - b By taxi, it would take no more than 5 minutes to reach the Soviet consulate; - c The Soviet consulate probably closed at 1300 hvurs Jocal Saturdays in 1959; - Passenger lists (manifests) at che Consulute in Helsinki are retained for six months only and chen are destroyed Mr Robert Fulton (CIA) was consular official there at the time - A copy of State 5 cable inquiry would go to th( Helsinki Station and would assist in preparation of reply they - 3 Mr\\_ Friberg agreed that it would be worchvhile É0 cable che Station concerning points not covered by State in their inquiry He suggested changes incorporated into the cable sent Helsinki to <!-- image --> <!-- image --> Document Number for FOIR Roview on As DOC 340 RECORD COPY Docld:32106269 Page 3 <!-- image --> | 3.0 | https://www.archives.gov/files/research/jfk/releases/2025/0318/104-10004-10143 (C06932208).pdf |\n",
       "| 0.34 | 2025 RELEASE UNDER THE PRESIDENT JOHN F KENNEDY ASSASSINATION RECORDS ACT OF 1992 1002 Us/82/71 Dear Anthony Reqarding your letter 6/705 of 10 1982 , our records indicate that Valeriy Vladimirovich\\_ Kostikoy traveled to Mexico France , Spain, the and Cuba during the period 1959-61In 1961 , he was assigned permanently to Mexico City as a consular officer and served there until August 1965. He was variously described as a translator vice-consul and attache During this tour he attempted to cultivate a Government employee assigned to our embassy in Mexico May \\_ city. 20 \\| - In September /October 1963 2 Lee Harvey Oswald approached the Soviet Embassy in Mexico City in an attempt to a visa allowing him to return to the USSR . Kostikov, as a consular officer, handled this visa request We have no infornation which indicates any relationship between these individuals other than for the purpose of Oswald's making his visa request. get Kostikov returned to Mexico City for à second tour of duty in July 1968During this tour he was again assigned to the consular section and was à second secretary It appeared that he was tasked with followz the activities of the Central American communist partiesánd left-wing groups and he met often with members Of these groups reportedly providing them with funds and technical guidanceIn July/August 1969 \\_ Kostikov made an unusual TDY trip to Moscow lasting three weeks. (His family remained in Mexico. ) In July 1970 he made à four-day trip to Havana. ing | 2.0 | https://www.archives.gov/files/research/jfk/releases/2025/0318/104-10012-10022.pdf |\n",
       "| 0.30 | ## MSMORAMDUM FOR: SUBJECI Audio Qpezation 1 In May 1959, Buildirg which is occupied ments. Bonsal and Miss Carolyn O. Stacey In Novenbez 1959, recorder 1959 2, By June: 1960, case weat to He mazaged to leas2 22 NCNA officeand arrazged íor 3 In August 1950, in Havaza 02 separate SR Division operation agreed to irstall the A secord FE Division case officer, Robert Meet, and he, together With the techniciars, installed &amp; pröbe microphone and tape 2partmeat, in the wall and plastered over . S-E-C-R-E-T precaution t0 provide a Bafe 4, As additional security Chief of Station, key\\_ baven, and after consultation with the Act:ng Mrs. Marjorie to an oòtained. Mrs. Lannox was aeeded foz photographic apartment 5; The Station wräs irdefinitely the lease to holding the leases; It was; contracts 'aid recalling in order to permit\\_continued man Christ (alias Carswell) ; Denbrunt) documented Taransky) and Thoratoa J. Chinese Natioralist aborted Chinese Cormunits. ment over the NCNA office. 6 other on scheduled apzoiatment Laanox was ertered into and September, At Neet, the the Cuban authorities and detained: 'picked up bY get 7 and is still in Havana, Neet euthorities. His wife bag been released suosequently returced: debriefed: Mrs. Vashington where she subaequertly isbeing debriefed, Lenaox jciatly interzogated Chzist was to have been Ialtreated. | 7.0 | https://www.archives.gov/files/research/jfk/releases/2025/0318/104-10095-10276.pdf |\n",
       "| 0.30 | - 8 Uncropped copies of photographs of the \"Mexico City Oswald\" These include CIA photographs ## C/CI Memo to OLC (CI 622-77 29 Nov 77 : Eleven of the twelve photographs were released under the FOIAA copy of each of these photographs is included in the attached notebook - c (attached) A black notebook containing copies of 12 photographs of the \"unidentified individual\" who was seen entering or leaving the Cuban and Soviet Embassies in Mexico City. \\| 1 ESCA_Request,9_Novenber_1977 (OLC #77-4894) for Inforuatlon generated by Or 1n the pogbession Of                                                                                                    \\| \\|-------------------------------------------------------------------------------------------------------------------------------------------------------------------------------------------------------\\| \\| 2 C/CI Memo to OLC 6 December 1977 (CI 632-77 by Holmes) re: Robert numerous re ferences to McKeown in FBI documents- The_identificationof FBI documents will_be forwarded by separate memorandum Ray \\| 14-00000 \\| HSCA Request, 22 December 1977 (OLC #77-5685/4) for access to files or documents on or referring to: 9 Priscilla Johnson McMillan Author of \"Marina and Lee\" interviewed Oswald in                                                                          \\| \\|-------------------------------------------------------------------------------------------------------------------------------------------------------------------------------------------------------------------------------------------------------------\\| \\| DCD_112-78, 31 Jan 78: DCD response to_her request (P 76-1861) under the Privacy Act  Full text and sanitized copies of all this material shouldbe available from IPS . Also attached are four intelligence information reports which were not furnished in \\| \\| response to the PA request _ 23 7e6 PS                                                                                                                                                                                                                      \\| 14-00000 MC WILLIE , Lewis J \\|    \\| by the Of CIA                                                                                                  \\| \\|----\\|----------------------------------------------------------------------------------------------------------------\\| | 78.0 | https://www.archives.gov/files/research/jfk/releases/2025/0318/104-10079-10016.pdf |\n",
       "| 0.28 | 2025 RELEASE UNDER THE PRESIDENT JOHN F\\_ KENNEDY ASSASSINATION RECORDS ACT OF 1992 <!-- image --> ## 1 June 1964 ## MEMO FOR IHE\\_RECORD - At 0900 this morning I talked with Frank Friberg recently returned COS Helsínki re Warren Comm1ssion Inquiry concerning the timetable of Oswald s stay in Fínland October 1959, Including contact with the Soviet Consulate there. (Copy of the Commission letter of 25 May 64 and State Cable of 64 attached .) May - 2 . Friberg gave me the following information: - a, It takes 25 minutes to drive from the alrport to downtown Helsinki; - By taxi, it would take no more than 5 mInutes to reach the Soviet consulate; - The Sovlet consulate probably closed at 1300 hours local time 6n Saturdays in 1959; - d Passenger lists (manifests) at the U.S . Consulate in Helsinki are retäined for s1x months and then are destroyed . Mr \\_ Robert Fulton (CIA) was U.S. consular officíal there at the time\\_ only - e A copy of s cable inquiry would g0 Eo the Helsinki Station and they would assist in preparatlon of a reply. - 3. Mr \\_ Friberg agreed that it would be worthwhile to cable the Station concerning points not covered by State In their Inquiry . He suggested changes incorporated into the cable sent to 780-340 <!-- image --> Document Number saME As 716-838 <!-- image --> Se0 Sanltized File Number 235 For | 3.0 | https://www.archives.gov/files/research/jfk/releases/2025/0318/104-10004-10156.pdf |\n"
      ],
      "text/plain": [
       "<IPython.core.display.Markdown object>"
      ]
     },
     "metadata": {},
     "output_type": "display_data"
    }
   ],
   "source": [
    "from IPython.display import Markdown, display\n",
    "\n",
    "# let's print out the results\n",
    "results_str = \"\"\"\n",
    "| Score | Content | Pages | URL |\n",
    "|-------|---------|-------|-----|\n",
    "\"\"\"\n",
    "for result in results[\"result\"][\"hits\"]:\n",
    "    results_str += (\n",
    "        f\"| {result['_score']:.2f} \"\n",
    "        \"| \" + result['fields']['content'].replace('|', '\\|') + \" \"\n",
    "        f\"| {result['fields']['pages']} \"\n",
    "        f\"| {result['fields']['url']} |\" \"\\n\"\n",
    "    )\n",
    "\n",
    "display(Markdown(results_str))"
   ]
  },
  {
   "cell_type": "markdown",
   "metadata": {},
   "source": [
    "Now let's create a tool that our agent can use to search through the JFK documents. We use the `@function_tool` decorator to wrap the logic above and make the retrieval pipeline available to our agents."
   ]
  },
  {
   "cell_type": "code",
   "execution_count": null,
   "metadata": {},
   "outputs": [
    {
     "name": "stderr",
     "output_type": "stream",
     "text": [
      "<>:30: SyntaxWarning: invalid escape sequence '\\|'\n",
      "<>:30: SyntaxWarning: invalid escape sequence '\\|'\n",
      "/var/folders/0d/qsc6nk1x38gbh2qd8s0mmq740000gn/T/ipykernel_19269/1644549257.py:30: SyntaxWarning: invalid escape sequence '\\|'\n",
      "  f\"| {result['fields']['content'].replace('|', '\\|')} \"\n"
     ]
    }
   ],
   "source": [
    "from agents import function_tool\n",
    "\n",
    "@function_tool\n",
    "def jfk_files_search(query: str) -> str:\n",
    "    \"\"\"This tool gives you search access to the full JFK files. To use this tool you\n",
    "    should provide search queries with as much context as possible, and using natural\n",
    "    language to describe the query.\n",
    "\n",
    "    This tool will return five of the most relevant document chunks for your query,\n",
    "    including the result's similarity score, the text content, the source page number,\n",
    "    and source URL.\n",
    "    \"\"\"\n",
    "    results = index.search(\n",
    "        namespace=\"default\",\n",
    "        query={\n",
    "            \"inputs\": {\"text\": query},\n",
    "            \"top_k\": 5\n",
    "        },\n",
    "        fields=[\"content\", \"url\", \"pages\"]\n",
    "    )\n",
    "    # format the results into a markdown string - this isn't essential for our LLM but\n",
    "    # it helps\n",
    "    source_knowledge = \"\"\"\n",
    "    | Score | Content | Pages | URL |\n",
    "    |-------|---------|-------|-----|\n",
    "    \"\"\"\n",
    "    for result in results[\"result\"][\"hits\"]:\n",
    "        source_knowledge += (\n",
    "            f\"| {result['_score']:.2f} \"\n",
    "            \"| \" + result['fields']['content'].replace('|', '\\|') + \" \"\n",
    "            f\"| {result['fields']['pages']} \"\n",
    "            f\"| {result['fields']['url']} |\" \"\\n\"\n",
    "        )\n",
    "    return source_knowledge"
   ]
  },
  {
   "cell_type": "markdown",
   "metadata": {},
   "source": [
    "Now we provide our `jfk_files_search` tool to an agent."
   ]
  },
  {
   "cell_type": "code",
   "execution_count": 22,
   "metadata": {},
   "outputs": [],
   "source": [
    "agent = Agent(\n",
    "    name=\"JFK Document Assistant\",\n",
    "    model=\"gpt-4.1-mini\",\n",
    "    instructions=(\n",
    "        \"You are an assistant specialized in answering questions about the JFK \"\n",
    "        \"assassination and related documents. When users ask questions about JFK, \"\n",
    "        \"the assassination, or related historical events. Please write your answers \"\n",
    "        \"in markdown and provide sources to support your answers.\"\n",
    "    ),\n",
    "    tools=[jfk_files_search]\n",
    ")"
   ]
  },
  {
   "cell_type": "markdown",
   "metadata": {},
   "source": [
    "## Building the Final RAG Agent"
   ]
  },
  {
   "cell_type": "markdown",
   "metadata": {},
   "source": [
    "Now we can use our agent to discover who really assassinated JFK. First, let's confirm our agent is functional with our original query about Oswald's whereabouts in October 1959."
   ]
  },
  {
   "cell_type": "code",
   "execution_count": 23,
   "metadata": {},
   "outputs": [
    {
     "data": {
      "text/plain": [
       "'where was Lee Harvey Oswald in october 1959?'"
      ]
     },
     "execution_count": 23,
     "metadata": {},
     "output_type": "execute_result"
    }
   ],
   "source": [
    "query"
   ]
  },
  {
   "cell_type": "code",
   "execution_count": 24,
   "metadata": {},
   "outputs": [
    {
     "name": "stderr",
     "output_type": "stream",
     "text": [
      "2025-06-10 15:08:36 - httpx - INFO - _client.py:1740 - _send_single_request() - HTTP Request: POST https://api.openai.com/v1/responses \"HTTP/1.1 200 OK\"\n",
      "2025-06-10 15:08:42 - httpx - INFO - _client.py:1740 - _send_single_request() - HTTP Request: POST https://api.openai.com/v1/responses \"HTTP/1.1 200 OK\"\n"
     ]
    },
    {
     "name": "stderr",
     "output_type": "stream",
     "text": [
      "2025-06-10 15:08:37 - httpx - INFO - _client.py:1025 - _send_single_request() - HTTP Request: POST https://api.openai.com/v1/traces/ingest \"HTTP/1.1 204 No Content\"\n",
      "2025-06-10 15:08:48 - httpx - INFO - _client.py:1025 - _send_single_request() - HTTP Request: POST https://api.openai.com/v1/traces/ingest \"HTTP/1.1 204 No Content\"\n",
      "2025-06-10 15:08:58 - httpx - INFO - _client.py:1025 - _send_single_request() - HTTP Request: POST https://api.openai.com/v1/traces/ingest \"HTTP/1.1 204 No Content\"\n",
      "2025-06-10 15:09:39 - httpx - INFO - _client.py:1025 - _send_single_request() - HTTP Request: POST https://api.openai.com/v1/traces/ingest \"HTTP/1.1 204 No Content\"\n",
      "2025-06-10 15:09:50 - httpx - INFO - _client.py:1025 - _send_single_request() - HTTP Request: POST https://api.openai.com/v1/traces/ingest \"HTTP/1.1 204 No Content\"\n"
     ]
    },
    {
     "data": {
      "text/markdown": [
       "In October 1959, Lee Harvey Oswald was in Helsinki, Finland. This is supported by archival records indicating that in October 1959, Oswald made contacts with the Soviet Consulate in Helsinki. There are details about the timetable of Oswald's stay in Finland and his interactions with the Soviet Consulate during that time. \n",
       "\n",
       "The records also mention that passenger lists at the Soviet Consulate in Helsinki were retained only for six months and then destroyed, which might limit the extent of specific travel documentation. However, it is clear from the available reports that Lee Harvey Oswald was indeed in Helsinki in October 1959.\n",
       "\n",
       "Source:  \n",
       "- https://www.archives.gov/files/research/jfk/releases/2025/0318/104-10004-10143 (page 3)\n",
       "\n",
       "If you want more detailed documentation or information about his activities there, I can help search further."
      ],
      "text/plain": [
       "<IPython.core.display.Markdown object>"
      ]
     },
     "metadata": {},
     "output_type": "display_data"
    }
   ],
   "source": [
    "result = await Runner.run(\n",
    "    starting_agent=agent,\n",
    "    input=query,\n",
    ")\n",
    "\n",
    "display(Markdown(result.final_output))"
   ]
  },
  {
   "cell_type": "markdown",
   "metadata": {},
   "source": [
    "To keep things conversational we'll append our own queries and the agent responses to a `messages` list."
   ]
  },
  {
   "cell_type": "code",
   "execution_count": 25,
   "metadata": {},
   "outputs": [],
   "source": [
    "messages = [\n",
    "    {\"role\": \"user\", \"content\": query},\n",
    "    {\"role\": \"assistant\", \"content\": result.final_output}\n",
    "]"
   ]
  },
  {
   "cell_type": "code",
   "execution_count": 26,
   "metadata": {},
   "outputs": [
    {
     "name": "stderr",
     "output_type": "stream",
     "text": [
      "2025-06-10 15:08:44 - httpx - INFO - _client.py:1740 - _send_single_request() - HTTP Request: POST https://api.openai.com/v1/responses \"HTTP/1.1 200 OK\"\n",
      "2025-06-10 15:08:54 - httpx - INFO - _client.py:1740 - _send_single_request() - HTTP Request: POST https://api.openai.com/v1/responses \"HTTP/1.1 200 OK\"\n"
     ]
    },
    {
     "data": {
      "text/markdown": [
       "The JFK files do contain information referencing doubts and alternative perspectives regarding Lee Harvey Oswald's involvement in the assassination of President John F. Kennedy. Some of the documents highlight allegations and claims suggesting Oswald may have been a Soviet intelligence agent or had connections with intelligence activities. For example:\n",
       "\n",
       "- A handwritten autobiographical manuscript by an inmate claimed to be a former Cuban intelligence officer alleged that Oswald was a Soviet intelligence agent.\n",
       "- There are memos and evaluations of intelligence files discussing these claims and making assessments of Oswald's possible connections.\n",
       "- Some documents refer to investigations and reviews of Oswald's activities in Mexico and his interactions with the Soviet Embassy.\n",
       "- These materials reflect uncertainties, different viewpoints, and investigative leads questioning the official narrative of Oswald as the lone assassin.\n",
       "\n",
       "While there is not consensus, the JFK files demonstrate that doubts and inquiries into Oswald's exact role and possible wider conspiracies were present in government archives and investigations.\n",
       "\n",
       "Sources:  \n",
       "- [Document 104-10079-10016.pdf, page 2](https://www.archives.gov/files/research/jfk/releases/2025/0318/104-10079-10016.pdf): Contains memos about claims Oswald was a Soviet agent and investigations thereof.  \n",
       "- Related JFK files discuss Oswald's activities in Mexico and intelligence evaluations:  \n",
       "  https://www.archives.gov/files/research/jfk/releases/2025/0318/104-10012-10022.pdf  \n",
       "  https://www.archives.gov/files/research/jfk/releases/2025/0318/104-10105-10120.pdf\n",
       "\n",
       "If you want, I can provide excerpts or further detailed descriptions from these documents."
      ],
      "text/plain": [
       "<IPython.core.display.Markdown object>"
      ]
     },
     "metadata": {},
     "output_type": "display_data"
    }
   ],
   "source": [
    "messages.append(\n",
    "    {\"role\": \"user\", \"content\": (\n",
    "        \"do the JFK files contain any information about doubts on Lee Harvey Oswald's \"\n",
    "        \"involvement in the assassination?\"\n",
    "    )}\n",
    ")\n",
    "\n",
    "result = await Runner.run(\n",
    "    starting_agent=agent,\n",
    "    input=messages,\n",
    ")\n",
    "\n",
    "display(Markdown(result.final_output))"
   ]
  },
  {
   "cell_type": "code",
   "execution_count": 27,
   "metadata": {},
   "outputs": [
    {
     "name": "stderr",
     "output_type": "stream",
     "text": [
      "2025-06-10 15:09:36 - httpx - INFO - _client.py:1740 - _send_single_request() - HTTP Request: POST https://api.openai.com/v1/responses \"HTTP/1.1 200 OK\"\n"
     ]
    },
    {
     "data": {
      "text/markdown": [
       "Lee Harvey Oswald's activities in Mexico, particularly in Mexico City, in late September and early October 1963, are documented in the JFK files and have been subject of significant investigation. Here's what is known based on the released files:\n",
       "\n",
       "### What Oswald did in Mexico:\n",
       "\n",
       "1. **Visits to Cuban and Soviet Embassies:**  \n",
       "   Oswald visited both the Cuban and Soviet Embassies in Mexico City at least twice, on September 26 and 27, 1963. He attempted to obtain visas or some form of travel permission to Cuba and possibly the Soviet Union. These visits are documented through embassy records and surveillance.\n",
       "\n",
       "2. **Seeking Travel Documents:**  \n",
       "   Oswald sought a visa to travel to Cuba and reportedly wanted to go to the Soviet Union afterward. However, the Cuban Embassy denied his visa request.\n",
       "\n",
       "3. **Surveillance by Mexican Authorities and CIA:**  \n",
       "   Mexican police and possibly CIA agents monitored Oswald during his stay. His activities, including interactions and movements, were documented, with some photos and surveillance reports available in the files.\n",
       "\n",
       "4. **Intent and Motive Ambiguity:**  \n",
       "   The purpose behind Oswald's trip and embassy visits is interpreted in various ways. Some documents suggest he was trying to defect or establish connections; others propose he was acting in a more complex intelligence context, though no conclusive evidence confirms involvement beyond these trips.\n",
       "\n",
       "### Importance of Mexico City Visits:  \n",
       "The visits are significant because they occurred just weeks before the assassination of President Kennedy on November 22, 1963. The government's investigations examined whether these contacts linked Oswald to intelligence operations or conspiratorial plans.\n",
       "\n",
       "### Sources:  \n",
       "- [Mexican Government Police Report on Oswald's visit — 104-10105-10120](https://www.archives.gov/files/research/jfk/releases/2025/0318/104-10105-10120.pdf)  \n",
       "- [CIA files on Oswald’s Mexico City trip — 104-10012-10022](https://www.archives.gov/files/research/jfk/releases/2025/0318/104-10012-10022.pdf)  \n",
       "- Analysis in JFK files discusses at length these embassy visits and visa requests.\n",
       "\n",
       "Let me know if you want a detailed timeline of Oswald’s movements in Mexico or excerpts from these documents!"
      ],
      "text/plain": [
       "<IPython.core.display.Markdown object>"
      ]
     },
     "metadata": {},
     "output_type": "display_data"
    }
   ],
   "source": [
    "messages.extend(\n",
    "    [\n",
    "        {\"role\": \"assistant\", \"content\": result.final_output},\n",
    "        {\"role\": \"user\", \"content\": \"I see mentions of Oswald in Mexico, what did he do there?\"}\n",
    "    ]\n",
    ")\n",
    "\n",
    "result = await Runner.run(\n",
    "    starting_agent=agent,\n",
    "    input=messages,\n",
    ")\n",
    "\n",
    "display(Markdown(result.final_output))"
   ]
  },
  {
   "cell_type": "code",
   "execution_count": 28,
   "metadata": {},
   "outputs": [
    {
     "name": "stderr",
     "output_type": "stream",
     "text": [
      "2025-06-10 15:09:38 - httpx - INFO - _client.py:1740 - _send_single_request() - HTTP Request: POST https://api.openai.com/v1/responses \"HTTP/1.1 200 OK\"\n",
      "2025-06-10 15:09:49 - httpx - INFO - _client.py:1740 - _send_single_request() - HTTP Request: POST https://api.openai.com/v1/responses \"HTTP/1.1 200 OK\"\n"
     ]
    },
    {
     "data": {
      "text/markdown": [
       "Valeriy, specifically Valeriy Vladimirovich Kostikov, is mentioned in the JFK files as a Soviet consular officer posted to Mexico City during the time Lee Harvey Oswald was there in 1963. Here are key points about Kostikov and his relevance:\n",
       "\n",
       "- Kostikov was a consular officer, translator, vice-consul, and attache in Mexico City between 1961 and 1965.\n",
       "- In September/October 1963, Lee Harvey Oswald approached the Soviet Embassy in Mexico City to request a visa allowing him to return to the USSR. Kostikov handled this visa request.\n",
       "- There is no information in the files indicating any personal relationship between Kostikov and Oswald beyond the visa request.\n",
       "- After his Mexico City assignment, Kostikov was involved in monitoring Central American communist activities and reportedly provided funds and technical guidance to communist and left-wing groups.\n",
       "- He made trips to Moscow and Havana during his assignments.\n",
       "- There are references suggesting Kostikov was linked to the KGB, and discussions in the files consider whether he had any \"Active Measures\" (intelligence influence operations) role.\n",
       "- His activities and possible connections are part of the broader FBI and CIA interest in Soviet intelligence activities in Mexico during the period Oswald was there.\n",
       "\n",
       "In summary, Valeriy Kostikov was a Soviet consular official in Mexico at the time of Oswald’s visa request. While he is relevant as the Soviet Embassy officer who processed Oswald’s request, there is no definitive information in the JFK files proving a direct relationship or conspiratorial involvement with Oswald.\n",
       "\n",
       "### Source excerpt:\n",
       "> \"In September /October 1963 Lee Harvey Oswald approached the Soviet Embassy in Mexico City in an attempt to get a visa allowing him to return to the USSR. Kostikov, as a consular officer, handled this visa request. We have no information which indicates any relationship between these individuals other than for the purpose of Oswald's making his visa request.\"  \n",
       "— [JFK Files: 104-10012-10022.pdf (page 2)](https://www.archives.gov/files/research/jfk/releases/2025/0318/104-10012-10022.pdf)\n",
       "\n",
       "Would you like a deeper summary on Kostikov's intelligence background or his later activities?"
      ],
      "text/plain": [
       "<IPython.core.display.Markdown object>"
      ]
     },
     "metadata": {},
     "output_type": "display_data"
    }
   ],
   "source": [
    "messages.extend(\n",
    "    [\n",
    "        {\"role\": \"assistant\", \"content\": result.final_output},\n",
    "        {\"role\": \"user\", \"content\": \"Tell me more about Valeriy, is he relevant?\"}\n",
    "    ]\n",
    ")\n",
    "\n",
    "result = await Runner.run(\n",
    "    starting_agent=agent,\n",
    "    input=messages,\n",
    ")\n",
    "\n",
    "display(Markdown(result.final_output))"
   ]
  },
  {
   "cell_type": "markdown",
   "metadata": {},
   "source": [
    "Great! Our retrieval pipeline is clearly returning highly relevant information to our agent - allowing us to explore the JFK files, as follow up questions, and try to understand the various connections and characters that appear throughout."
   ]
  },
  {
   "cell_type": "markdown",
   "metadata": {},
   "source": [
    "Once we're done asking questions, we should ideally delete our vector index to save resources."
   ]
  },
  {
   "cell_type": "code",
   "execution_count": 29,
   "metadata": {},
   "outputs": [],
   "source": [
    "pc.delete_index(index_name)"
   ]
  },
  {
   "cell_type": "markdown",
   "metadata": {},
   "source": [
    "---"
   ]
  }
 ],
 "metadata": {
  "kernelspec": {
   "display_name": ".venv",
   "language": "python",
   "name": "python3"
  },
  "language_info": {
   "codemirror_mode": {
    "name": "ipython",
    "version": 3
   },
   "file_extension": ".py",
   "mimetype": "text/x-python",
   "name": "python",
   "nbconvert_exporter": "python",
   "pygments_lexer": "ipython3",
   "version": "3.12.7"
  }
 },
 "nbformat": 4,
 "nbformat_minor": 2
}
