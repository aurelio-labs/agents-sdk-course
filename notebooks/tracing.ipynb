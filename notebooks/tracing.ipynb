{
 "cells": [
  {
   "cell_type": "markdown",
   "metadata": {},
   "source": [
    "#### Agents SDK Course"
   ]
  },
  {
   "cell_type": "markdown",
   "metadata": {},
   "source": [
    "## Tracing\n",
    "\n",
    "Like all LLM frameworks, Agents SDK provides a way to pass both user and system prompts to the LLM. As a basic example, we will dive into how to use this functionality"
   ]
  },
  {
   "cell_type": "markdown",
   "metadata": {},
   "source": [
    "Firstly we need to get a `OPENAI_API_KEY` set up, for this you will need to create an account on [OpenAI](https://platform.openai.com/api-keys) and grab your API key"
   ]
  },
  {
   "cell_type": "code",
   "execution_count": 1,
   "metadata": {},
   "outputs": [],
   "source": [
    "import os\n",
    "import getpass\n",
    "\n",
    "os.environ[\"OPENAI_API_KEY\"] = os.getenv(\"OPENAI_API_KEY\") or getpass.getpass(\"OpenAI API Key: \")"
   ]
  },
  {
   "cell_type": "markdown",
   "metadata": {},
   "source": [
    "### Tracing Basic Agent Prompting"
   ]
  },
  {
   "cell_type": "markdown",
   "metadata": {},
   "source": [
    "First we need to create an agent, we will use the `Agent` class to create a basic agent.\n",
    "\n",
    "In each `Agent` object we have some fundamental parameters, those are:\n",
    "- `name`: The name of the agent\n",
    "- `instructions`: The system prompt for the agent\n",
    "- `model`: The model to use for the agent\n",
    "\n",
    "The `instructions` parameter is where we will pass our system prompt, this will be used to guide the behavior of the agent\n"
   ]
  },
  {
   "cell_type": "code",
   "execution_count": 2,
   "metadata": {},
   "outputs": [],
   "source": [
    "from agents import Agent # object class\n",
    "\n",
    "prompt_agent = Agent(\n",
    "    name=\"Prompt Agent\", # name of the agent\n",
    "    instructions=\"Speak like a pirate.\", # system prompt\n",
    "    model=\"gpt-4o\" # model to use\n",
    ")"
   ]
  },
  {
   "cell_type": "markdown",
   "metadata": {},
   "source": [
    "Now we want to run the agent, Agents SDK provides a `Runner` object that will allow us to run the agent\n",
    "\n",
    "However we first need to make sure tracing is active, to do this we need to also import `trace` from the Agents SDK library, then to start a trace we need to use the `with trace()`. Inside the function we can add additonal labels such as:\n",
    "- `workflow_name`: Name given to the workflow\n",
    "- `trace_id`: ID of the individual trace (recommended to use `util.gen_trace_id()` if using)\n",
    "- `group_id`: ID given to a collective of traces\n",
    "- `metadata`: Dictionary of data given with the workflow data\n",
    "- `disabled`: If true it will not return a trace\n",
    "\n",
    "In the `run` method we have the following parameters:\n",
    "- `starting_agent`: The agent to start the conversation with\n",
    "- `input`: The input to pass to the agent"
   ]
  },
  {
   "cell_type": "code",
   "execution_count": 3,
   "metadata": {},
   "outputs": [],
   "source": [
    "from agents import Runner, trace # object class\n",
    "\n",
    "query = \"Write a one-sentence poem.\"\n",
    "\n",
    "with trace(workflow_name=\"Prompt Trace\", group_id=\"Tracing 101\"):\n",
    "    prompt_result = await Runner.run(\n",
    "        starting_agent=prompt_agent, # agent to start the conversation with\n",
    "        input=query # input to pass to the agent\n",
    "    )"
   ]
  },
  {
   "cell_type": "markdown",
   "metadata": {},
   "source": [
    "From our instructions *'Speak like a pirate.'* and our input *'Write a one-sentence poem.'* the agent will generate a response which we'd hope would be a one-sentence poem spoken like a pirate"
   ]
  },
  {
   "cell_type": "code",
   "execution_count": 4,
   "metadata": {},
   "outputs": [
    {
     "name": "stdout",
     "output_type": "stream",
     "text": [
      "Prompt Agent Result: On the crest o' waves under moonlit skies, me heart sails free 'neath starry eyes.\n"
     ]
    }
   ],
   "source": [
    "print(\"Prompt Agent Result:\", prompt_result.final_output)"
   ]
  },
  {
   "cell_type": "markdown",
   "metadata": {},
   "source": [
    "### Tracing Agent Tools"
   ]
  },
  {
   "cell_type": "markdown",
   "metadata": {},
   "source": [
    "Again, we need to create an agent.\n",
    "\n",
    "In this `Agent` object we have an additional parameter, this is:\n",
    "- `tools`: The tools provided to the agent for usage.\n",
    "\n",
    "In order to use this we need to aquire a tool to use, we can import `WebSearchTool` from the agents library, this tool will allow the `agent` object to search the web for results."
   ]
  },
  {
   "cell_type": "code",
   "execution_count": 5,
   "metadata": {},
   "outputs": [],
   "source": [
    "from agents import Agent, WebSearchTool\n",
    "\n",
    "tool_agent = Agent(\n",
    "    name=\"Tool Agent\",\n",
    "    instructions=\"You are a web search agent that searches the web for information on the user's query.\",\n",
    "    tools=[\n",
    "        WebSearchTool()\n",
    "    ],\n",
    "    model='gpt-4o'\n",
    ")"
   ]
  },
  {
   "cell_type": "markdown",
   "metadata": {},
   "source": [
    "This time we can use the trace parameters to define the tool we have given to our agent within the metadata, this will provide better information in the trace."
   ]
  },
  {
   "cell_type": "code",
   "execution_count": 6,
   "metadata": {},
   "outputs": [],
   "source": [
    "query = \"What are the current headlines in the news?\"\n",
    "\n",
    "with trace(workflow_name=\"Tool Trace\", group_id=\"Tracing 101\", metadata={\"Tools\": \"WebSearchTool\"}):\n",
    "    tool_result = await Runner.run(\n",
    "        starting_agent=tool_agent,\n",
    "        input=query\n",
    "    )"
   ]
  },
  {
   "cell_type": "code",
   "execution_count": 22,
   "metadata": {},
   "outputs": [
    {
     "name": "stdout",
     "output_type": "stream",
     "text": [
      "Tool Agent Result: Here are some of the latest news headlines as of April 24, 2025:\n",
      "\n",
      "**U.S. News:**\n",
      "\n",
      "- **Polar Vortex Grips Much of the U.S.:** A severe polar vortex is causing frigid temperatures across large portions of the United States, leading to disruptions and safety concerns. ([apnews.com](https://apnews.com/?utm_source=openai))\n",
      "\n",
      "- **Minneapolis Agrees to Overhaul Police Training:** In response to the murder of George Floyd, Minneapolis has agreed to significant changes in police training and use-of-force policies. ([apnews.com](https://apnews.com/?utm_source=openai))\n",
      "\n",
      "**International News:**\n",
      "\n",
      "- **Strong Earthquake in Western China:** A powerful earthquake has struck western China, resulting in at least 53 fatalities and extensive damage. ([apnews.com](https://apnews.com/?utm_source=openai))\n",
      "\n",
      "- **Gunmen Attack Bus in West Bank:** An attack on a bus in the occupied West Bank has left three people dead, escalating tensions in the region. ([apnews.com](https://apnews.com/?utm_source=openai))\n",
      "\n",
      "**Politics:**\n",
      "\n",
      "- **Trump's Cabinet Picks Pose Challenges:** President-elect Donald Trump's recent Cabinet selections have presented immediate political challenges, as he continues to operate off his own script. ([washingtonpost.com](https://www.washingtonpost.com/?hpid=topnews&utm_source=openai))\n",
      "\n",
      "- **Trump Nominates Chris Wright for Energy Secretary:** Chris Wright, an oil industry CEO and Trump donor, has been nominated by President-elect Trump to serve as energy secretary. ([washingtonpost.com](https://www.washingtonpost.com/?hpid=topnews&utm_source=openai))\n",
      "\n",
      "**Health:**\n",
      "\n",
      "- **First U.S. Bird Flu Death Reported in Louisiana:** The first human death from bird flu in the United States has been confirmed in Louisiana, raising public health concerns. ([apnews.com](https://apnews.com/?utm_source=openai))\n",
      "\n",
      "- **FDA Limits Lead in Baby Foods:** The FDA has implemented new regulations to limit toxic lead levels in certain baby foods, aiming to enhance child safety. ([apnews.com](https://apnews.com/?utm_source=openai))\n",
      "\n",
      "**Technology:**\n",
      "\n",
      "- **CES 2025 Showcases Latest Tech Innovations:** The Consumer Electronics Show (CES) 2025 is underway, highlighting advancements in artificial intelligence and other cutting-edge technologies. ([apnews.com](https://apnews.com/?utm_source=openai))\n",
      "\n",
      "- **Potential TikTok Ban Causes Anxiety Among Creators:** Discussions about a possible TikTok ban have created uncertainty and anxiety among content creators who rely on the platform. ([apnews.com](https://apnews.com/?utm_source=openai))\n",
      "\n",
      "Please note that news developments are ongoing, and it's advisable to consult reputable news sources for the most current information. \n"
     ]
    }
   ],
   "source": [
    "print(\"Tool Agent Result:\", tool_result.final_output)"
   ]
  }
 ],
 "metadata": {
  "kernelspec": {
   "display_name": ".venv",
   "language": "python",
   "name": "python3"
  },
  "language_info": {
   "codemirror_mode": {
    "name": "ipython",
    "version": 3
   },
   "file_extension": ".py",
   "mimetype": "text/x-python",
   "name": "python",
   "nbconvert_exporter": "python",
   "pygments_lexer": "ipython3",
   "version": "3.12.7"
  }
 },
 "nbformat": 4,
 "nbformat_minor": 2
}
