{
 "cells": [
  {
   "cell_type": "markdown",
   "metadata": {},
   "source": [
    "#### Agents SDK Course"
   ]
  },
  {
   "cell_type": "markdown",
   "metadata": {},
   "source": [
    "## Handoffs\n",
    "\n",
    "Agents SDK introduces a few unique selling points, one of these is the handoff functionallity, other frameworks refer to this as multiple agentic systems but tend to provide tools where within the agent is, however for this framework you can directly link another agent to a pre-existing agent without the fuss, and alongside this the devs have provided formatting tools to provide a depth of functionallity to your agentic systems."
   ]
  },
  {
   "cell_type": "markdown",
   "metadata": {},
   "source": [
    "First we need to get an `OPENAI_API_KEY`, this will be used to communicate with LLMs, to get one head to the [OpenAI API keys website](www.openai.com/api-keys)"
   ]
  },
  {
   "cell_type": "code",
   "execution_count": 1,
   "metadata": {},
   "outputs": [],
   "source": [
    "import os\n",
    "import getpass\n",
    "\n",
    "os.environ[\"OPENAI_API_KEY\"] = os.getenv(\"OPENAI_API_KEY\") or \\\n",
    "    getpass.getpass(\"OpenAI API Key: \")"
   ]
  },
  {
   "cell_type": "markdown",
   "metadata": {},
   "source": [
    "Next we need to define the context for the agents, this will be used to provide the agents with the information they need to answer the questions and make each agent more specific for the queries they will be used for."
   ]
  },
  {
   "cell_type": "code",
   "execution_count": 2,
   "metadata": {},
   "outputs": [],
   "source": [
    "drum_context = \"\"\"\n",
    "below is a list of drum products and their prices\n",
    "\n",
    "beginners kit = 400\n",
    "advanced kit = 600\n",
    "snare drum = 100\n",
    "bass drum = 150\n",
    "cymbal = 200\n",
    "\n",
    "during happy hour (7-8pm) all prices are 50% off\n",
    "\"\"\"\n",
    "\n",
    "guitar_context = \"\"\"\n",
    "below is a list of guitar products and their prices\n",
    "\n",
    "electric guitar = 1000\n",
    "acoustic guitar = 500\n",
    "bass guitar = 700\n",
    "guitar strings = 10\n",
    "guitar picks = 5\n",
    "guitar strap = 20\n",
    "guitar case = 50\n",
    "guitar amp = 100\n",
    "guitar pedal = 20\n",
    "\n",
    "during happy hour (7-8pm) all prices are 50% off\n",
    "\"\"\""
   ]
  },
  {
   "cell_type": "markdown",
   "metadata": {},
   "source": [
    "Now we need to create `Agent` objects, first we will create the bottom layer agents that will be used to help with specific details, in this example we will create two agents one for guitars and one for drums, that will contain the context created earlier to help with the queries they will be used for.\n",
    "\n",
    "In each agent we have the following:\n",
    "- **name**: the name of the agent, ie `Guitar agent` or `Drums agent`\n",
    "- **model**: the model to use for the agent - for the bottom layer agents we will use the `gpt-4o-mini` model\n",
    "- **instructions**: the instructions to use for the agent - we will provide the context written earlier here too!\n"
   ]
  },
  {
   "cell_type": "code",
   "execution_count": 3,
   "metadata": {},
   "outputs": [],
   "source": [
    "from agents import Agent\n",
    "\n",
    "# bottom layer agent\n",
    "guitar_agent = Agent(\n",
    "    name=\"Guitar agent\",\n",
    "    model=\"gpt-4o-mini\",\n",
    "    instructions=(\n",
    "        \"You are responsible for dealing with guitar information and transactions, always start by \"\n",
    "        f\"saying 'Hi this is Tim from guitar' {guitar_context}\"\n",
    "    )\n",
    ")\n",
    "\n",
    "# bottom layer agent\n",
    "drums_agent = Agent(\n",
    "    name=\"Drums agent\",\n",
    "    model=\"gpt-4o-mini\",\n",
    "    instructions=(\n",
    "        \"You are responsible for dealing with drum information and transactions, always start by \"\n",
    "        \"saying 'Hi this is Steve from drums' {drum_context}\"\n",
    "    )\n",
    ")"
   ]
  },
  {
   "cell_type": "markdown",
   "metadata": {},
   "source": [
    "Next we need to create the top layer agent that will be used to orchestrate the `handoff`, this agent contains additonal properties such as:\n",
    "- **handoffs**: the handoffs to use for the agent - we will provide the bottom layer agents in here\n",
    "- **handoff_description**: the description of the handoff - this will be used to provide the AI with information about when to handoff etc...\n",
    "\n",
    "We can also import the `RECOMMENDED_PROMPT_PREFIX` from the `handoff_prompt` extension, this will provide the agent with the correct formatting for the handoff defined by the devs."
   ]
  },
  {
   "cell_type": "code",
   "execution_count": 4,
   "metadata": {},
   "outputs": [],
   "source": [
    "from agents.extensions.handoff_prompt import RECOMMENDED_PROMPT_PREFIX\n",
    "\n",
    "# top layer agent\n",
    "orchestration_agent = Agent(\n",
    "    name=\"Orchestration agent\", \n",
    "    handoffs=[drums_agent, guitar_agent],\n",
    "    handoff_description=\"For any queries about guitars or drums, handoff to the relevant agent\",\n",
    "    model=\"gpt-4o\",\n",
    "    instructions=RECOMMENDED_PROMPT_PREFIX\n",
    ")"
   ]
  },
  {
   "cell_type": "markdown",
   "metadata": {},
   "source": [
    "Now using the `Runner` we apply the `run` method to the orchestration agent, this requires us to define the `starting_agent` and the `input` to the agent."
   ]
  },
  {
   "cell_type": "code",
   "execution_count": 5,
   "metadata": {},
   "outputs": [],
   "source": [
    "from agents import Runner\n",
    "\n",
    "result = await Runner.run(\n",
    "    starting_agent=orchestration_agent,\n",
    "    input=\"I want to prices and information about the guitar\"\n",
    ")"
   ]
  },
  {
   "cell_type": "markdown",
   "metadata": {},
   "source": [
    "Using the `run` method provides us with a `RunResult` object, this contains a list of useful properties listed below:\n",
    "- **input**: the input to the agent\n",
    "- **new_items**: this provides a `HandoffCallItem` object that details all the agents and their associated properties involved in the orchestration agent\n",
    "- **raw_responses**: contains the raw model responses\n",
    "- **final_output**: the final output from the orchestration agent\n",
    "- **input_guardrail_results** and **output_guardrail_results**: these contain the guardrail results for the input and output of the agent\n",
    "- **_last_agent**: this contains the last agent that was called\n",
    "\n",
    "The attributes that we are interested in for this tutorial are the `new_items`, `raw_responses`, `final_output` and `_last_agent`."
   ]
  },
  {
   "cell_type": "code",
   "execution_count": 6,
   "metadata": {},
   "outputs": [
    {
     "name": "stdout",
     "output_type": "stream",
     "text": [
      "Item details:  [HandoffCallItem(agent=Agent(name='Orchestration agent', instructions='# System context\\nYou are part of a multi-agent system called the Agents SDK, designed to make agent coordination and execution easy. Agents uses two primary abstraction: **Agents** and **Handoffs**. An agent encompasses instructions and tools and can hand off a conversation to another agent when appropriate. Handoffs are achieved by calling a handoff function, generally named `transfer_to_<agent_name>`. Transfers between agents are handled seamlessly in the background; do not mention or draw attention to these transfers in your conversation with the user.\\n', handoff_description='For any queries about guitars or drums, handoff to the relevant agent', handoffs=[Agent(name='Drums agent', instructions=\"You are responsible for dealing with drum information and transactions, \\n        always start by saying 'Hi this is Steve from drums'\\n        \\nbelow is a list of drum products and their prices\\n\\nbeginners kit = 400\\nadvanced kit = 600\\nsnare drum = 100\\nbass drum = 150\\ncymbal = 200\\n\\nduring happy hour (7-8pm) all prices are 50% off\\n\", handoff_description=None, handoffs=[], model='gpt-4o-mini', model_settings=ModelSettings(temperature=None, top_p=None, frequency_penalty=None, presence_penalty=None, tool_choice=None, parallel_tool_calls=False, truncation=None), tools=[], input_guardrails=[], output_guardrails=[], output_type=None, hooks=None), Agent(name='Guitar agent', instructions=\"You are responsible for dealing with guitar information and transactions, \\n        always start by saying 'Hi this is Tim from guitar'\\n        \\nbelow is a list of guitar products and their prices\\n\\nelectric guitar = 1000\\nacoustic guitar = 500\\nbass guitar = 700\\nguitar strings = 10\\nguitar picks = 5\\nguitar strap = 20\\nguitar case = 50\\nguitar amp = 100\\nguitar pedal = 20\\n\\nduring happy hour (7-8pm) all prices are 50% off\\n\", handoff_description=None, handoffs=[], model='gpt-4o-mini', model_settings=ModelSettings(temperature=None, top_p=None, frequency_penalty=None, presence_penalty=None, tool_choice=None, parallel_tool_calls=False, truncation=None), tools=[], input_guardrails=[], output_guardrails=[], output_type=None, hooks=None)], model='gpt-4o', model_settings=ModelSettings(temperature=None, top_p=None, frequency_penalty=None, presence_penalty=None, tool_choice=None, parallel_tool_calls=False, truncation=None), tools=[], input_guardrails=[], output_guardrails=[], output_type=None, hooks=None), raw_item=ResponseFunctionToolCall(arguments='{}', call_id='call_54H4yVAPjU0VN6QUr7nrKdGb', name='transfer_to_guitar_agent', type='function_call', id='fc_67f77046159c8192a9495a608e62331201ad76423255ddec', status='completed'), type='handoff_call_item'), HandoffOutputItem(agent=Agent(name='Orchestration agent', instructions='# System context\\nYou are part of a multi-agent system called the Agents SDK, designed to make agent coordination and execution easy. Agents uses two primary abstraction: **Agents** and **Handoffs**. An agent encompasses instructions and tools and can hand off a conversation to another agent when appropriate. Handoffs are achieved by calling a handoff function, generally named `transfer_to_<agent_name>`. Transfers between agents are handled seamlessly in the background; do not mention or draw attention to these transfers in your conversation with the user.\\n', handoff_description='For any queries about guitars or drums, handoff to the relevant agent', handoffs=[Agent(name='Drums agent', instructions=\"You are responsible for dealing with drum information and transactions, \\n        always start by saying 'Hi this is Steve from drums'\\n        \\nbelow is a list of drum products and their prices\\n\\nbeginners kit = 400\\nadvanced kit = 600\\nsnare drum = 100\\nbass drum = 150\\ncymbal = 200\\n\\nduring happy hour (7-8pm) all prices are 50% off\\n\", handoff_description=None, handoffs=[], model='gpt-4o-mini', model_settings=ModelSettings(temperature=None, top_p=None, frequency_penalty=None, presence_penalty=None, tool_choice=None, parallel_tool_calls=False, truncation=None), tools=[], input_guardrails=[], output_guardrails=[], output_type=None, hooks=None), Agent(name='Guitar agent', instructions=\"You are responsible for dealing with guitar information and transactions, \\n        always start by saying 'Hi this is Tim from guitar'\\n        \\nbelow is a list of guitar products and their prices\\n\\nelectric guitar = 1000\\nacoustic guitar = 500\\nbass guitar = 700\\nguitar strings = 10\\nguitar picks = 5\\nguitar strap = 20\\nguitar case = 50\\nguitar amp = 100\\nguitar pedal = 20\\n\\nduring happy hour (7-8pm) all prices are 50% off\\n\", handoff_description=None, handoffs=[], model='gpt-4o-mini', model_settings=ModelSettings(temperature=None, top_p=None, frequency_penalty=None, presence_penalty=None, tool_choice=None, parallel_tool_calls=False, truncation=None), tools=[], input_guardrails=[], output_guardrails=[], output_type=None, hooks=None)], model='gpt-4o', model_settings=ModelSettings(temperature=None, top_p=None, frequency_penalty=None, presence_penalty=None, tool_choice=None, parallel_tool_calls=False, truncation=None), tools=[], input_guardrails=[], output_guardrails=[], output_type=None, hooks=None), raw_item={'call_id': 'call_54H4yVAPjU0VN6QUr7nrKdGb', 'output': \"{'assistant': 'Guitar agent'}\", 'type': 'function_call_output'}, source_agent=Agent(name='Orchestration agent', instructions='# System context\\nYou are part of a multi-agent system called the Agents SDK, designed to make agent coordination and execution easy. Agents uses two primary abstraction: **Agents** and **Handoffs**. An agent encompasses instructions and tools and can hand off a conversation to another agent when appropriate. Handoffs are achieved by calling a handoff function, generally named `transfer_to_<agent_name>`. Transfers between agents are handled seamlessly in the background; do not mention or draw attention to these transfers in your conversation with the user.\\n', handoff_description='For any queries about guitars or drums, handoff to the relevant agent', handoffs=[Agent(name='Drums agent', instructions=\"You are responsible for dealing with drum information and transactions, \\n        always start by saying 'Hi this is Steve from drums'\\n        \\nbelow is a list of drum products and their prices\\n\\nbeginners kit = 400\\nadvanced kit = 600\\nsnare drum = 100\\nbass drum = 150\\ncymbal = 200\\n\\nduring happy hour (7-8pm) all prices are 50% off\\n\", handoff_description=None, handoffs=[], model='gpt-4o-mini', model_settings=ModelSettings(temperature=None, top_p=None, frequency_penalty=None, presence_penalty=None, tool_choice=None, parallel_tool_calls=False, truncation=None), tools=[], input_guardrails=[], output_guardrails=[], output_type=None, hooks=None), Agent(name='Guitar agent', instructions=\"You are responsible for dealing with guitar information and transactions, \\n        always start by saying 'Hi this is Tim from guitar'\\n        \\nbelow is a list of guitar products and their prices\\n\\nelectric guitar = 1000\\nacoustic guitar = 500\\nbass guitar = 700\\nguitar strings = 10\\nguitar picks = 5\\nguitar strap = 20\\nguitar case = 50\\nguitar amp = 100\\nguitar pedal = 20\\n\\nduring happy hour (7-8pm) all prices are 50% off\\n\", handoff_description=None, handoffs=[], model='gpt-4o-mini', model_settings=ModelSettings(temperature=None, top_p=None, frequency_penalty=None, presence_penalty=None, tool_choice=None, parallel_tool_calls=False, truncation=None), tools=[], input_guardrails=[], output_guardrails=[], output_type=None, hooks=None)], model='gpt-4o', model_settings=ModelSettings(temperature=None, top_p=None, frequency_penalty=None, presence_penalty=None, tool_choice=None, parallel_tool_calls=False, truncation=None), tools=[], input_guardrails=[], output_guardrails=[], output_type=None, hooks=None), target_agent=Agent(name='Guitar agent', instructions=\"You are responsible for dealing with guitar information and transactions, \\n        always start by saying 'Hi this is Tim from guitar'\\n        \\nbelow is a list of guitar products and their prices\\n\\nelectric guitar = 1000\\nacoustic guitar = 500\\nbass guitar = 700\\nguitar strings = 10\\nguitar picks = 5\\nguitar strap = 20\\nguitar case = 50\\nguitar amp = 100\\nguitar pedal = 20\\n\\nduring happy hour (7-8pm) all prices are 50% off\\n\", handoff_description=None, handoffs=[], model='gpt-4o-mini', model_settings=ModelSettings(temperature=None, top_p=None, frequency_penalty=None, presence_penalty=None, tool_choice=None, parallel_tool_calls=False, truncation=None), tools=[], input_guardrails=[], output_guardrails=[], output_type=None, hooks=None), type='handoff_output_item'), MessageOutputItem(agent=Agent(name='Guitar agent', instructions=\"You are responsible for dealing with guitar information and transactions, \\n        always start by saying 'Hi this is Tim from guitar'\\n        \\nbelow is a list of guitar products and their prices\\n\\nelectric guitar = 1000\\nacoustic guitar = 500\\nbass guitar = 700\\nguitar strings = 10\\nguitar picks = 5\\nguitar strap = 20\\nguitar case = 50\\nguitar amp = 100\\nguitar pedal = 20\\n\\nduring happy hour (7-8pm) all prices are 50% off\\n\", handoff_description=None, handoffs=[], model='gpt-4o-mini', model_settings=ModelSettings(temperature=None, top_p=None, frequency_penalty=None, presence_penalty=None, tool_choice=None, parallel_tool_calls=False, truncation=None), tools=[], input_guardrails=[], output_guardrails=[], output_type=None, hooks=None), raw_item=ResponseOutputMessage(id='msg_67f7704991708192aa9a71b8a1ec763001ad76423255ddec', content=[ResponseOutputText(annotations=[], text=\"Hi, this is Tim from guitar! Here’s a list of our guitar products along with their regular prices:\\n\\n- **Electric Guitar**: $1000\\n- **Acoustic Guitar**: $500\\n- **Bass Guitar**: $700\\n- **Guitar Strings**: $10\\n- **Guitar Picks**: $5\\n- **Guitar Strap**: $20\\n- **Guitar Case**: $50\\n- **Guitar Amp**: $100\\n- **Guitar Pedal**: $20\\n\\nIf you’re interested in shopping during our happy hour from 7-8 PM, all prices are 50% off! Let me know if you need more information or if you'd like to make a purchase!\", type='output_text')], role='assistant', status='completed', type='message'), type='message_output_item')]\n",
      "Raw responses:  [ModelResponse(output=[ResponseFunctionToolCall(arguments='{}', call_id='call_54H4yVAPjU0VN6QUr7nrKdGb', name='transfer_to_guitar_agent', type='function_call', id='fc_67f77046159c8192a9495a608e62331201ad76423255ddec', status='completed')], usage=Usage(requests=1, input_tokens=185, output_tokens=14, total_tokens=199), referenceable_id='resp_67f770454b148192bd2723e228c9625801ad76423255ddec'), ModelResponse(output=[ResponseOutputMessage(id='msg_67f7704991708192aa9a71b8a1ec763001ad76423255ddec', content=[ResponseOutputText(annotations=[], text=\"Hi, this is Tim from guitar! Here’s a list of our guitar products along with their regular prices:\\n\\n- **Electric Guitar**: $1000\\n- **Acoustic Guitar**: $500\\n- **Bass Guitar**: $700\\n- **Guitar Strings**: $10\\n- **Guitar Picks**: $5\\n- **Guitar Strap**: $20\\n- **Guitar Case**: $50\\n- **Guitar Amp**: $100\\n- **Guitar Pedal**: $20\\n\\nIf you’re interested in shopping during our happy hour from 7-8 PM, all prices are 50% off! Let me know if you need more information or if you'd like to make a purchase!\", type='output_text')], role='assistant', status='completed', type='message')], usage=Usage(requests=1, input_tokens=169, output_tokens=155, total_tokens=324), referenceable_id='resp_67f77046b3b08192ac7cef911069165e01ad76423255ddec')]\n",
      "Final output:  Hi, this is Tim from guitar! Here’s a list of our guitar products along with their regular prices:\n",
      "\n",
      "- **Electric Guitar**: $1000\n",
      "- **Acoustic Guitar**: $500\n",
      "- **Bass Guitar**: $700\n",
      "- **Guitar Strings**: $10\n",
      "- **Guitar Picks**: $5\n",
      "- **Guitar Strap**: $20\n",
      "- **Guitar Case**: $50\n",
      "- **Guitar Amp**: $100\n",
      "- **Guitar Pedal**: $20\n",
      "\n",
      "If you’re interested in shopping during our happy hour from 7-8 PM, all prices are 50% off! Let me know if you need more information or if you'd like to make a purchase!\n",
      "Last agent called:  Agent(name='Guitar agent', instructions=\"You are responsible for dealing with guitar information and transactions, \\n        always start by saying 'Hi this is Tim from guitar'\\n        \\nbelow is a list of guitar products and their prices\\n\\nelectric guitar = 1000\\nacoustic guitar = 500\\nbass guitar = 700\\nguitar strings = 10\\nguitar picks = 5\\nguitar strap = 20\\nguitar case = 50\\nguitar amp = 100\\nguitar pedal = 20\\n\\nduring happy hour (7-8pm) all prices are 50% off\\n\", handoff_description=None, handoffs=[], model='gpt-4o-mini', model_settings=ModelSettings(temperature=None, top_p=None, frequency_penalty=None, presence_penalty=None, tool_choice=None, parallel_tool_calls=False, truncation=None), tools=[], input_guardrails=[], output_guardrails=[], output_type=None, hooks=None)\n"
     ]
    }
   ],
   "source": [
    "print(\"Item details: \", result.new_items) # details about the handoff\n",
    "print(\"Raw responses: \", result.raw_responses) # the raw model responses\n",
    "print(\"Final output: \", result.final_output) # the final output from the run\n",
    "print(\"Last agent called: \", result._last_agent) # the last agent that was called"
   ]
  },
  {
   "cell_type": "markdown",
   "metadata": {},
   "source": [
    "We can then take this a step futher and create a `on_handoff` function that will be called when the handoff is made, this can be useful for noting down the handoff in a database or simply making routine tasks before the handoff is made."
   ]
  },
  {
   "cell_type": "code",
   "execution_count": 7,
   "metadata": {},
   "outputs": [],
   "source": [
    "from agents import RunContextWrapper\n",
    "\n",
    "async def on_handoff(ctx: RunContextWrapper[None]):\n",
    "    print(f\"Handoff Called!\")"
   ]
  },
  {
   "cell_type": "markdown",
   "metadata": {},
   "source": [
    "Now we will redefine the orchestration agent, this time we will provide a `handoff` object instead of the agents directly, this allows us to provide additional information such as the `on_handoff` function."
   ]
  },
  {
   "cell_type": "code",
   "execution_count": 8,
   "metadata": {},
   "outputs": [],
   "source": [
    "from agents import handoff\n",
    "\n",
    "# top layer agent\n",
    "orchestration_agent = Agent(\n",
    "    name=\"Orchestration agent\",\n",
    "    model=\"gpt-4o\",\n",
    "    instructions=RECOMMENDED_PROMPT_PREFIX,\n",
    "    handoff_description=\"For any queries about guitars, handoff to the guitar agent\",\n",
    "    handoffs=[\n",
    "        handoff(\n",
    "            agent=guitar_agent,\n",
    "            on_handoff=on_handoff\n",
    "        )\n",
    "    ]\n",
    ")"
   ]
  },
  {
   "cell_type": "markdown",
   "metadata": {},
   "source": [
    "Now we can test our function we made earlier, we will run the orchestration agent, and if the handoff is made we should see the print statement we made earlier."
   ]
  },
  {
   "cell_type": "code",
   "execution_count": 9,
   "metadata": {},
   "outputs": [
    {
     "name": "stdout",
     "output_type": "stream",
     "text": [
      "Handoff Called!\n"
     ]
    }
   ],
   "source": [
    "result = await Runner.run(\n",
    "    starting_agent=orchestration_agent,\n",
    "    input=\"I want to prices and information about the guitar\"\n",
    ")"
   ]
  },
  {
   "cell_type": "markdown",
   "metadata": {},
   "source": [
    "We can take this a step further and create dynamic handoffs, that can encapsulate data and print out to provide reasoning for the handoff.\n",
    "\n",
    "For this we need to create a class that inherits from `BaseModel` from `pydantic`, this is required to pass the `__pydantic_validator__` attribute in the handoff functionallity.\n"
   ]
  },
  {
   "cell_type": "code",
   "execution_count": 10,
   "metadata": {},
   "outputs": [],
   "source": [
    "from pydantic import BaseModel\n",
    "\n",
    "class handoff_data(BaseModel):\n",
    "    reason: str\n",
    "\n",
    "async def on_handoff(ctx: RunContextWrapper[None], input_data: handoff_data):\n",
    "    print(f\"Handoff called with reason: {input_data.reason}\")"
   ]
  },
  {
   "cell_type": "markdown",
   "metadata": {},
   "source": [
    "The only noteable difference here is the `input_type` parameter, this is used to pass the class we created earlier to the handoff function, this will allow the top layer agent to pass data required to the bottom layer agents."
   ]
  },
  {
   "cell_type": "code",
   "execution_count": 11,
   "metadata": {},
   "outputs": [],
   "source": [
    "# top layer agent\n",
    "orchestration_agent = Agent(\n",
    "    name=\"Orchestration agent\",\n",
    "    model=\"gpt-4o\",\n",
    "    instructions=RECOMMENDED_PROMPT_PREFIX,\n",
    "    handoff_description=\"For any queries about guitars, handoff to the guitar agent\",\n",
    "    handoffs=[\n",
    "        handoff(\n",
    "            agent=guitar_agent,\n",
    "            on_handoff=on_handoff,\n",
    "            input_type=handoff_data\n",
    "        )\n",
    "    ]\n",
    ")"
   ]
  },
  {
   "cell_type": "markdown",
   "metadata": {},
   "source": [
    "As before if we run the orchestration agent we can see the handoff is made and the reason is printed out."
   ]
  },
  {
   "cell_type": "code",
   "execution_count": 12,
   "metadata": {},
   "outputs": [
    {
     "name": "stdout",
     "output_type": "stream",
     "text": [
      "Handoff called with reason: Inquiry about guitar prices and information.\n"
     ]
    }
   ],
   "source": [
    "result = await Runner.run(\n",
    "    starting_agent=orchestration_agent,\n",
    "    input=\"I want to prices and information about the guitar\"\n",
    ")"
   ]
  },
  {
   "cell_type": "markdown",
   "metadata": {},
   "source": [
    "We can also take a look at how to include / exclude tools from the handoff, this can be useful for when we want to handoff to an agent but not provide them with the tools that a top layer agent has.\n",
    "\n",
    "First we need to create a function with the `@function_tool` decorator, this will allow the function to be used as a tool in our orchestration agent."
   ]
  },
  {
   "cell_type": "code",
   "execution_count": 13,
   "metadata": {},
   "outputs": [],
   "source": [
    "from agents import function_tool\n",
    "\n",
    "@function_tool\n",
    "def get_current_time():\n",
    "    return \"time is 7pm\""
   ]
  },
  {
   "cell_type": "markdown",
   "metadata": {},
   "source": [
    "Next we want to include this tool in our orchestration agent, we can do this by adding the tool to the `tools` parameter in the orchestration agent."
   ]
  },
  {
   "cell_type": "code",
   "execution_count": 14,
   "metadata": {},
   "outputs": [],
   "source": [
    "# top layer agent\n",
    "orchestration_agent = Agent(\n",
    "    name=\"Orchestration agent\",\n",
    "    model=\"gpt-4o\",\n",
    "    instructions=RECOMMENDED_PROMPT_PREFIX,\n",
    "    tools=[get_current_time],\n",
    "    handoff_description=\"For any queries about guitars, handoff to the guitar agent\",\n",
    "    handoffs=[\n",
    "        handoff(\n",
    "            agent=guitar_agent,\n",
    "            on_handoff=on_handoff,\n",
    "            input_type=handoff_data\n",
    "        )\n",
    "    ]\n",
    ")"
   ]
  },
  {
   "cell_type": "markdown",
   "metadata": {},
   "source": [
    "If we run this currently we can see the handoff is made..."
   ]
  },
  {
   "cell_type": "code",
   "execution_count": 15,
   "metadata": {},
   "outputs": [
    {
     "name": "stdout",
     "output_type": "stream",
     "text": [
      "Handoff called with reason: Get the current price of an electric guitar.\n"
     ]
    }
   ],
   "source": [
    "result = await Runner.run(\n",
    "    starting_agent=orchestration_agent,\n",
    "    input=\"On the current time, how much is an electric guitar?\"\n",
    ")"
   ]
  },
  {
   "cell_type": "markdown",
   "metadata": {},
   "source": [
    "And currently the tool is available to the guitar agent."
   ]
  },
  {
   "cell_type": "code",
   "execution_count": 16,
   "metadata": {},
   "outputs": [
    {
     "name": "stdout",
     "output_type": "stream",
     "text": [
      "Final output:  Hi, this is Tim from guitar. Since it's currently happy hour (7-8 PM), the price of an electric guitar is 50% off. That makes it $500. If you have any more questions or need help with something else, feel free to ask!\n"
     ]
    }
   ],
   "source": [
    "print(\"Final output: \", result.final_output)"
   ]
  },
  {
   "cell_type": "markdown",
   "metadata": {},
   "source": [
    "If we want to exclude the top layer agent's tools from bottom layer agents we can use the `input_filter` parameter in the handoff function. We can then pass the `remove_all_tools` function from the `handoff_filters` extension. This will remove all tools from the bottom layer agent that was passed via the top agent."
   ]
  },
  {
   "cell_type": "code",
   "execution_count": 17,
   "metadata": {},
   "outputs": [],
   "source": [
    "from agents.extensions import handoff_filters\n",
    "\n",
    "# top layer agent\n",
    "orchestration_agent = Agent(\n",
    "    name=\"Orchestration agent\",\n",
    "    model=\"gpt-4o\",\n",
    "    instructions=RECOMMENDED_PROMPT_PREFIX,\n",
    "    tools=[get_current_time],\n",
    "    handoff_description=\"For any queries about guitars, handoff to the guitar agent\",\n",
    "    handoffs=[\n",
    "        handoff(\n",
    "            agent=guitar_agent,\n",
    "            on_handoff=on_handoff,\n",
    "            input_type=handoff_data,\n",
    "            input_filter=handoff_filters.remove_all_tools\n",
    "        )\n",
    "    ]\n",
    ")"
   ]
  },
  {
   "cell_type": "markdown",
   "metadata": {},
   "source": [
    "Now if we run the agent again we should see the tool is not available to the guitar agent."
   ]
  },
  {
   "cell_type": "code",
   "execution_count": 18,
   "metadata": {},
   "outputs": [
    {
     "name": "stdout",
     "output_type": "stream",
     "text": [
      "Handoff called with reason: User wants to know the price of an electric guitar.\n"
     ]
    }
   ],
   "source": [
    "result = await Runner.run(\n",
    "    starting_agent=orchestration_agent,\n",
    "    input=\"On the current time, how much is an electric guitar?\"\n",
    ")"
   ]
  },
  {
   "cell_type": "markdown",
   "metadata": {},
   "source": [
    "And as we can see the tool is not available to the guitar agent."
   ]
  },
  {
   "cell_type": "code",
   "execution_count": 19,
   "metadata": {},
   "outputs": [
    {
     "name": "stdout",
     "output_type": "stream",
     "text": [
      "Final output:  Hi, this is Tim from guitar. The price of an electric guitar is $1000. If you're looking for a discount, remember that during happy hour (7-8pm), all prices are 50% off!\n"
     ]
    }
   ],
   "source": [
    "print(\"Final output: \", result.final_output)"
   ]
  },
  {
   "cell_type": "markdown",
   "metadata": {},
   "source": [
    "If you would like a visualization of the graph the agents sdk team have viz dependency group which allows developers to view the graph - this doesnt work without:\n",
    "\n",
    "**pip install \"openai-agents[viz]\"**"
   ]
  },
  {
   "cell_type": "code",
   "execution_count": null,
   "metadata": {},
   "outputs": [],
   "source": [
    "# from agents.extensions.visualization import draw_graph\n",
    "\n",
    "# draw_graph(orchestration_agent)"
   ]
  }
 ],
 "metadata": {
  "kernelspec": {
   "display_name": ".venv",
   "language": "python",
   "name": "python3"
  },
  "language_info": {
   "codemirror_mode": {
    "name": "ipython",
    "version": 3
   },
   "file_extension": ".py",
   "mimetype": "text/x-python",
   "name": "python",
   "nbconvert_exporter": "python",
   "pygments_lexer": "ipython3",
   "version": "3.12.7"
  }
 },
 "nbformat": 4,
 "nbformat_minor": 2
}
