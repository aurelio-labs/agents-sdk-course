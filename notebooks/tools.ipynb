{
 "cells": [
  {
   "cell_type": "markdown",
   "metadata": {},
   "source": [
    "#### Agents SDK Course"
   ]
  },
  {
   "cell_type": "markdown",
   "metadata": {},
   "source": [
    "## Tools\n",
    "\n",
    "Like all LLM frameworks, Agents SDK provides a way to pass both user and system prompts to the LLM. As a basic example, we will dive into how to use this functionality"
   ]
  },
  {
   "cell_type": "markdown",
   "metadata": {},
   "source": [
    "Firstly we need to get a `OPENAI_API_KEY` set up, for this you will need to create an account on [OpenAI](https://platform.openai.com/api-keys) and grab your API key"
   ]
  },
  {
   "cell_type": "code",
   "execution_count": 2,
   "metadata": {},
   "outputs": [],
   "source": [
    "import os\n",
    "import getpass\n",
    "\n",
    "os.environ[\"OPENAI_API_KEY\"] = os.getenv(\"OPENAI_API_KEY\") or \\\n",
    "    getpass.getpass(\"OpenAI API Key: \")"
   ]
  },
  {
   "cell_type": "markdown",
   "metadata": {},
   "source": [
    "### Pre-Packaged Tools"
   ]
  },
  {
   "cell_type": "markdown",
   "metadata": {},
   "source": [
    "The Agents SDK team provides us with a few pre-packaged tools that can be used to help with common tasks, these include:\n",
    "- The `WebSearchTool` lets an agent search the web.\n",
    "- The `FileSearchTool` allows retrieving information from your OpenAI Vector Stores.\n",
    "- The `ComputerTool` allows automating computer use tasks.\n",
    "\n",
    "We can start by creating an agent that uses the `WebSearchTool` to search the web. To do this we need to define an agent with the `tools` parameter set to a list containing the `WebSearchTool` object."
   ]
  },
  {
   "cell_type": "code",
   "execution_count": 3,
   "metadata": {},
   "outputs": [],
   "source": [
    "from agents import Agent, WebSearchTool\n",
    "\n",
    "agent = Agent(\n",
    "    name=\"Web Search Agent\",\n",
    "    instructions=(\n",
    "        \"You are a web search agent that searches the web for information to answer the user's \"\n",
    "        \"queries with high accuracy and precision.\"\n",
    "    ),\n",
    "    tools=[\n",
    "        WebSearchTool()\n",
    "    ],\n",
    "    model='gpt-4o'\n",
    ")"
   ]
  },
  {
   "cell_type": "markdown",
   "metadata": {},
   "source": [
    "We can look at the tools that are currently available to our agent via the `tools` attribute connected to our agent object."
   ]
  },
  {
   "cell_type": "code",
   "execution_count": 4,
   "metadata": {},
   "outputs": [
    {
     "data": {
      "text/plain": [
       "[WebSearchTool(user_location=None, search_context_size='medium')]"
      ]
     },
     "execution_count": 4,
     "metadata": {},
     "output_type": "execute_result"
    }
   ],
   "source": [
    "agent.tools"
   ]
  },
  {
   "cell_type": "markdown",
   "metadata": {},
   "source": [
    "Now we can use the `Runner` object to run the agent, asking specifically for the up-to-date information on weather or news related topics that require a web search."
   ]
  },
  {
   "cell_type": "code",
   "execution_count": 5,
   "metadata": {},
   "outputs": [],
   "source": [
    "from agents import Runner \n",
    "\n",
    "query = \"What are the current headlines in the news?\"\n",
    "\n",
    "result = await Runner.run(\n",
    "    starting_agent=agent,\n",
    "    input=query\n",
    ")"
   ]
  },
  {
   "cell_type": "markdown",
   "metadata": {},
   "source": [
    "As we can see, the agent can successfully search the web and return the results, however, if the response can sometimes be out-of-date, due to the LLM thinking that the current date is earlier than it actually is."
   ]
  },
  {
   "cell_type": "code",
   "execution_count": 6,
   "metadata": {},
   "outputs": [
    {
     "name": "stdout",
     "output_type": "stream",
     "text": [
      "Here are some of the latest news headlines as of April 10, 2025:\n",
      "\n",
      "**U.S. News**\n",
      "\n",
      "- **FEMA Hiring Overhaul Raises Concerns**: The Federal Emergency Management Agency's decision to reshape its hiring process for disaster relief personnel has sparked fears about the agency's effectiveness, especially with hurricane season approaching. ([cbsnews.com](https://www.cbsnews.com/?utm_source=openai))\n",
      "\n",
      "- **Wildfires in the Carolinas Prompt Evacuations**: Wildfires have led to evacuations and emergency declarations in North and South Carolina, marking the second time in less than a month that residents have faced such threats. ([cbsnews.com](https://www.cbsnews.com/?utm_source=openai))\n",
      "\n",
      "- **Former Federal Prosecutor Found Dead**: Jessica Aber, who served as U.S. Attorney for the Eastern District of Virginia, was found dead in her home. She had resigned from her position in January after approximately three years of service. ([cbsnews.com](https://www.cbsnews.com/?utm_source=openai))\n",
      "\n",
      "**International News**\n",
      "\n",
      "- **Pope Francis Leaves Hospital After Five-Week Stay**: Pope Francis, 88, made his first public appearance in five weeks after being hospitalized with a life-threatening bout of pneumonia. ([cbsnews.com](https://www.cbsnews.com/?utm_source=openai))\n",
      "\n",
      "- **Venezuela Agrees to Accept Deported Migrants from U.S.**: Venezuelan President Nicolás Maduro has reached a deal to accept deported migrants from the United States, following the suspension of flights in March after the U.S. withdrew Chevron's license to export Venezuelan oil. ([cbsnews.com](https://www.cbsnews.com/?utm_source=openai))\n",
      "\n",
      "**Politics**\n",
      "\n",
      "- **Former President Jimmy Carter Lies in State**: Former President Jimmy Carter is lying in state at the U.S. Capitol, with Vice President Harris stating that he \"left the world better than he found it.\" ([nbcnews.com](https://www.nbcnews.com/?utm_source=openai))\n",
      "\n",
      "- **Federal Prosecutors Uncover Additional Conduct by NYC Mayor**: Federal prosecutors have reported uncovering \"additional criminal conduct\" by New York City Mayor Eric Adams. ([nbcnews.com](https://www.nbcnews.com/?utm_source=openai))\n",
      "\n",
      "**Business**\n",
      "\n",
      "- **Hyundai Announces $20 Billion Investment in the U.S.**: Hyundai has announced a $20 billion investment in the United States, signaling a significant commitment to the American market. ([cnn.com](https://www.cnn.com/?utm_source=openai))\n",
      "\n",
      "- **US Postal Service Head DeJoy Resigns**: Louis DeJoy has resigned from his position as the head of the U.S. Postal Service. ([cnn.com](https://www.cnn.com/?utm_source=openai))\n",
      "\n",
      "**Entertainment**\n",
      "\n",
      "- **Denzel Washington and Jake Gyllenhaal Break Broadway Records**: The actors have broken Broadway box office records with their production of \"Othello.\" ([cnn.com](https://www.cnn.com/?utm_source=openai))\n",
      "\n",
      "- **'The White Lotus' Serves Up New Drama**: The latest episode of HBO's \"The White Lotus\" delivers a mix of humor and tension as the characters navigate new challenges. ([cnn.com](https://www.cnn.com/?utm_source=openai))\n",
      "\n",
      "Please note that news developments are continually evolving. For the most current information, refer to reputable news sources. \n"
     ]
    }
   ],
   "source": [
    "print(result.final_output)"
   ]
  },
  {
   "cell_type": "markdown",
   "metadata": {},
   "source": [
    "### Custom Tools"
   ]
  },
  {
   "cell_type": "markdown",
   "metadata": {},
   "source": [
    "Now although the pre-packaged tools are useful, for specific tasks we need specific tools tailored to the problem we are trying to solve. To do this, we need to create our own custom tools."
   ]
  },
  {
   "cell_type": "markdown",
   "metadata": {},
   "source": [
    "We can start by creating a tool that fetches the current time.\n",
    "\n",
    "First we need to import the `function_tool` decorator from the `agents` module.\n",
    "\n",
    "Then we need to define our function, this needs to be an async function for the agent to work.\n",
    "\n",
    "Then using the `function_tool` decorator, we can create a tool from our function."
   ]
  },
  {
   "cell_type": "code",
   "execution_count": 7,
   "metadata": {},
   "outputs": [],
   "source": [
    "from agents import function_tool\n",
    "from datetime import datetime\n",
    "\n",
    "# we can override the name of a tool using the name_override parameter\n",
    "@function_tool(name_override=\"fetch_current_time\")\n",
    "async def fetch_time() -> str:\n",
    "    \"\"\"Fetch the current time.\"\"\"\n",
    "    return datetime.now().strftime(\"%Y-%m-%d %H:%M:%S\")"
   ]
  },
  {
   "cell_type": "markdown",
   "metadata": {},
   "source": [
    "We can check if the `fetch_time` object is a `FunctionTool` object by using the `isinstance` function."
   ]
  },
  {
   "cell_type": "code",
   "execution_count": 8,
   "metadata": {},
   "outputs": [
    {
     "name": "stdout",
     "output_type": "stream",
     "text": [
      "This is a FunctionTool object\n"
     ]
    }
   ],
   "source": [
    "from agents import FunctionTool\n",
    "\n",
    "if isinstance(fetch_time, FunctionTool):\n",
    "    print(\"This is a FunctionTool object\")"
   ]
  },
  {
   "cell_type": "markdown",
   "metadata": {},
   "source": [
    "As this is now a `FunctionTool` object, we can print out specific properties of the tool.\n",
    "\n",
    "The `name` property might be slightly different to the name we defined in the function, this is because the `function_tool` decorator has a `name_override` parameter that we can use to override the name of the tool.\n",
    "\n",
    "The `description` attribute is the first line of the docstring of the function.\n",
    "\n",
    "The `params_json_schema` attribute is the JSON schema for the parameters of the tool."
   ]
  },
  {
   "cell_type": "code",
   "execution_count": 9,
   "metadata": {},
   "outputs": [
    {
     "name": "stdout",
     "output_type": "stream",
     "text": [
      "Name: fetch_current_time\n",
      "Description: Fetch the current time.\n",
      "Params: {\n",
      "  \"properties\": {},\n",
      "  \"title\": \"fetch_current_time_args\",\n",
      "  \"type\": \"object\",\n",
      "  \"additionalProperties\": false,\n",
      "  \"required\": []\n",
      "}\n"
     ]
    }
   ],
   "source": [
    "import json\n",
    "\n",
    "print(\"Name:\", fetch_time.name)\n",
    "print(\"Description:\", fetch_time.description)\n",
    "print(\"Params:\", json.dumps(fetch_time.params_json_schema, indent=2))"
   ]
  },
  {
   "cell_type": "markdown",
   "metadata": {},
   "source": [
    "We want to test our agent, but first we need to define an output class that the agent will use to return its response. This way we can ensure the response is correct as well as the approach taken to get the response.\n",
    "\n",
    "For this, we will use the `BaseModel` class from `pydantic` and the `Field` class to define the response and approach taken."
   ]
  },
  {
   "cell_type": "code",
   "execution_count": 10,
   "metadata": {},
   "outputs": [],
   "source": [
    "from pydantic import BaseModel, Field\n",
    "\n",
    "class Output_Class(BaseModel):\n",
    "    response: str = Field(\n",
    "        description=\"The agent's response to the user's query\"\n",
    "    )\n",
    "    approach_taken: str = Field(\n",
    "        description=\"The method or strategy the agent used to arrive at the response\"\n",
    "    )"
   ]
  },
  {
   "cell_type": "markdown",
   "metadata": {},
   "source": [
    "Now we can define our agent, with the only difference being the `output_type` parameter set to our `Output_Class`."
   ]
  },
  {
   "cell_type": "code",
   "execution_count": 11,
   "metadata": {},
   "outputs": [],
   "source": [
    "agent = Agent(\n",
    "    name=\"Time Agent\",\n",
    "    instructions=\"You are a time agent that fetches the current time.\",\n",
    "    tools=[fetch_time],\n",
    "    model='gpt-4o',\n",
    "    output_type=Output_Class\n",
    ")"
   ]
  },
  {
   "cell_type": "markdown",
   "metadata": {},
   "source": [
    "Now as before we will use the `Runner` object to run the agent."
   ]
  },
  {
   "cell_type": "code",
   "execution_count": 12,
   "metadata": {},
   "outputs": [],
   "source": [
    "query = \"What is the current time?\"\n",
    "\n",
    "result = await Runner.run(\n",
    "    starting_agent=agent,\n",
    "    input=query\n",
    ")"
   ]
  },
  {
   "cell_type": "markdown",
   "metadata": {},
   "source": [
    "This time we have a slightly different output due to our `Output_Class` definition. Instead of a simple string, we have a dictionary with two outputs, the `response` and the `approach_taken`.\n",
    "\n",
    "If the agent worked as expected, we should see the correct time, and the approach should mention the use of the `fetch_time` tool."
   ]
  },
  {
   "cell_type": "code",
   "execution_count": 13,
   "metadata": {},
   "outputs": [
    {
     "name": "stdout",
     "output_type": "stream",
     "text": [
      "Response: The current time is 09:42 AM on April 10, 2025.\n",
      "Approach Taken: I used the fetch_current_time function to get the current date and time.\n"
     ]
    }
   ],
   "source": [
    "print(\"Response:\", result.final_output.response)\n",
    "print(\"Approach Taken:\", result.final_output.approach_taken)"
   ]
  },
  {
   "cell_type": "markdown",
   "metadata": {},
   "source": [
    "We have just defined a tool using the `function_tool` decorator, but we can also define tools using the `FunctionTool` object.\n",
    "\n",
    "When defining the tool this way, we need to ensure that the `params_json_schema` attribute has a `additionalProperties` key set to `False`. By default this will not be included in the schema, so we add a `Config` class to the `FunctionTool` object with the `extra` parameter set to `\"forbid\"` to force the schema to include it."
   ]
  },
  {
   "cell_type": "code",
   "execution_count": 14,
   "metadata": {},
   "outputs": [],
   "source": [
    "from typing import Any\n",
    "from pydantic import BaseModel\n",
    "from agents import RunContextWrapper, FunctionTool\n",
    "\n",
    "class FunctionArgs(BaseModel):\n",
    "    x: float = Field(description=\"The first number to multiply\")\n",
    "    y: float = Field(description=\"The second number to multiply\")\n",
    "\n",
    "    class Config:\n",
    "        extra = \"forbid\"  # This adds additionalProperties: False to the schema\n",
    "\n",
    "async def multiply_numbers(ctx: RunContextWrapper[Any], args: str) -> float:\n",
    "    parsed = FunctionArgs.model_validate_json(args)\n",
    "    return parsed.x * parsed.y\n",
    "\n",
    "multiply_tool = FunctionTool(\n",
    "    name=\"multiply_numbers\", # name of the tool\n",
    "    description=\"Multiplies two numbers\", # description of the tool\n",
    "    params_json_schema=FunctionArgs.model_json_schema(), # schema of the tool\n",
    "    on_invoke_tool=multiply_numbers, # function to call when the tool is invoked\n",
    ")"
   ]
  },
  {
   "cell_type": "markdown",
   "metadata": {},
   "source": [
    "Now we can check the properties of the tool to ensure it is defined correctly. \n",
    "\n",
    "Note, if you do not include the `Config` class, the `\"additionalProperties\": false` will not be included in the schema, and when the tool is invoked this will cause an error..."
   ]
  },
  {
   "cell_type": "code",
   "execution_count": 15,
   "metadata": {},
   "outputs": [
    {
     "name": "stdout",
     "output_type": "stream",
     "text": [
      "Name: multiply_numbers\n",
      "Description: Multiplies two numbers\n",
      "Params: {\n",
      "  \"additionalProperties\": false,\n",
      "  \"properties\": {\n",
      "    \"x\": {\n",
      "      \"description\": \"The first number to multiply\",\n",
      "      \"title\": \"X\",\n",
      "      \"type\": \"number\"\n",
      "    },\n",
      "    \"y\": {\n",
      "      \"description\": \"The second number to multiply\",\n",
      "      \"title\": \"Y\",\n",
      "      \"type\": \"number\"\n",
      "    }\n",
      "  },\n",
      "  \"required\": [\n",
      "    \"x\",\n",
      "    \"y\"\n",
      "  ],\n",
      "  \"title\": \"FunctionArgs\",\n",
      "  \"type\": \"object\"\n",
      "}\n"
     ]
    }
   ],
   "source": [
    "print(\"Name:\", multiply_tool.name)\n",
    "print(\"Description:\", multiply_tool.description)\n",
    "print(\"Params:\", json.dumps(multiply_tool.params_json_schema, indent=2))"
   ]
  },
  {
   "cell_type": "markdown",
   "metadata": {},
   "source": [
    "Now we are all set to define our agent and use the tool.\n",
    "\n",
    "This time we will use the same `Output_Class` as before to ensure the response is correct including the approach taken."
   ]
  },
  {
   "cell_type": "code",
   "execution_count": 16,
   "metadata": {},
   "outputs": [],
   "source": [
    "agent = Agent(\n",
    "    name=\"Multiply Agent\",\n",
    "    instructions=\"You are a multiply agent that multiplies two numbers always by using the tool.\",\n",
    "    tools=[multiply_tool],\n",
    "    model='gpt-4o',\n",
    "    output_type=Output_Class\n",
    ")"
   ]
  },
  {
   "cell_type": "markdown",
   "metadata": {},
   "source": [
    "As before we can define our query before using the `Runner` object to run the agent."
   ]
  },
  {
   "cell_type": "code",
   "execution_count": 18,
   "metadata": {},
   "outputs": [],
   "source": [
    "query = \"multiply 3.41 by 7.2\"\n",
    "\n",
    "result = await Runner.run(\n",
    "    starting_agent=agent,\n",
    "    input=query\n",
    ")"
   ]
  },
  {
   "cell_type": "markdown",
   "metadata": {},
   "source": [
    "Next we can print our final outputs to ensure the response is correct."
   ]
  },
  {
   "cell_type": "code",
   "execution_count": 19,
   "metadata": {},
   "outputs": [
    {
     "name": "stdout",
     "output_type": "stream",
     "text": [
      "Response: The result of multiplying 3.41 by 7.2 is 24.552.\n",
      "Approach Taken: I used the multiplication tool to compute the product of the two numbers, 3.41 and 7.2.\n"
     ]
    }
   ],
   "source": [
    "print(\"Response:\", result.final_output.response)\n",
    "print(\"Approach Taken:\", result.final_output.approach_taken)"
   ]
  },
  {
   "cell_type": "markdown",
   "metadata": {},
   "source": [
    "### Agents As Tools"
   ]
  },
  {
   "cell_type": "markdown",
   "metadata": {},
   "source": [
    "The last thing we will look at is how to use agents as tools, as the Agents SDK strongly encourages the use of handoffs and agents as tools to build more complex systems."
   ]
  },
  {
   "cell_type": "markdown",
   "metadata": {},
   "source": [
    "First we want to define our bottom level agents (in this case the \"tools\" we will use). For this example we will redefine the `time_agent` and `multiply_agent` from before."
   ]
  },
  {
   "cell_type": "code",
   "execution_count": 21,
   "metadata": {},
   "outputs": [],
   "source": [
    "multiply_agent = Agent(\n",
    "    name=\"Multiply Agent\",\n",
    "    instructions=\"\"\"You are a multiply agent that multiplies two numbers always by using the tool.\n",
    "    Make sure when returning your response you include the agent that provided the information \n",
    "    along with any additional tool calls used within the agent.\"\"\",\n",
    "    tools=[multiply_tool],\n",
    "    model='gpt-4o',\n",
    ")\n",
    "\n",
    "time_agent = Agent(\n",
    "    name=\"Time Agent\",\n",
    "    instructions=\"\"\"You are a time agent that fetches the current time.\n",
    "    Make sure when returning your response you include the agent that provided the information \n",
    "    along with any additional tool calls used within the agent.\"\"\",\n",
    "    tools=[fetch_time],\n",
    "    model='gpt-4o',\n",
    ")"
   ]
  },
  {
   "cell_type": "markdown",
   "metadata": {},
   "source": [
    "Next we can define our top level agent, the orchestrator agent. This agent will use the `multiply_agent` and `time_agent` as tools. \n",
    "\n",
    "We first need to import `asyncio` to ensure the agent can run asynchronously.\n",
    "\n",
    "Then when defining the orchestrator agent, we can use the `as_tool` method to add the `multiply_agent` and `time_agent` as tools to the orchestrator agent.\n",
    "\n",
    "Within the `as_tool` method, we can set the `tool_name` and `tool_description` parameters to the name and description of the tool for additional clarity.\n",
    "\n",
    "As before, we can set the `output_type` parameter to our `Output_Class` to ensure the response is correct."
   ]
  },
  {
   "cell_type": "code",
   "execution_count": 22,
   "metadata": {},
   "outputs": [],
   "source": [
    "orchestrator_agent = Agent(\n",
    "    name=\"Orchestrator Agent\",\n",
    "    instructions=\"\"\"\n",
    "    You are an orchestrator agent that uses the tools given to you to complete the user's query.\n",
    "    You have access to two tools, the `multiply_numbers_agent` tool and the `fetch_current_time_agent` tool.\n",
    "    \"\"\",\n",
    "    tools=[\n",
    "        multiply_agent.as_tool(\n",
    "            tool_name=\"multiply_numbers_agent\",\n",
    "            tool_description=\"Multiply two numbers\",\n",
    "        ),\n",
    "        time_agent.as_tool(\n",
    "            tool_name=\"fetch_current_time_agent\",\n",
    "            tool_description=\"Fetch the current time\",\n",
    "        ),\n",
    "    ],\n",
    "    model='gpt-4o',\n",
    "    output_type=Output_Class\n",
    ")"
   ]
  },
  {
   "cell_type": "markdown",
   "metadata": {},
   "source": [
    "Next we can define our query before using the `Runner` object to run the agent."
   ]
  },
  {
   "cell_type": "code",
   "execution_count": 23,
   "metadata": {},
   "outputs": [],
   "source": [
    "query = \"what time is it?\"\n",
    "\n",
    "result = await Runner.run(\n",
    "    starting_agent=orchestrator_agent,\n",
    "    input=query\n",
    ")"
   ]
  },
  {
   "cell_type": "markdown",
   "metadata": {},
   "source": [
    "Then finally we can print the response and approach taken by the agent."
   ]
  },
  {
   "cell_type": "code",
   "execution_count": 24,
   "metadata": {},
   "outputs": [
    {
     "name": "stdout",
     "output_type": "stream",
     "text": [
      "Response: The current time is 09:45:34 on April 10, 2025.\n",
      "Approach Taken: I used the `fetch_current_time_agent` tool to obtain the current time.\n"
     ]
    }
   ],
   "source": [
    "print(\"Response:\", result.final_output.response)\n",
    "print(\"Approach Taken:\", result.final_output.approach_taken)"
   ]
  },
  {
   "cell_type": "markdown",
   "metadata": {},
   "source": [
    "---"
   ]
  }
 ],
 "metadata": {
  "kernelspec": {
   "display_name": ".venv",
   "language": "python",
   "name": "python3"
  },
  "language_info": {
   "codemirror_mode": {
    "name": "ipython",
    "version": 3
   },
   "file_extension": ".py",
   "mimetype": "text/x-python",
   "name": "python",
   "nbconvert_exporter": "python",
   "pygments_lexer": "ipython3",
   "version": "3.12.7"
  }
 },
 "nbformat": 4,
 "nbformat_minor": 2
}
