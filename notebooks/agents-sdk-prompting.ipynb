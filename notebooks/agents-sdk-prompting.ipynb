{
 "cells": [
  {
   "cell_type": "markdown",
   "metadata": {},
   "source": [
    "#### Agents SDK Course"
   ]
  },
  {
   "cell_type": "markdown",
   "metadata": {},
   "source": [
    "## Prompting\n",
    "\n",
    "Like all LLM frameworks, Agents SDK provides a way to pass both user and system prompts to the LLM. As a basic example, we will dive into how to use this functionality"
   ]
  },
  {
   "cell_type": "markdown",
   "metadata": {},
   "source": [
    "Firstly we need to get a `OPENAI_API_KEY` set up, for this you will need to create an account on [OpenAI](https://platform.openai.com/api-keys) and grab your API key"
   ]
  },
  {
   "cell_type": "code",
   "execution_count": 2,
   "metadata": {},
   "outputs": [],
   "source": [
    "import os\n",
    "import getpass\n",
    "\n",
    "os.environ[\"OPENAI_API_KEY\"] = os.getenv(\"OPENAI_API_KEY\") \\\n",
    "    or getpass.getpass(\"OpenAI API Key: \")"
   ]
  },
  {
   "cell_type": "markdown",
   "metadata": {},
   "source": [
    "### Static Instructions"
   ]
  },
  {
   "cell_type": "markdown",
   "metadata": {},
   "source": [
    "First we need to create an agent, we will use the `Agent` class to create a basic agent.\n",
    "\n",
    "In each `Agent` object we have some fundamental parameters, those are:\n",
    "- `name`: The name of the agent\n",
    "- `instructions`: The system prompt for the agent\n",
    "- `model`: The model to use for the agent\n",
    "\n",
    "The `instructions` parameter is where we will pass our system prompt, this will be used to guide the behavior of the agent\n"
   ]
  },
  {
   "cell_type": "code",
   "execution_count": 3,
   "metadata": {},
   "outputs": [],
   "source": [
    "from agents import Agent # object class\n",
    "\n",
    "agent = Agent(\n",
    "    name=\"Agent\", # name of the agent\n",
    "    instructions=\"Speak like a pirate.\", # system prompt\n",
    "    model=\"gpt-4o\" # model to use\n",
    ")"
   ]
  },
  {
   "cell_type": "markdown",
   "metadata": {},
   "source": [
    "Now we want to run the agent, Agents SDK provides a `Runner` object that will allow us to run the agent\n",
    "\n",
    "However we need to use the `await` keyword to run the agent, this is because the `Runner` object is an asynchronous object\n",
    "\n",
    "In the `run` method we have the following parameters:\n",
    "- `starting_agent`: The agent to start the conversation with\n",
    "- `input`: The input to pass to the agent"
   ]
  },
  {
   "cell_type": "code",
   "execution_count": 4,
   "metadata": {},
   "outputs": [],
   "source": [
    "from agents import Runner # object class\n",
    "\n",
    "result = await Runner.run(\n",
    "    starting_agent=agent, # agent to start the conversation with\n",
    "    input=\"Write a one-sentence poem.\" # input to pass to the agent\n",
    ")"
   ]
  },
  {
   "cell_type": "markdown",
   "metadata": {},
   "source": [
    "From our instructions *'Speak like a pirate.'* and our input *'Write a one-sentence poem.'* the agent will generate a response which we'd hope would be a one-sentence poem spoken like a pirate"
   ]
  },
  {
   "cell_type": "code",
   "execution_count": 5,
   "metadata": {},
   "outputs": [
    {
     "name": "stdout",
     "output_type": "stream",
     "text": [
      "Result: Upon the briny deep, where the sea dogs roam, a heart's treasure finds its home.\n"
     ]
    }
   ],
   "source": [
    "print(\"Result:\", result.final_output)"
   ]
  },
  {
   "cell_type": "markdown",
   "metadata": {},
   "source": [
    "### Dynamic Instructions"
   ]
  },
  {
   "cell_type": "markdown",
   "metadata": {},
   "source": [
    "Now we can take this a step further and pass a dynamic system prompt to the agent. Meaning we can adjust the functionallity of the agent by passing different instructions\n",
    "\n",
    "Firstly we need to create a function that will return a string based on the input to said function (Both regular and async functions are supported)"
   ]
  },
  {
   "cell_type": "code",
   "execution_count": 6,
   "metadata": {},
   "outputs": [],
   "source": [
    "from datetime import datetime\n",
    "from agents import RunContextWrapper\n",
    "\n",
    "def time_based_instructions(\n",
    "    context: RunContextWrapper, \n",
    "    agent: Agent\n",
    ") -> str:\n",
    "    time = datetime.now().strftime(\"%H:%M:%S\")\n",
    "    return f\"The current time is {time}. if this time is between 12:00 and 18:00, speak like a pirate. otherwise speak like a normal person.\""
   ]
  },
  {
   "cell_type": "markdown",
   "metadata": {},
   "source": [
    "Next we need to redefine our previously created agent, this time we will swap our instructions parameter for our time_based_instructions function"
   ]
  },
  {
   "cell_type": "code",
   "execution_count": 7,
   "metadata": {},
   "outputs": [],
   "source": [
    "agent = Agent(\n",
    "    name=\"Time Agent\",\n",
    "    instructions=time_based_instructions, # Pass the function itself, not calling it which makes it dynamic\n",
    "    model=\"gpt-4o\"\n",
    ")"
   ]
  },
  {
   "cell_type": "markdown",
   "metadata": {},
   "source": [
    "Then using the `Runner` object we can test our dynamic instructions"
   ]
  },
  {
   "cell_type": "code",
   "execution_count": 8,
   "metadata": {},
   "outputs": [],
   "source": [
    "result = await Runner.run(\n",
    "    starting_agent=agent,\n",
    "    input=\"Hello, what time is it?\"\n",
    ")"
   ]
  },
  {
   "cell_type": "markdown",
   "metadata": {},
   "source": [
    "For this function to be `dynamic` you can see that when asking the time, the agent will return a different response based on the time of day without having to re-initialize the agent"
   ]
  },
  {
   "cell_type": "code",
   "execution_count": 9,
   "metadata": {},
   "outputs": [
    {
     "name": "stdout",
     "output_type": "stream",
     "text": [
      "Result: Ahoy! The time be 07:36:04. Arrr!\n"
     ]
    }
   ],
   "source": [
    "print(\"Result:\", result.final_output)"
   ]
  },
  {
   "cell_type": "markdown",
   "metadata": {},
   "source": [
    "---"
   ]
  }
 ],
 "metadata": {
  "kernelspec": {
   "display_name": ".venv",
   "language": "python",
   "name": "python3"
  },
  "language_info": {
   "codemirror_mode": {
    "name": "ipython",
    "version": 3
   },
   "file_extension": ".py",
   "mimetype": "text/x-python",
   "name": "python",
   "nbconvert_exporter": "python",
   "pygments_lexer": "ipython3",
   "version": "3.12.7"
  }
 },
 "nbformat": 4,
 "nbformat_minor": 2
}
