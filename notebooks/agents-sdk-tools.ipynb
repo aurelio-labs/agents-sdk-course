{
 "cells": [
  {
   "cell_type": "markdown",
   "metadata": {},
   "source": [
    "#### Agents SDK Course"
   ]
  },
  {
   "cell_type": "markdown",
   "metadata": {},
   "source": [
    "## Tools\n",
    "\n",
    "Like all LLM frameworks, Agents SDK provides a way to pass both user and system prompts to the LLM. As a basic example, we will dive into how to use this functionality"
   ]
  },
  {
   "cell_type": "markdown",
   "metadata": {},
   "source": [
    "Firstly we need to get a `OPENAI_API_KEY` set up, for this you will need to create an account on [OpenAI](https://platform.openai.com/api-keys) and grab your API key"
   ]
  },
  {
   "cell_type": "code",
   "execution_count": 3,
   "metadata": {},
   "outputs": [],
   "source": [
    "import os\n",
    "import getpass\n",
    "\n",
    "os.environ[\"OPENAI_API_KEY\"] = os.getenv(\"OPENAI_API_KEY\") or getpass.getpass(\"OpenAI API Key: \")"
   ]
  },
  {
   "cell_type": "markdown",
   "metadata": {},
   "source": [
    "### Pre-Packaged Tools"
   ]
  },
  {
   "cell_type": "markdown",
   "metadata": {},
   "source": [
    "The Agents SDK team provides us with a few pre-packaged tools that can be used to help with common tasks, these include:\n",
    "- The `WebSearchTool` lets an agent search the web.\n",
    "- The `FileSearchTool` allows retrieving information from your OpenAI Vector Stores.\n",
    "- The `ComputerTool` allows automating computer use tasks.\n",
    "\n",
    "We can start by creating an agent that uses the `WebSearchTool` to search the web. To do this we need to define an agent with the `tools` parameter set to a list containing the `WebSearchTool` object."
   ]
  },
  {
   "cell_type": "code",
   "execution_count": 24,
   "metadata": {},
   "outputs": [],
   "source": [
    "from agents import Agent, WebSearchTool\n",
    "\n",
    "agent = Agent(\n",
    "    name=\"Web Search Agent\",\n",
    "    instructions=\"You are a web search agent that searches the web for information on the user's query.\",\n",
    "    tools=[\n",
    "        WebSearchTool()\n",
    "    ],\n",
    "    model='gpt-4o'\n",
    ")"
   ]
  },
  {
   "cell_type": "markdown",
   "metadata": {},
   "source": [
    "We can look at the tools that are currently available to our agent via the `tools` attribute connected to our agent object."
   ]
  },
  {
   "cell_type": "code",
   "execution_count": 32,
   "metadata": {},
   "outputs": [
    {
     "data": {
      "text/plain": [
       "[WebSearchTool(user_location=None, search_context_size='medium')]"
      ]
     },
     "execution_count": 32,
     "metadata": {},
     "output_type": "execute_result"
    }
   ],
   "source": [
    "agent.tools"
   ]
  },
  {
   "cell_type": "markdown",
   "metadata": {},
   "source": [
    "Now we can use the `Runner` object to run the agent, asking specifically for the up-to-date information on weather or news related topics that require a web search."
   ]
  },
  {
   "cell_type": "code",
   "execution_count": 40,
   "metadata": {},
   "outputs": [],
   "source": [
    "from agents import Runner \n",
    "\n",
    "query = \"What are the current headlines in the news?\"\n",
    "\n",
    "result = await Runner.run(\n",
    "    starting_agent=agent,\n",
    "    input=query\n",
    ")"
   ]
  },
  {
   "cell_type": "markdown",
   "metadata": {},
   "source": [
    "As we can see, the agent can successfully search the web and return the results, however, if the response can sometimes be out-of-date, due to the LLM thinking that the current date is earlier than it actually is."
   ]
  },
  {
   "cell_type": "code",
   "execution_count": 41,
   "metadata": {},
   "outputs": [
    {
     "name": "stdout",
     "output_type": "stream",
     "text": [
      "Here are some of the latest news headlines as of March 30, 2025:\n",
      "\n",
      "**Politics:**\n",
      "\n",
      "- **Top Trump Officials' Signal Blunder Becomes Major News Story**: An inadvertent error by Trump officials, involving the sharing of sensitive military information in a Signal chat, has become a significant global news story. The Atlantic editor was mistakenly invited to the chat, revealing details about a military strike. This incident, dubbed #SignalGate, has gained unprecedented global traction. ([axios.com](https://www.axios.com/2025/03/25/atlantic-story-war-plans-trump-hegseth?utm_source=openai))\n",
      "\n",
      "- **Federal Prosecutors Uncover Additional Criminal Conduct by NYC Mayor Eric Adams**: Federal prosecutors have reported discovering further criminal activities involving New York City Mayor Eric Adams. ([nbcnews.com](https://www.nbcnews.com/?utm_source=openai))\n",
      "\n",
      "**International:**\n",
      "\n",
      "- **UN Reports Over 900 Executions in Iran in 2024**: The United Nations has reported that Iran executed over 900 people in 2024, including dozens of women. ([nbcnews.com](https://www.nbcnews.com/?utm_source=openai))\n",
      "\n",
      "- **US Accuses Sudan's Rebels of Genocide, Imposes Sanctions**: The United States has accused Sudan's rebels of committing genocide and has imposed sanctions on their leaders. ([nbcnews.com](https://www.nbcnews.com/?utm_source=openai))\n",
      "\n",
      "**Technology:**\n",
      "\n",
      "- **Meta's Moderation Rollback Sparks Mixed Reactions**: Meta's recent rollback of content moderation policies has led to both celebration and despair among users and advocacy groups. ([nbcnews.com](https://www.nbcnews.com/?utm_source=openai))\n",
      "\n",
      "**Science:**\n",
      "\n",
      "- **NASA Overhauls Plan to Bring Mars Samples Back to Earth**: NASA has announced an overhaul of its plan to retrieve samples from Mars, aiming to address technical challenges and ensure mission success. ([nbcnews.com](https://www.nbcnews.com/?utm_source=openai))\n",
      "\n",
      "Please note that news developments are continually evolving. For the most current information, refer to reputable news sources. \n"
     ]
    }
   ],
   "source": [
    "print(result.final_output)"
   ]
  },
  {
   "cell_type": "markdown",
   "metadata": {},
   "source": [
    "### Custom Tools"
   ]
  },
  {
   "cell_type": "markdown",
   "metadata": {},
   "source": [
    "Now although the pre-packaged tools are useful, for specific tasks we need specific tools tailored to the problem we are trying to solve. To do this, we need to create our own custom tools."
   ]
  },
  {
   "cell_type": "markdown",
   "metadata": {},
   "source": [
    "We can start by creating a tool that fetches the current time.\n",
    "\n",
    "First we need to import the `function_tool` decorator from the `agents` module.\n",
    "\n",
    "Then we need to define our function, this needs to be an async function for the agent to work.\n",
    "\n",
    "Then using the `function_tool` decorator, we can create a tool from our function."
   ]
  },
  {
   "cell_type": "code",
   "execution_count": 34,
   "metadata": {},
   "outputs": [],
   "source": [
    "from agents import function_tool\n",
    "from datetime import datetime\n",
    "\n",
    "@function_tool(name_override=\"fetch_current_time\")\n",
    "async def fetch_time() -> str:\n",
    "    \"\"\"Fetch the current time.\"\"\"\n",
    "    return datetime.now().strftime(\"%Y-%m-%d %H:%M:%S\")\n"
   ]
  },
  {
   "cell_type": "markdown",
   "metadata": {},
   "source": [
    "We can check if the `fetch_time` object is a `FunctionTool` object by using the `isinstance` function."
   ]
  },
  {
   "cell_type": "code",
   "execution_count": 44,
   "metadata": {},
   "outputs": [
    {
     "name": "stdout",
     "output_type": "stream",
     "text": [
      "This is a FunctionTool object\n"
     ]
    }
   ],
   "source": [
    "from agents import FunctionTool\n",
    "\n",
    "if isinstance(fetch_time, FunctionTool):\n",
    "    print(\"This is a FunctionTool object\")"
   ]
  },
  {
   "cell_type": "markdown",
   "metadata": {},
   "source": [
    "As this is now a `FunctionTool` object, we can print out specific properties of the tool.\n",
    "\n",
    "The `name` property might be slightly different to the name we defined in the function, this is because the `function_tool` decorator has a `name_override` parameter that we can use to override the name of the tool.\n",
    "\n",
    "The `description` attribute is the first line of the docstring of the function.\n",
    "\n",
    "The `params_json_schema` attribute is the JSON schema for the parameters of the tool."
   ]
  },
  {
   "cell_type": "code",
   "execution_count": 39,
   "metadata": {},
   "outputs": [
    {
     "name": "stdout",
     "output_type": "stream",
     "text": [
      "Name:  fetch_current_time\n",
      "Description:  Fetch the current time.\n",
      "Params:  {\n",
      "  \"properties\": {},\n",
      "  \"title\": \"fetch_current_time_args\",\n",
      "  \"type\": \"object\",\n",
      "  \"additionalProperties\": false,\n",
      "  \"required\": []\n",
      "}\n"
     ]
    }
   ],
   "source": [
    "import json\n",
    "\n",
    "print(\"Name:\", fetch_time.name)\n",
    "print(\"Description:\", fetch_time.description)\n",
    "print(\"Params:\", json.dumps(fetch_time.params_json_schema, indent=2))"
   ]
  },
  {
   "cell_type": "markdown",
   "metadata": {},
   "source": [
    "We want to test our agent, but first we need to define an output class that the agent will use to return its response. This way we can ensure the response is correct as well as the approach taken to get the response.\n",
    "\n",
    "For this, we will use the `BaseModel` class from `pydantic` and the `Field` class to define the response and approach taken."
   ]
  },
  {
   "cell_type": "code",
   "execution_count": 45,
   "metadata": {},
   "outputs": [],
   "source": [
    "from pydantic import BaseModel, Field\n",
    "\n",
    "class Output_Class(BaseModel):\n",
    "    response: str = Field(\n",
    "        description=\"The agent's response to the user's query\"\n",
    "    )\n",
    "    approach_taken: str = Field(\n",
    "        description=\"The method or strategy the agent used to arrive at the response\"\n",
    "    )"
   ]
  },
  {
   "cell_type": "markdown",
   "metadata": {},
   "source": [
    "Now we can define our agent, with the only difference being the `output_type` parameter set to our `Output_Class`."
   ]
  },
  {
   "cell_type": "code",
   "execution_count": 46,
   "metadata": {},
   "outputs": [],
   "source": [
    "agent = Agent(\n",
    "    name=\"Time Agent\",\n",
    "    instructions=\"You are a time agent that fetches the current time.\",\n",
    "    tools=[fetch_time],\n",
    "    model='gpt-4o',\n",
    "    output_type=Output_Class\n",
    ")"
   ]
  },
  {
   "cell_type": "markdown",
   "metadata": {},
   "source": [
    "Now as before we will use the `Runner` object to run the agent."
   ]
  },
  {
   "cell_type": "code",
   "execution_count": 49,
   "metadata": {},
   "outputs": [],
   "source": [
    "query = \"What is the current time?\"\n",
    "\n",
    "result = await Runner.run(\n",
    "    starting_agent=agent,\n",
    "    input=query\n",
    ")"
   ]
  },
  {
   "cell_type": "markdown",
   "metadata": {},
   "source": [
    "This time we have a slightly different output due to our `Output_Class` definition. Instead of a simple string, we have a dictionary with two outputs, the `response` and the `approach_taken`.\n",
    "\n",
    "If the agent worked as expected, we should see the correct time, and the approach should mention the use of the `fetch_time` tool."
   ]
  },
  {
   "cell_type": "code",
   "execution_count": 51,
   "metadata": {},
   "outputs": [
    {
     "name": "stdout",
     "output_type": "stream",
     "text": [
      "Response: The current time is 13:26 on March 30, 2025.\n",
      "Approach Taken: Used the `fetch_current_time` function to retrieve the current date and time.\n"
     ]
    }
   ],
   "source": [
    "print(\"Response:\", result.final_output.response)\n",
    "print(\"Approach Taken:\", result.final_output.approach_taken)"
   ]
  },
  {
   "cell_type": "markdown",
   "metadata": {},
   "source": [
    "We have just defined a tool using the `function_tool` decorator, but we can also define tools using the `FunctionTool` object.\n",
    "\n",
    "When defining the tool this way, we need to ensure that the `params_json_schema` attribute has a `additionalProperties` key set to `False`. By default this will not be included in the schema, so we add a `Config` class to the `FunctionTool` object with the `extra` parameter set to `\"forbid\"` to force the schema to include it."
   ]
  },
  {
   "cell_type": "code",
   "execution_count": 95,
   "metadata": {},
   "outputs": [],
   "source": [
    "from typing import Any\n",
    "from pydantic import BaseModel\n",
    "from agents import RunContextWrapper, FunctionTool\n",
    "\n",
    "class FunctionArgs(BaseModel):\n",
    "    x: float = Field(description=\"The first number to multiply\")\n",
    "    y: float = Field(description=\"The second number to multiply\")\n",
    "\n",
    "    class Config:\n",
    "        extra = \"forbid\"  # This adds additionalProperties: False to the schema\n",
    "\n",
    "async def multiply_numbers(ctx: RunContextWrapper[Any], args: str) -> float:\n",
    "    parsed = FunctionArgs.model_validate_json(args)\n",
    "    return parsed.x * parsed.y\n",
    "\n",
    "multiply_tool = FunctionTool(\n",
    "    name=\"multiply_numbers\", # name of the tool\n",
    "    description=\"Multiplies two numbers\", # description of the tool\n",
    "    params_json_schema=FunctionArgs.model_json_schema(), # schema of the tool\n",
    "    on_invoke_tool=multiply_numbers, # function to call when the tool is invoked\n",
    ")"
   ]
  },
  {
   "cell_type": "markdown",
   "metadata": {},
   "source": [
    "Now we can check the properties of the tool to ensure it is defined correctly. \n",
    "\n",
    "Note, if you do not include the `Config` class, the `\"additionalProperties\": false` will not be included in the schema, and when the tool is invoked this will cause an error..."
   ]
  },
  {
   "cell_type": "code",
   "execution_count": 104,
   "metadata": {},
   "outputs": [
    {
     "name": "stdout",
     "output_type": "stream",
     "text": [
      "Name: multiply_numbers\n",
      "Description: Multiplies two numbers\n",
      "Params: {\n",
      "  \"additionalProperties\": false,\n",
      "  \"properties\": {\n",
      "    \"x\": {\n",
      "      \"description\": \"The first number to multiply\",\n",
      "      \"title\": \"X\",\n",
      "      \"type\": \"number\"\n",
      "    },\n",
      "    \"y\": {\n",
      "      \"description\": \"The second number to multiply\",\n",
      "      \"title\": \"Y\",\n",
      "      \"type\": \"number\"\n",
      "    }\n",
      "  },\n",
      "  \"required\": [\n",
      "    \"x\",\n",
      "    \"y\"\n",
      "  ],\n",
      "  \"title\": \"FunctionArgs\",\n",
      "  \"type\": \"object\"\n",
      "}\n"
     ]
    }
   ],
   "source": [
    "print(\"Name:\", multiply_tool.name)\n",
    "print(\"Description:\", multiply_tool.description)\n",
    "print(\"Params:\", json.dumps(multiply_tool.params_json_schema, indent=2))"
   ]
  },
  {
   "cell_type": "markdown",
   "metadata": {},
   "source": [
    "Now we are all set to define our agent and use the tool.\n",
    "\n",
    "This time we will use the same `Output_Class` as before to ensure the response is correct including the approach taken."
   ]
  },
  {
   "cell_type": "code",
   "execution_count": 105,
   "metadata": {},
   "outputs": [],
   "source": [
    "agent = Agent(\n",
    "    name=\"Multiply Agent\",\n",
    "    instructions=\"You are a multiply agent that multiplies two numbers always by using the tool.\",\n",
    "    tools=[multiply_tool],\n",
    "    model='gpt-4o',\n",
    "    output_type=Output_Class\n",
    ")"
   ]
  },
  {
   "cell_type": "markdown",
   "metadata": {},
   "source": [
    "As before we can define our query before using the `Runner` object to run the agent."
   ]
  },
  {
   "cell_type": "code",
   "execution_count": 106,
   "metadata": {},
   "outputs": [],
   "source": [
    "query = \"multiply 6 and 9\"\n",
    "\n",
    "result = await Runner.run(\n",
    "    starting_agent=agent,\n",
    "    input=query\n",
    ")"
   ]
  },
  {
   "cell_type": "markdown",
   "metadata": {},
   "source": [
    "Next we can print our final outputs to ensure the response is correct."
   ]
  },
  {
   "cell_type": "code",
   "execution_count": 107,
   "metadata": {},
   "outputs": [
    {
     "name": "stdout",
     "output_type": "stream",
     "text": [
      "Response: The product of 6 and 9 is 54.\n",
      "Approach Taken: I used the multiply_numbers tool to compute the product of 6 and 9.\n"
     ]
    }
   ],
   "source": [
    "print(\"Response:\", result.final_output.response)\n",
    "print(\"Approach Taken:\", result.final_output.approach_taken)"
   ]
  },
  {
   "cell_type": "markdown",
   "metadata": {},
   "source": [
    "### Agents As Tools"
   ]
  },
  {
   "cell_type": "markdown",
   "metadata": {},
   "source": [
    "The last thing we will look at is how to use agents as tools, as the Agents SDK strongly encourages the use of handoffs and agents as tools to build more complex systems."
   ]
  },
  {
   "cell_type": "markdown",
   "metadata": {},
   "source": [
    "First we want to define our bottom level agents (in this case the \"tools\" we will use). For this example we will redefine the `time_agent` and `multiply_agent` from before."
   ]
  },
  {
   "cell_type": "code",
   "execution_count": 140,
   "metadata": {},
   "outputs": [],
   "source": [
    "multiply_agent = Agent(\n",
    "    name=\"Multiply Agent\",\n",
    "    instructions=\"\"\"You are a multiply agent that multiplies two numbers always by using the tool.\n",
    "    Make sure when returning your response you include the agent that provided the information \n",
    "    along with any additional tool calls used within the agent.\"\"\",\n",
    "    tools=[multiply_tool],\n",
    "    model='gpt-4o',\n",
    ")\n",
    "\n",
    "time_agent = Agent(\n",
    "    name=\"Time Agent\",\n",
    "    instructions=\"\"\"You are a time agent that fetches the current time.\n",
    "    Make sure when returning your response you include the agent that provided the information \n",
    "    along with any additional tool calls used within the agent.\"\"\",\n",
    "    tools=[fetch_time],\n",
    "    model='gpt-4o',\n",
    ")"
   ]
  },
  {
   "cell_type": "markdown",
   "metadata": {},
   "source": [
    "Next we can define our top level agent, the orchestrator agent. This agent will use the `multiply_agent` and `time_agent` as tools. \n",
    "\n",
    "We first need to import `asyncio` to ensure the agent can run asynchronously.\n",
    "\n",
    "Then when defining the orchestrator agent, we can use the `as_tool` method to add the `multiply_agent` and `time_agent` as tools to the orchestrator agent.\n",
    "\n",
    "Within the `as_tool` method, we can set the `tool_name` and `tool_description` parameters to the name and description of the tool for additional clarity.\n",
    "\n",
    "As before, we can set the `output_type` parameter to our `Output_Class` to ensure the response is correct."
   ]
  },
  {
   "cell_type": "code",
   "execution_count": 141,
   "metadata": {},
   "outputs": [],
   "source": [
    "import asyncio\n",
    "\n",
    "orchestrator_agent = Agent(\n",
    "    name=\"Orchestrator Agent\",\n",
    "    instructions=\"\"\"\n",
    "    You are an orchestrator agent that uses the tools given to you to complete the user's query.\n",
    "    You have access to two tools, the `multiply_numbers_agent` tool and the `fetch_current_time_agent` tool.\n",
    "    \"\"\",\n",
    "    tools=[\n",
    "        multiply_agent.as_tool(\n",
    "            tool_name=\"multiply_numbers_agent\",\n",
    "            tool_description=\"Multiply two numbers\",\n",
    "        ),\n",
    "        time_agent.as_tool(\n",
    "            tool_name=\"fetch_current_time_agent\",\n",
    "            tool_description=\"Fetch the current time\",\n",
    "        ),\n",
    "    ],\n",
    "    model='gpt-4o',\n",
    "    output_type=Output_Class\n",
    ")"
   ]
  },
  {
   "cell_type": "markdown",
   "metadata": {},
   "source": [
    "Next we can define our query before using the `Runner` object to run the agent."
   ]
  },
  {
   "cell_type": "code",
   "execution_count": 142,
   "metadata": {},
   "outputs": [],
   "source": [
    "query = \"what time is it?\"\n",
    "\n",
    "result = await Runner.run(\n",
    "    starting_agent=orchestrator_agent,\n",
    "    input=query\n",
    ")"
   ]
  },
  {
   "cell_type": "markdown",
   "metadata": {},
   "source": [
    "Then finally we can print the response and approach taken by the agent."
   ]
  },
  {
   "cell_type": "code",
   "execution_count": 143,
   "metadata": {},
   "outputs": [
    {
     "name": "stdout",
     "output_type": "stream",
     "text": [
      "Response: The current time is 11:57 AM on March 31, 2025.\n",
      "Approach Taken: I used the `fetch_current_time_agent` tool to retrieve the current time and provided the result directly to the user.\n"
     ]
    }
   ],
   "source": [
    "print(\"Response:\", result.final_output.response)\n",
    "print(\"Approach Taken:\", result.final_output.approach_taken)"
   ]
  }
 ],
 "metadata": {
  "kernelspec": {
   "display_name": ".venv",
   "language": "python",
   "name": "python3"
  },
  "language_info": {
   "codemirror_mode": {
    "name": "ipython",
    "version": 3
   },
   "file_extension": ".py",
   "mimetype": "text/x-python",
   "name": "python",
   "nbconvert_exporter": "python",
   "pygments_lexer": "ipython3",
   "version": "3.12.7"
  }
 },
 "nbformat": 4,
 "nbformat_minor": 2
}
